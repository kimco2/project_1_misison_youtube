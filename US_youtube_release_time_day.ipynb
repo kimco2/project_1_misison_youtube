{
 "cells": [
  {
   "cell_type": "code",
   "execution_count": 1898,
   "metadata": {},
   "outputs": [],
   "source": [
    "# Dependencies\n",
    "import pandas as pd\n",
    "import scipy.stats as st\n",
    "import numpy as np\n",
    "import json\n",
    "import matplotlib.pyplot as plt"
   ]
  },
  {
   "cell_type": "code",
   "execution_count": 1899,
   "metadata": {},
   "outputs": [],
   "source": [
    "cleaned_us_data_df = \"output/cleaned_us_data.csv\""
   ]
  },
  {
   "cell_type": "code",
   "execution_count": 1900,
   "metadata": {},
   "outputs": [],
   "source": [
    "cleaned_us_data_df = pd.read_csv(cleaned_us_data_df)"
   ]
  },
  {
   "cell_type": "code",
   "execution_count": 1901,
   "metadata": {},
   "outputs": [
    {
     "data": {
      "text/plain": [
       "Index(['video_id', 'trending_date', 'title', 'channel_title', 'category_id',\n",
       "       'publish_time', 'tags', 'views', 'likes', 'dislikes', 'comment_count',\n",
       "       'thumbnail_link', 'comments_disabled', 'ratings_disabled',\n",
       "       'video_error_or_removed', 'description', 'category_name',\n",
       "       'trending_date_formatted', 'trending_day', 'trending_month',\n",
       "       'trending_year', 'trending_date_formatted_order',\n",
       "       'publish_time_formatted', 'publish_day', 'publish_month',\n",
       "       'publish_year', 'tag_count'],\n",
       "      dtype='object')"
      ]
     },
     "execution_count": 1901,
     "metadata": {},
     "output_type": "execute_result"
    }
   ],
   "source": [
    "cleaned_us_data_df.columns"
   ]
  },
  {
   "cell_type": "code",
   "execution_count": 1902,
   "metadata": {},
   "outputs": [
    {
     "data": {
      "text/plain": [
       "6347"
      ]
     },
     "execution_count": 1902,
     "metadata": {},
     "output_type": "execute_result"
    }
   ],
   "source": [
    "cleaned_us_data_df[\"video_id\"].nunique()"
   ]
  },
  {
   "cell_type": "code",
   "execution_count": 1903,
   "metadata": {},
   "outputs": [
    {
     "data": {
      "text/plain": [
       "j4KvrAUjn6c    30\n",
       "8h--kFui1JA    29\n",
       "r-3iathMo7o    29\n",
       "MAjY8mCTXWk    29\n",
       "t4pRQ0jn23Q    29\n",
       "               ..\n",
       "oxSlLYC_Exw     1\n",
       "0devsSCkYRY     1\n",
       "pA5NbgdpRpk     1\n",
       "ttf_EzEkxBk     1\n",
       "cJHA4lLp32M     1\n",
       "Name: video_id, Length: 6347, dtype: int64"
      ]
     },
     "execution_count": 1903,
     "metadata": {},
     "output_type": "execute_result"
    }
   ],
   "source": [
    "video_trend_frequency = (cleaned_us_data_df[\"video_id\"].value_counts())\n",
    "video_trend_frequency"
   ]
  },
  {
   "cell_type": "code",
   "execution_count": 1904,
   "metadata": {},
   "outputs": [
    {
     "data": {
      "text/html": [
       "<div>\n",
       "<style scoped>\n",
       "    .dataframe tbody tr th:only-of-type {\n",
       "        vertical-align: middle;\n",
       "    }\n",
       "\n",
       "    .dataframe tbody tr th {\n",
       "        vertical-align: top;\n",
       "    }\n",
       "\n",
       "    .dataframe thead th {\n",
       "        text-align: right;\n",
       "    }\n",
       "</style>\n",
       "<table border=\"1\" class=\"dataframe\">\n",
       "  <thead>\n",
       "    <tr style=\"text-align: right;\">\n",
       "      <th></th>\n",
       "      <th>video_id</th>\n",
       "    </tr>\n",
       "  </thead>\n",
       "  <tbody>\n",
       "    <tr>\n",
       "      <th>j4KvrAUjn6c</th>\n",
       "      <td>30</td>\n",
       "    </tr>\n",
       "    <tr>\n",
       "      <th>8h--kFui1JA</th>\n",
       "      <td>29</td>\n",
       "    </tr>\n",
       "    <tr>\n",
       "      <th>r-3iathMo7o</th>\n",
       "      <td>29</td>\n",
       "    </tr>\n",
       "    <tr>\n",
       "      <th>MAjY8mCTXWk</th>\n",
       "      <td>29</td>\n",
       "    </tr>\n",
       "    <tr>\n",
       "      <th>t4pRQ0jn23Q</th>\n",
       "      <td>29</td>\n",
       "    </tr>\n",
       "    <tr>\n",
       "      <th>QBL8IRJ5yHU</th>\n",
       "      <td>29</td>\n",
       "    </tr>\n",
       "    <tr>\n",
       "      <th>iILJvqrAQ_w</th>\n",
       "      <td>29</td>\n",
       "    </tr>\n",
       "    <tr>\n",
       "      <th>NBSAQenU2Bk</th>\n",
       "      <td>29</td>\n",
       "    </tr>\n",
       "    <tr>\n",
       "      <th>vjSohj-Iclc</th>\n",
       "      <td>28</td>\n",
       "    </tr>\n",
       "    <tr>\n",
       "      <th>ulNswX3If6U</th>\n",
       "      <td>28</td>\n",
       "    </tr>\n",
       "    <tr>\n",
       "      <th>mdWcaWBxxcY</th>\n",
       "      <td>28</td>\n",
       "    </tr>\n",
       "    <tr>\n",
       "      <th>YI3tsmFsrOg</th>\n",
       "      <td>28</td>\n",
       "    </tr>\n",
       "    <tr>\n",
       "      <th>2PH7dK6SLC8</th>\n",
       "      <td>28</td>\n",
       "    </tr>\n",
       "    <tr>\n",
       "      <th>UfKmSfgFxi8</th>\n",
       "      <td>28</td>\n",
       "    </tr>\n",
       "    <tr>\n",
       "      <th>6S9c5nnDd_s</th>\n",
       "      <td>28</td>\n",
       "    </tr>\n",
       "    <tr>\n",
       "      <th>WIV3xNz8NoM</th>\n",
       "      <td>28</td>\n",
       "    </tr>\n",
       "    <tr>\n",
       "      <th>0zZ0Y_UZRBw</th>\n",
       "      <td>27</td>\n",
       "    </tr>\n",
       "    <tr>\n",
       "      <th>nRc0kmOYgzQ</th>\n",
       "      <td>27</td>\n",
       "    </tr>\n",
       "    <tr>\n",
       "      <th>BspHjvU11y4</th>\n",
       "      <td>27</td>\n",
       "    </tr>\n",
       "    <tr>\n",
       "      <th>6SuMbFuKDf8</th>\n",
       "      <td>27</td>\n",
       "    </tr>\n",
       "  </tbody>\n",
       "</table>\n",
       "</div>"
      ],
      "text/plain": [
       "             video_id\n",
       "j4KvrAUjn6c        30\n",
       "8h--kFui1JA        29\n",
       "r-3iathMo7o        29\n",
       "MAjY8mCTXWk        29\n",
       "t4pRQ0jn23Q        29\n",
       "QBL8IRJ5yHU        29\n",
       "iILJvqrAQ_w        29\n",
       "NBSAQenU2Bk        29\n",
       "vjSohj-Iclc        28\n",
       "ulNswX3If6U        28\n",
       "mdWcaWBxxcY        28\n",
       "YI3tsmFsrOg        28\n",
       "2PH7dK6SLC8        28\n",
       "UfKmSfgFxi8        28\n",
       "6S9c5nnDd_s        28\n",
       "WIV3xNz8NoM        28\n",
       "0zZ0Y_UZRBw        27\n",
       "nRc0kmOYgzQ        27\n",
       "BspHjvU11y4        27\n",
       "6SuMbFuKDf8        27"
      ]
     },
     "execution_count": 1904,
     "metadata": {},
     "output_type": "execute_result"
    }
   ],
   "source": [
    "video_frequency = pd.DataFrame(video_trend_frequency)\n",
    "video_frequency.head(20)"
   ]
  },
  {
   "cell_type": "code",
   "execution_count": 1905,
   "metadata": {},
   "outputs": [],
   "source": [
    "cleaned_us_data_df.set_index(\"video_id\", inplace=True)"
   ]
  },
  {
   "cell_type": "markdown",
   "metadata": {},
   "source": [
    "\"mdWcaWBxxcY\", \"YI3tsmFsrOg\", \"2PH7dK6SLC8\",\"UfKmSfgFxi8\",\"6S9c5nnDd_s\",\"WIV3xNz8NoM\", \"0zZ0Y_UZRBw\", \"nRc0kmOYgzQ\",\"BspHjvU11y4\",\"6SuMbFuKDf8\"\n"
   ]
  },
  {
   "cell_type": "code",
   "execution_count": 1906,
   "metadata": {},
   "outputs": [
    {
     "data": {
      "text/html": [
       "<div>\n",
       "<style scoped>\n",
       "    .dataframe tbody tr th:only-of-type {\n",
       "        vertical-align: middle;\n",
       "    }\n",
       "\n",
       "    .dataframe tbody tr th {\n",
       "        vertical-align: top;\n",
       "    }\n",
       "\n",
       "    .dataframe thead th {\n",
       "        text-align: right;\n",
       "    }\n",
       "</style>\n",
       "<table border=\"1\" class=\"dataframe\">\n",
       "  <thead>\n",
       "    <tr style=\"text-align: right;\">\n",
       "      <th></th>\n",
       "      <th>category_name</th>\n",
       "      <th>publish_time_formatted</th>\n",
       "      <th>publish_day</th>\n",
       "      <th>publish_month</th>\n",
       "      <th>trending_date_formatted_order</th>\n",
       "      <th>trending_day</th>\n",
       "      <th>trending_month</th>\n",
       "    </tr>\n",
       "    <tr>\n",
       "      <th>video_id</th>\n",
       "      <th></th>\n",
       "      <th></th>\n",
       "      <th></th>\n",
       "      <th></th>\n",
       "      <th></th>\n",
       "      <th></th>\n",
       "      <th></th>\n",
       "    </tr>\n",
       "  </thead>\n",
       "  <tbody>\n",
       "    <tr>\n",
       "      <th>j4KvrAUjn6c</th>\n",
       "      <td>Entertainment</td>\n",
       "      <td>2018-05-13 18:03:56+00:00</td>\n",
       "      <td>Sunday</td>\n",
       "      <td>May</td>\n",
       "      <td>14/05/2018</td>\n",
       "      <td>Monday</td>\n",
       "      <td>May</td>\n",
       "    </tr>\n",
       "    <tr>\n",
       "      <th>8h--kFui1JA</th>\n",
       "      <td>Music</td>\n",
       "      <td>2018-05-09 17:00:00+00:00</td>\n",
       "      <td>Wednesday</td>\n",
       "      <td>May</td>\n",
       "      <td>10/05/2018</td>\n",
       "      <td>Thursday</td>\n",
       "      <td>May</td>\n",
       "    </tr>\n",
       "    <tr>\n",
       "      <th>r-3iathMo7o</th>\n",
       "      <td>Science &amp; Technology</td>\n",
       "      <td>2018-05-13 19:00:25+00:00</td>\n",
       "      <td>Sunday</td>\n",
       "      <td>May</td>\n",
       "      <td>15/05/2018</td>\n",
       "      <td>Tuesday</td>\n",
       "      <td>May</td>\n",
       "    </tr>\n",
       "    <tr>\n",
       "      <th>MAjY8mCTXWk</th>\n",
       "      <td>Music</td>\n",
       "      <td>2018-05-14 15:59:47+00:00</td>\n",
       "      <td>Monday</td>\n",
       "      <td>May</td>\n",
       "      <td>15/05/2018</td>\n",
       "      <td>Tuesday</td>\n",
       "      <td>May</td>\n",
       "    </tr>\n",
       "    <tr>\n",
       "      <th>t4pRQ0jn23Q</th>\n",
       "      <td>Entertainment</td>\n",
       "      <td>2018-05-14 14:00:03+00:00</td>\n",
       "      <td>Monday</td>\n",
       "      <td>May</td>\n",
       "      <td>15/05/2018</td>\n",
       "      <td>Tuesday</td>\n",
       "      <td>May</td>\n",
       "    </tr>\n",
       "    <tr>\n",
       "      <th>QBL8IRJ5yHU</th>\n",
       "      <td>Howto &amp; Style</td>\n",
       "      <td>2018-05-14 19:00:01+00:00</td>\n",
       "      <td>Monday</td>\n",
       "      <td>May</td>\n",
       "      <td>15/05/2018</td>\n",
       "      <td>Tuesday</td>\n",
       "      <td>May</td>\n",
       "    </tr>\n",
       "    <tr>\n",
       "      <th>iILJvqrAQ_w</th>\n",
       "      <td>Music</td>\n",
       "      <td>2018-05-11 04:00:34+00:00</td>\n",
       "      <td>Friday</td>\n",
       "      <td>May</td>\n",
       "      <td>12/05/2018</td>\n",
       "      <td>Saturday</td>\n",
       "      <td>May</td>\n",
       "    </tr>\n",
       "    <tr>\n",
       "      <th>NBSAQenU2Bk</th>\n",
       "      <td>Film &amp; Animation</td>\n",
       "      <td>2018-05-14 13:00:01+00:00</td>\n",
       "      <td>Monday</td>\n",
       "      <td>May</td>\n",
       "      <td>15/05/2018</td>\n",
       "      <td>Tuesday</td>\n",
       "      <td>May</td>\n",
       "    </tr>\n",
       "    <tr>\n",
       "      <th>vjSohj-Iclc</th>\n",
       "      <td>Science &amp; Technology</td>\n",
       "      <td>2018-05-10 19:56:28+00:00</td>\n",
       "      <td>Thursday</td>\n",
       "      <td>May</td>\n",
       "      <td>12/05/2018</td>\n",
       "      <td>Saturday</td>\n",
       "      <td>May</td>\n",
       "    </tr>\n",
       "    <tr>\n",
       "      <th>ulNswX3If6U</th>\n",
       "      <td>Film &amp; Animation</td>\n",
       "      <td>2018-05-10 16:00:11+00:00</td>\n",
       "      <td>Thursday</td>\n",
       "      <td>May</td>\n",
       "      <td>12/05/2018</td>\n",
       "      <td>Saturday</td>\n",
       "      <td>May</td>\n",
       "    </tr>\n",
       "    <tr>\n",
       "      <th>mdWcaWBxxcY</th>\n",
       "      <td>Entertainment</td>\n",
       "      <td>2018-05-11 09:23:16+00:00</td>\n",
       "      <td>Friday</td>\n",
       "      <td>May</td>\n",
       "      <td>13/05/2018</td>\n",
       "      <td>Sunday</td>\n",
       "      <td>May</td>\n",
       "    </tr>\n",
       "    <tr>\n",
       "      <th>YI3tsmFsrOg</th>\n",
       "      <td>Education</td>\n",
       "      <td>2018-05-13 12:00:22+00:00</td>\n",
       "      <td>Sunday</td>\n",
       "      <td>May</td>\n",
       "      <td>14/05/2018</td>\n",
       "      <td>Monday</td>\n",
       "      <td>May</td>\n",
       "    </tr>\n",
       "    <tr>\n",
       "      <th>2PH7dK6SLC8</th>\n",
       "      <td>Music</td>\n",
       "      <td>2018-05-10 17:00:01+00:00</td>\n",
       "      <td>Thursday</td>\n",
       "      <td>May</td>\n",
       "      <td>12/05/2018</td>\n",
       "      <td>Saturday</td>\n",
       "      <td>May</td>\n",
       "    </tr>\n",
       "    <tr>\n",
       "      <th>UfKmSfgFxi8</th>\n",
       "      <td>Entertainment</td>\n",
       "      <td>2018-05-11 21:11:16+00:00</td>\n",
       "      <td>Friday</td>\n",
       "      <td>May</td>\n",
       "      <td>13/05/2018</td>\n",
       "      <td>Sunday</td>\n",
       "      <td>May</td>\n",
       "    </tr>\n",
       "    <tr>\n",
       "      <th>6S9c5nnDd_s</th>\n",
       "      <td>Film &amp; Animation</td>\n",
       "      <td>2018-05-15 13:01:12+00:00</td>\n",
       "      <td>Tuesday</td>\n",
       "      <td>May</td>\n",
       "      <td>16/05/2018</td>\n",
       "      <td>Wednesday</td>\n",
       "      <td>May</td>\n",
       "    </tr>\n",
       "    <tr>\n",
       "      <th>WIV3xNz8NoM</th>\n",
       "      <td>Entertainment</td>\n",
       "      <td>2018-05-10 17:02:55+00:00</td>\n",
       "      <td>Thursday</td>\n",
       "      <td>May</td>\n",
       "      <td>11/05/2018</td>\n",
       "      <td>Friday</td>\n",
       "      <td>May</td>\n",
       "    </tr>\n",
       "    <tr>\n",
       "      <th>0zZ0Y_UZRBw</th>\n",
       "      <td>Howto &amp; Style</td>\n",
       "      <td>2018-05-10 21:11:15+00:00</td>\n",
       "      <td>Thursday</td>\n",
       "      <td>May</td>\n",
       "      <td>12/05/2018</td>\n",
       "      <td>Saturday</td>\n",
       "      <td>May</td>\n",
       "    </tr>\n",
       "    <tr>\n",
       "      <th>nRc0kmOYgzQ</th>\n",
       "      <td>Entertainment</td>\n",
       "      <td>2018-05-12 11:30:03+00:00</td>\n",
       "      <td>Saturday</td>\n",
       "      <td>May</td>\n",
       "      <td>15/05/2018</td>\n",
       "      <td>Tuesday</td>\n",
       "      <td>May</td>\n",
       "    </tr>\n",
       "    <tr>\n",
       "      <th>BspHjvU11y4</th>\n",
       "      <td>Music</td>\n",
       "      <td>2018-05-13 13:00:41+00:00</td>\n",
       "      <td>Sunday</td>\n",
       "      <td>May</td>\n",
       "      <td>15/05/2018</td>\n",
       "      <td>Tuesday</td>\n",
       "      <td>May</td>\n",
       "    </tr>\n",
       "    <tr>\n",
       "      <th>6SuMbFuKDf8</th>\n",
       "      <td>Music</td>\n",
       "      <td>2018-05-17 04:00:01+00:00</td>\n",
       "      <td>Thursday</td>\n",
       "      <td>May</td>\n",
       "      <td>18/05/2018</td>\n",
       "      <td>Friday</td>\n",
       "      <td>May</td>\n",
       "    </tr>\n",
       "  </tbody>\n",
       "</table>\n",
       "</div>"
      ],
      "text/plain": [
       "                    category_name     publish_time_formatted publish_day  \\\n",
       "video_id                                                                   \n",
       "j4KvrAUjn6c         Entertainment  2018-05-13 18:03:56+00:00      Sunday   \n",
       "8h--kFui1JA                 Music  2018-05-09 17:00:00+00:00   Wednesday   \n",
       "r-3iathMo7o  Science & Technology  2018-05-13 19:00:25+00:00      Sunday   \n",
       "MAjY8mCTXWk                 Music  2018-05-14 15:59:47+00:00      Monday   \n",
       "t4pRQ0jn23Q         Entertainment  2018-05-14 14:00:03+00:00      Monday   \n",
       "QBL8IRJ5yHU         Howto & Style  2018-05-14 19:00:01+00:00      Monday   \n",
       "iILJvqrAQ_w                 Music  2018-05-11 04:00:34+00:00      Friday   \n",
       "NBSAQenU2Bk      Film & Animation  2018-05-14 13:00:01+00:00      Monday   \n",
       "vjSohj-Iclc  Science & Technology  2018-05-10 19:56:28+00:00    Thursday   \n",
       "ulNswX3If6U      Film & Animation  2018-05-10 16:00:11+00:00    Thursday   \n",
       "mdWcaWBxxcY         Entertainment  2018-05-11 09:23:16+00:00      Friday   \n",
       "YI3tsmFsrOg             Education  2018-05-13 12:00:22+00:00      Sunday   \n",
       "2PH7dK6SLC8                 Music  2018-05-10 17:00:01+00:00    Thursday   \n",
       "UfKmSfgFxi8         Entertainment  2018-05-11 21:11:16+00:00      Friday   \n",
       "6S9c5nnDd_s      Film & Animation  2018-05-15 13:01:12+00:00     Tuesday   \n",
       "WIV3xNz8NoM         Entertainment  2018-05-10 17:02:55+00:00    Thursday   \n",
       "0zZ0Y_UZRBw         Howto & Style  2018-05-10 21:11:15+00:00    Thursday   \n",
       "nRc0kmOYgzQ         Entertainment  2018-05-12 11:30:03+00:00    Saturday   \n",
       "BspHjvU11y4                 Music  2018-05-13 13:00:41+00:00      Sunday   \n",
       "6SuMbFuKDf8                 Music  2018-05-17 04:00:01+00:00    Thursday   \n",
       "\n",
       "            publish_month trending_date_formatted_order trending_day  \\\n",
       "video_id                                                               \n",
       "j4KvrAUjn6c           May                    14/05/2018       Monday   \n",
       "8h--kFui1JA           May                    10/05/2018     Thursday   \n",
       "r-3iathMo7o           May                    15/05/2018      Tuesday   \n",
       "MAjY8mCTXWk           May                    15/05/2018      Tuesday   \n",
       "t4pRQ0jn23Q           May                    15/05/2018      Tuesday   \n",
       "QBL8IRJ5yHU           May                    15/05/2018      Tuesday   \n",
       "iILJvqrAQ_w           May                    12/05/2018     Saturday   \n",
       "NBSAQenU2Bk           May                    15/05/2018      Tuesday   \n",
       "vjSohj-Iclc           May                    12/05/2018     Saturday   \n",
       "ulNswX3If6U           May                    12/05/2018     Saturday   \n",
       "mdWcaWBxxcY           May                    13/05/2018       Sunday   \n",
       "YI3tsmFsrOg           May                    14/05/2018       Monday   \n",
       "2PH7dK6SLC8           May                    12/05/2018     Saturday   \n",
       "UfKmSfgFxi8           May                    13/05/2018       Sunday   \n",
       "6S9c5nnDd_s           May                    16/05/2018    Wednesday   \n",
       "WIV3xNz8NoM           May                    11/05/2018       Friday   \n",
       "0zZ0Y_UZRBw           May                    12/05/2018     Saturday   \n",
       "nRc0kmOYgzQ           May                    15/05/2018      Tuesday   \n",
       "BspHjvU11y4           May                    15/05/2018      Tuesday   \n",
       "6SuMbFuKDf8           May                    18/05/2018       Friday   \n",
       "\n",
       "            trending_month  \n",
       "video_id                    \n",
       "j4KvrAUjn6c            May  \n",
       "8h--kFui1JA            May  \n",
       "r-3iathMo7o            May  \n",
       "MAjY8mCTXWk            May  \n",
       "t4pRQ0jn23Q            May  \n",
       "QBL8IRJ5yHU            May  \n",
       "iILJvqrAQ_w            May  \n",
       "NBSAQenU2Bk            May  \n",
       "vjSohj-Iclc            May  \n",
       "ulNswX3If6U            May  \n",
       "mdWcaWBxxcY            May  \n",
       "YI3tsmFsrOg            May  \n",
       "2PH7dK6SLC8            May  \n",
       "UfKmSfgFxi8            May  \n",
       "6S9c5nnDd_s            May  \n",
       "WIV3xNz8NoM            May  \n",
       "0zZ0Y_UZRBw            May  \n",
       "nRc0kmOYgzQ            May  \n",
       "BspHjvU11y4            May  \n",
       "6SuMbFuKDf8            May  "
      ]
     },
     "execution_count": 1906,
     "metadata": {},
     "output_type": "execute_result"
    }
   ],
   "source": [
    "publish_time_day_top_20 = cleaned_us_data_df.loc[[\"j4KvrAUjn6c\",\"8h--kFui1JA\", \"r-3iathMo7o\", \"MAjY8mCTXWk\", \"t4pRQ0jn23Q\", \"QBL8IRJ5yHU\", \"iILJvqrAQ_w\", \"NBSAQenU2Bk\", \"vjSohj-Iclc\", \"ulNswX3If6U\",\"mdWcaWBxxcY\", \"YI3tsmFsrOg\", \"2PH7dK6SLC8\",\"UfKmSfgFxi8\",\"6S9c5nnDd_s\",\"WIV3xNz8NoM\", \"0zZ0Y_UZRBw\", \"nRc0kmOYgzQ\",\"BspHjvU11y4\",\"6SuMbFuKDf8\"], ['category_name','publish_time_formatted', 'publish_day', 'publish_month','trending_date_formatted_order', 'trending_day', 'trending_month']]\n",
    "publish_time_day_top_20.groupby(\"video_id\").head(1)"
   ]
  },
  {
   "cell_type": "code",
   "execution_count": 1907,
   "metadata": {},
   "outputs": [],
   "source": [
    "video_id_20 = [\"j4KvrAUjn6c\",\"8h--kFui1JA\", \"r-3iathMo7o\", \"MAjY8mCTXWk\", \"t4pRQ0jn23Q\", \"QBL8IRJ5yHU\", \"iILJvqrAQ_w\", \"NBSAQenU2Bk\", \"vjSohj-Iclc\", \"ulNswX3If6U\",\"mdWcaWBxxcY\", \"YI3tsmFsrOg\", \"2PH7dK6SLC8\",\"UfKmSfgFxi8\",\"6S9c5nnDd_s\",\"WIV3xNz8NoM\", \"0zZ0Y_UZRBw\", \"nRc0kmOYgzQ\",\"BspHjvU11y4\",\"6SuMbFuKDf8\"]\n",
    "publish_time_20 = [18, 17, 19, 16, 14, 19, 4, 13, 20, 16, 9, 12, 17, 21, 13, 17, 21, 11, 13, 4]"
   ]
  },
  {
   "cell_type": "code",
   "execution_count": 1908,
   "metadata": {},
   "outputs": [
    {
     "data": {
      "image/png": "[encoded data removed]",
      "text/plain": [
       "<Figure size 432x288 with 1 Axes>"
      ]
     },
     "metadata": {
      "needs_background": "light"
     },
     "output_type": "display_data"
    }
   ],
   "source": [
    "x_axis = video_id_20\n",
    "y_axis = publish_time_20\n",
    "plt.plot(x_axis,y_axis,marker='o', color='blue')\n",
    "plt.xticks(rotation='vertical')\n",
    "plt.xlabel(\"Top 20 Video_ids\")\n",
    "plt.ylabel(\"Publish Time\")\n",
    "plt.title(\"Top 20 Video_ids and Publish Time\")\n",
    "plt.gcf\n",
    "plt.show()"
   ]
  },
  {
   "cell_type": "code",
   "execution_count": 1909,
   "metadata": {},
   "outputs": [],
   "source": [
    "video_id_20 = [\"j4KvrAUjn6c\",\"8h--kFui1JA\", \"r-3iathMo7o\", \"MAjY8mCTXWk\", \"t4pRQ0jn23Q\", \"QBL8IRJ5yHU\", \"iILJvqrAQ_w\", \"NBSAQenU2Bk\", \"vjSohj-Iclc\", \"ulNswX3If6U\",\"mdWcaWBxxcY\", \"YI3tsmFsrOg\", \"2PH7dK6SLC8\",\"UfKmSfgFxi8\",\"6S9c5nnDd_s\",\"WIV3xNz8NoM\", \"0zZ0Y_UZRBw\", \"nRc0kmOYgzQ\",\"BspHjvU11y4\",\"6SuMbFuKDf8\"]\n",
    "publish_day_20 = [\"Sunday\", \"Wednesday\", \"Sunday\", \"Monday\", \"Monday\",\"Monday\", \"Friday\", \"Monday\", \"Thursday\", \"Thursday\", \"Friday\", \"Sunday\", \"Thursday\", \"Friday\", \"Tuesday\", \"Thursday\", \"Thursday\",\"Saturday\", \"Sunday\", \"Thursday\"]\n",
    "category_name_20 = [\"Entertainment\",\"Music\",\"Science & Technology\",\"Howto & Style\",\"Film & Animation\",\"Education\"]\n",
    "category_count_20 = [6,6,2,2,3,1]\n",
    "days_20 =[ \"Monday\",\"Tuesday\",\"Wednesday\", \"Thursday\",\"Friday\",\"Saturday\",\"Sunday\",]\n",
    "day_count_20 = [4, 1, 1, 6, 3, 1, 4]\n",
    "publish_month_20 = []\n",
    "colors = [\"orange\",\"purple\",\"green\",\"lightblue\",\"yellow\",\"pink\",\"red\"]"
   ]
  },
  {
   "cell_type": "code",
   "execution_count": 1910,
   "metadata": {},
   "outputs": [
    {
     "data": {
      "image/png": "[encoded data removed]",
      "text/plain": [
       "<Figure size 432x288 with 1 Axes>"
      ]
     },
     "metadata": {
      "needs_background": "light"
     },
     "output_type": "display_data"
    }
   ],
   "source": [
    "plt.bar(days_20, day_count_20, color='purple', align=\"center\")\n",
    "tick_locations = [value for value in days_20]\n",
    "plt.xticks(tick_locations, days_20, rotation='vertical')\n",
    "# plt.xlim(-0.75, len(days_20)-0.25)\n",
    "# plt.ylim(0, max(day_count_20)+2)\n",
    "plt.xlabel(\"Day of the week Published\")\n",
    "plt.ylabel(\"Frequency of the Publishing day of the week\")\n",
    "plt.title(\"Top 20 Video_ids and Publish Day\")\n",
    "plt.show()"
   ]
  },
  {
   "cell_type": "code",
   "execution_count": 1911,
   "metadata": {},
   "outputs": [
    {
     "data": {
      "image/png": "[encoded data removed]",
      "text/plain": [
       "<Figure size 432x288 with 1 Axes>"
      ]
     },
     "metadata": {
      "needs_background": "light"
     },
     "output_type": "display_data"
    }
   ],
   "source": [
    "plt.bar(category_name_20, category_count_20, color='purple', align=\"center\")\n",
    "tick_locations = [value for value in category_name_20]\n",
    "plt.xticks(tick_locations, category_name_20, rotation='vertical')\n",
    "# plt.xlim(-0.75, len(days_20)-0.25)\n",
    "# plt.ylim(0, max(day_count_20)+2)\n",
    "plt.xlabel(\"Video Category\")\n",
    "plt.ylabel(\"Frequency of the Video Category\")\n",
    "plt.title(\"Top 20 Video_ids and Video Category\")\n",
    "plt.show()"
   ]
  },
  {
   "cell_type": "code",
   "execution_count": 1912,
   "metadata": {},
   "outputs": [],
   "source": [
    "# pd.DataFrame(\n",
    "#     df.groupby(['groupby_col'])['column_to_perform_value_count'].value_counts()\n",
    "# ).rename(\n",
    "#     columns={'old_column_name': 'new_column_name'}\n",
    "# ).reset_index()"
   ]
  },
  {
   "cell_type": "code",
   "execution_count": 1913,
   "metadata": {},
   "outputs": [],
   "source": [
    "# unique_videos_df = pd.DataFrame(cleaned_us_data_df.groupby([\"video_id\"].head(1))"
   ]
  },
  {
   "cell_type": "code",
   "execution_count": 1914,
   "metadata": {},
   "outputs": [],
   "source": [
    "unique_videos_df = cleaned_us_data_df.groupby([\"video_id\"]).head(1)"
   ]
  },
  {
   "cell_type": "code",
   "execution_count": 1915,
   "metadata": {},
   "outputs": [
    {
     "data": {
      "text/plain": [
       "Wednesday    1096\n",
       "Tuesday      1061\n",
       "Thursday     1053\n",
       "Friday       1046\n",
       "Monday        985\n",
       "Sunday        559\n",
       "Saturday      547\n",
       "Name: publish_day, dtype: int64"
      ]
     },
     "execution_count": 1915,
     "metadata": {},
     "output_type": "execute_result"
    }
   ],
   "source": [
    "video_publish_day = (unique_videos_df['publish_day'].value_counts())\n",
    "video_publish_day"
   ]
  },
  {
   "cell_type": "code",
   "execution_count": 1916,
   "metadata": {},
   "outputs": [
    {
     "data": {
      "text/plain": [
       "6347"
      ]
     },
     "execution_count": 1916,
     "metadata": {},
     "output_type": "execute_result"
    }
   ],
   "source": [
    "video_publish_day.sum()"
   ]
  },
  {
   "cell_type": "code",
   "execution_count": 1982,
   "metadata": {},
   "outputs": [
    {
     "data": {
      "text/html": [
       "<div>\n",
       "<style scoped>\n",
       "    .dataframe tbody tr th:only-of-type {\n",
       "        vertical-align: middle;\n",
       "    }\n",
       "\n",
       "    .dataframe tbody tr th {\n",
       "        vertical-align: top;\n",
       "    }\n",
       "\n",
       "    .dataframe thead th {\n",
       "        text-align: right;\n",
       "    }\n",
       "</style>\n",
       "<table border=\"1\" class=\"dataframe\">\n",
       "  <thead>\n",
       "    <tr style=\"text-align: right;\">\n",
       "      <th></th>\n",
       "      <th>Wednesday</th>\n",
       "      <th>Tuesday</th>\n",
       "      <th>Thursday</th>\n",
       "      <th>Friday</th>\n",
       "      <th>Monday</th>\n",
       "      <th>Sunday</th>\n",
       "      <th>Saturday</th>\n",
       "    </tr>\n",
       "  </thead>\n",
       "  <tbody>\n",
       "    <tr>\n",
       "      <th>publish_day</th>\n",
       "      <td>1096</td>\n",
       "      <td>1061</td>\n",
       "      <td>1053</td>\n",
       "      <td>1046</td>\n",
       "      <td>985</td>\n",
       "      <td>559</td>\n",
       "      <td>547</td>\n",
       "    </tr>\n",
       "  </tbody>\n",
       "</table>\n",
       "</div>"
      ],
      "text/plain": [
       "             Wednesday  Tuesday  Thursday  Friday  Monday  Sunday  Saturday\n",
       "publish_day       1096     1061      1053    1046     985     559       547"
      ]
     },
     "execution_count": 1982,
     "metadata": {},
     "output_type": "execute_result"
    }
   ],
   "source": [
    "unique_video_publish_day_df = pd.DataFrame([video_publish_day])\n",
    "unique_video_publish_day_df"
   ]
  },
  {
   "cell_type": "code",
   "execution_count": 1917,
   "metadata": {},
   "outputs": [],
   "source": [
    "total_days =[\"Monday\", \"Tuesday\", \"Wednesday\", \"Thursday\", \"Friday\",\"Saturday\", \"Sunday\"]\n",
    "total_days_count = [985, 1061, 1096, 1053, 1046, 547, 559]"
   ]
  },
  {
   "cell_type": "code",
   "execution_count": 1918,
   "metadata": {},
   "outputs": [
    {
     "data": {
      "image/png": "[encoded data removed]",
      "text/plain": [
       "<Figure size 432x288 with 1 Axes>"
      ]
     },
     "metadata": {
      "needs_background": "light"
     },
     "output_type": "display_data"
    }
   ],
   "source": [
    "plt.bar(total_days, total_days_count, color='purple', align=\"center\")\n",
    "tick_locations = [value for value in total_days]\n",
    "plt.xticks(tick_locations, total_days, rotation='vertical')\n",
    "# plt.xlim(-0.75, len(days_20)-0.25)\n",
    "# plt.ylim(0, max(day_count_20)+2)\n",
    "plt.xlabel(\"Day of the week Published\")\n",
    "plt.ylabel(\"Frequency of the Publishing day of the week\")\n",
    "plt.title(\"Total Unique Video_ids and Publish Day\")\n",
    "plt.show()"
   ]
  },
  {
   "cell_type": "code",
   "execution_count": 1919,
   "metadata": {},
   "outputs": [
    {
     "data": {
      "text/plain": [
       "January      1268\n",
       "December     1165\n",
       "February      995\n",
       "November      972\n",
       "March         688\n",
       "May           539\n",
       "April         536\n",
       "June          147\n",
       "October        17\n",
       "September      10\n",
       "August          6\n",
       "July            4\n",
       "Name: publish_month, dtype: int64"
      ]
     },
     "execution_count": 1919,
     "metadata": {},
     "output_type": "execute_result"
    }
   ],
   "source": [
    "video_publish_month = (unique_videos_df['publish_month'].value_counts())\n",
    "video_publish_month"
   ]
  },
  {
   "cell_type": "code",
   "execution_count": 1920,
   "metadata": {},
   "outputs": [
    {
     "data": {
      "text/plain": [
       "6347"
      ]
     },
     "execution_count": 1920,
     "metadata": {},
     "output_type": "execute_result"
    }
   ],
   "source": [
    "video_publish_month.sum()"
   ]
  },
  {
   "cell_type": "code",
   "execution_count": null,
   "metadata": {},
   "outputs": [],
   "source": [
    "unique_video_publish_month_df = pd.DataFrame([video_publish_month])\n",
    "unique_video_publish_month_df"
   ]
  },
  {
   "cell_type": "code",
   "execution_count": 1921,
   "metadata": {},
   "outputs": [],
   "source": [
    "total_months =[\"January\", \"February\", \"March\", \"April\", \"May\",\"June\", \"July\", \"August\", \"September\", \"October\", \"November\",\"December\"]\n",
    "total_months_count = [1286, 995, 688, 536, 539, 147, 4, 6, 10, 17, 972, 1165]"
   ]
  },
  {
   "cell_type": "code",
   "execution_count": 1922,
   "metadata": {},
   "outputs": [
    {
     "data": {
      "image/png": "[encoded data removed]",
      "text/plain": [
       "<Figure size 432x288 with 1 Axes>"
      ]
     },
     "metadata": {
      "needs_background": "light"
     },
     "output_type": "display_data"
    }
   ],
   "source": [
    "plt.bar(total_months, total_months_count, color='purple', align=\"center\")\n",
    "tick_locations = [value for value in total_months]\n",
    "plt.xticks(tick_locations, total_months, rotation='vertical')\n",
    "# plt.xlim(-0.75, len(days_20)-0.25)\n",
    "# plt.ylim(0, max(day_count_20)+2)\n",
    "plt.xlabel(\"Month of the year Published\")\n",
    "plt.ylabel(\"Frequency of the Publishing month\")\n",
    "plt.title(\"Total Unique Video_ids and Publish Month\")\n",
    "plt.show()"
   ]
  },
  {
   "cell_type": "code",
   "execution_count": 1983,
   "metadata": {},
   "outputs": [
    {
     "data": {
      "text/plain": [
       "Entertainment            1619\n",
       "Music                     799\n",
       "Howto & Style             595\n",
       "Comedy                    547\n",
       "News & Politics           505\n",
       "People & Blogs            498\n",
       "Sports                    451\n",
       "Science & Technology      380\n",
       "Film & Animation          318\n",
       "Education                 250\n",
       "Pets & Animals            138\n",
       "Gaming                    103\n",
       "Autos & Vehicles           70\n",
       "Travel & Events            60\n",
       "Nonprofits & Activism      14\n",
       "Name: category_name, dtype: int64"
      ]
     },
     "execution_count": 1983,
     "metadata": {},
     "output_type": "execute_result"
    }
   ],
   "source": [
    "video_publish_category = (unique_videos_df['category_name'].value_counts())\n",
    "video_publish_category"
   ]
  },
  {
   "cell_type": "code",
   "execution_count": 1984,
   "metadata": {},
   "outputs": [
    {
     "data": {
      "text/plain": [
       "6347"
      ]
     },
     "execution_count": 1984,
     "metadata": {},
     "output_type": "execute_result"
    }
   ],
   "source": [
    "video_publish_category.sum()"
   ]
  },
  {
   "cell_type": "code",
   "execution_count": null,
   "metadata": {},
   "outputs": [],
   "source": []
  },
  {
   "cell_type": "code",
   "execution_count": 1925,
   "metadata": {},
   "outputs": [
    {
     "data": {
      "text/html": [
       "<div>\n",
       "<style scoped>\n",
       "    .dataframe tbody tr th:only-of-type {\n",
       "        vertical-align: middle;\n",
       "    }\n",
       "\n",
       "    .dataframe tbody tr th {\n",
       "        vertical-align: top;\n",
       "    }\n",
       "\n",
       "    .dataframe thead th {\n",
       "        text-align: right;\n",
       "    }\n",
       "</style>\n",
       "<table border=\"1\" class=\"dataframe\">\n",
       "  <thead>\n",
       "    <tr style=\"text-align: right;\">\n",
       "      <th></th>\n",
       "      <th>video_id</th>\n",
       "    </tr>\n",
       "  </thead>\n",
       "  <tbody>\n",
       "    <tr>\n",
       "      <th>j4KvrAUjn6c</th>\n",
       "      <td>30</td>\n",
       "    </tr>\n",
       "    <tr>\n",
       "      <th>8h--kFui1JA</th>\n",
       "      <td>29</td>\n",
       "    </tr>\n",
       "    <tr>\n",
       "      <th>r-3iathMo7o</th>\n",
       "      <td>29</td>\n",
       "    </tr>\n",
       "    <tr>\n",
       "      <th>MAjY8mCTXWk</th>\n",
       "      <td>29</td>\n",
       "    </tr>\n",
       "    <tr>\n",
       "      <th>t4pRQ0jn23Q</th>\n",
       "      <td>29</td>\n",
       "    </tr>\n",
       "    <tr>\n",
       "      <th>QBL8IRJ5yHU</th>\n",
       "      <td>29</td>\n",
       "    </tr>\n",
       "    <tr>\n",
       "      <th>iILJvqrAQ_w</th>\n",
       "      <td>29</td>\n",
       "    </tr>\n",
       "    <tr>\n",
       "      <th>NBSAQenU2Bk</th>\n",
       "      <td>29</td>\n",
       "    </tr>\n",
       "    <tr>\n",
       "      <th>vjSohj-Iclc</th>\n",
       "      <td>28</td>\n",
       "    </tr>\n",
       "    <tr>\n",
       "      <th>ulNswX3If6U</th>\n",
       "      <td>28</td>\n",
       "    </tr>\n",
       "    <tr>\n",
       "      <th>mdWcaWBxxcY</th>\n",
       "      <td>28</td>\n",
       "    </tr>\n",
       "    <tr>\n",
       "      <th>YI3tsmFsrOg</th>\n",
       "      <td>28</td>\n",
       "    </tr>\n",
       "    <tr>\n",
       "      <th>2PH7dK6SLC8</th>\n",
       "      <td>28</td>\n",
       "    </tr>\n",
       "    <tr>\n",
       "      <th>UfKmSfgFxi8</th>\n",
       "      <td>28</td>\n",
       "    </tr>\n",
       "    <tr>\n",
       "      <th>6S9c5nnDd_s</th>\n",
       "      <td>28</td>\n",
       "    </tr>\n",
       "    <tr>\n",
       "      <th>WIV3xNz8NoM</th>\n",
       "      <td>28</td>\n",
       "    </tr>\n",
       "    <tr>\n",
       "      <th>0zZ0Y_UZRBw</th>\n",
       "      <td>27</td>\n",
       "    </tr>\n",
       "    <tr>\n",
       "      <th>nRc0kmOYgzQ</th>\n",
       "      <td>27</td>\n",
       "    </tr>\n",
       "    <tr>\n",
       "      <th>BspHjvU11y4</th>\n",
       "      <td>27</td>\n",
       "    </tr>\n",
       "    <tr>\n",
       "      <th>6SuMbFuKDf8</th>\n",
       "      <td>27</td>\n",
       "    </tr>\n",
       "  </tbody>\n",
       "</table>\n",
       "</div>"
      ],
      "text/plain": [
       "             video_id\n",
       "j4KvrAUjn6c        30\n",
       "8h--kFui1JA        29\n",
       "r-3iathMo7o        29\n",
       "MAjY8mCTXWk        29\n",
       "t4pRQ0jn23Q        29\n",
       "QBL8IRJ5yHU        29\n",
       "iILJvqrAQ_w        29\n",
       "NBSAQenU2Bk        29\n",
       "vjSohj-Iclc        28\n",
       "ulNswX3If6U        28\n",
       "mdWcaWBxxcY        28\n",
       "YI3tsmFsrOg        28\n",
       "2PH7dK6SLC8        28\n",
       "UfKmSfgFxi8        28\n",
       "6S9c5nnDd_s        28\n",
       "WIV3xNz8NoM        28\n",
       "0zZ0Y_UZRBw        27\n",
       "nRc0kmOYgzQ        27\n",
       "BspHjvU11y4        27\n",
       "6SuMbFuKDf8        27"
      ]
     },
     "execution_count": 1925,
     "metadata": {},
     "output_type": "execute_result"
    }
   ],
   "source": [
    "video_frequency = pd.DataFrame(video_trend_frequency)\n",
    "video_frequency.head(20)"
   ]
  },
  {
   "cell_type": "code",
   "execution_count": 1926,
   "metadata": {},
   "outputs": [
    {
     "data": {
      "image/png": "[encoded data removed]",
      "text/plain": [
       "<Figure size 432x288 with 1 Axes>"
      ]
     },
     "metadata": {},
     "output_type": "display_data"
    }
   ],
   "source": [
    "plt.pie(day_count_20, labels=days_20, colors=colors,\n",
    "        autopct=\"%1.1f%%\", shadow=True, startangle=90)\n",
    "# plt.patch.set_facecolor(\"white\")\n",
    "plt.axis(\"equal\")\n",
    "plt.title(\"Top 20 Video_ids and Publish Day\")\n",
    "plt.show()"
   ]
  },
  {
   "cell_type": "code",
   "execution_count": 1927,
   "metadata": {},
   "outputs": [
    {
     "data": {
      "image/png": "[encoded data removed]",
      "text/plain": [
       "<Figure size 432x288 with 1 Axes>"
      ]
     },
     "metadata": {},
     "output_type": "display_data"
    }
   ],
   "source": [
    "plt.pie(category_count_20, labels=category_name_20, colors=colors,\n",
    "        autopct=\"%1.1f%%\", shadow=True, startangle=90)\n",
    "# plt.patch.set_facecolor(\"white\")\n",
    "plt.axis(\"equal\")\n",
    "plt.title(\"Top 20 Video_ids and Video Category\")\n",
    "plt.show()"
   ]
  },
  {
   "cell_type": "code",
   "execution_count": 1928,
   "metadata": {},
   "outputs": [
    {
     "data": {
      "text/html": [
       "<div>\n",
       "<style scoped>\n",
       "    .dataframe tbody tr th:only-of-type {\n",
       "        vertical-align: middle;\n",
       "    }\n",
       "\n",
       "    .dataframe tbody tr th {\n",
       "        vertical-align: top;\n",
       "    }\n",
       "\n",
       "    .dataframe thead th {\n",
       "        text-align: right;\n",
       "    }\n",
       "</style>\n",
       "<table border=\"1\" class=\"dataframe\">\n",
       "  <thead>\n",
       "    <tr style=\"text-align: right;\">\n",
       "      <th></th>\n",
       "      <th>category_name</th>\n",
       "      <th>publish_time_formatted</th>\n",
       "      <th>publish_day</th>\n",
       "      <th>publish_month</th>\n",
       "    </tr>\n",
       "    <tr>\n",
       "      <th>video_id</th>\n",
       "      <th></th>\n",
       "      <th></th>\n",
       "      <th></th>\n",
       "      <th></th>\n",
       "    </tr>\n",
       "  </thead>\n",
       "  <tbody>\n",
       "    <tr>\n",
       "      <th>j4KvrAUjn6c</th>\n",
       "      <td>Entertainment</td>\n",
       "      <td>2018-05-13 18:03:56+00:00</td>\n",
       "      <td>Sunday</td>\n",
       "      <td>May</td>\n",
       "    </tr>\n",
       "    <tr>\n",
       "      <th>8h--kFui1JA</th>\n",
       "      <td>Music</td>\n",
       "      <td>2018-05-09 17:00:00+00:00</td>\n",
       "      <td>Wednesday</td>\n",
       "      <td>May</td>\n",
       "    </tr>\n",
       "    <tr>\n",
       "      <th>r-3iathMo7o</th>\n",
       "      <td>Science &amp; Technology</td>\n",
       "      <td>2018-05-13 19:00:25+00:00</td>\n",
       "      <td>Sunday</td>\n",
       "      <td>May</td>\n",
       "    </tr>\n",
       "    <tr>\n",
       "      <th>MAjY8mCTXWk</th>\n",
       "      <td>Music</td>\n",
       "      <td>2018-05-14 15:59:47+00:00</td>\n",
       "      <td>Monday</td>\n",
       "      <td>May</td>\n",
       "    </tr>\n",
       "    <tr>\n",
       "      <th>t4pRQ0jn23Q</th>\n",
       "      <td>Entertainment</td>\n",
       "      <td>2018-05-14 14:00:03+00:00</td>\n",
       "      <td>Monday</td>\n",
       "      <td>May</td>\n",
       "    </tr>\n",
       "    <tr>\n",
       "      <th>QBL8IRJ5yHU</th>\n",
       "      <td>Howto &amp; Style</td>\n",
       "      <td>2018-05-14 19:00:01+00:00</td>\n",
       "      <td>Monday</td>\n",
       "      <td>May</td>\n",
       "    </tr>\n",
       "    <tr>\n",
       "      <th>iILJvqrAQ_w</th>\n",
       "      <td>Music</td>\n",
       "      <td>2018-05-11 04:00:34+00:00</td>\n",
       "      <td>Friday</td>\n",
       "      <td>May</td>\n",
       "    </tr>\n",
       "    <tr>\n",
       "      <th>NBSAQenU2Bk</th>\n",
       "      <td>Film &amp; Animation</td>\n",
       "      <td>2018-05-14 13:00:01+00:00</td>\n",
       "      <td>Monday</td>\n",
       "      <td>May</td>\n",
       "    </tr>\n",
       "    <tr>\n",
       "      <th>vjSohj-Iclc</th>\n",
       "      <td>Science &amp; Technology</td>\n",
       "      <td>2018-05-10 19:56:28+00:00</td>\n",
       "      <td>Thursday</td>\n",
       "      <td>May</td>\n",
       "    </tr>\n",
       "    <tr>\n",
       "      <th>ulNswX3If6U</th>\n",
       "      <td>Film &amp; Animation</td>\n",
       "      <td>2018-05-10 16:00:11+00:00</td>\n",
       "      <td>Thursday</td>\n",
       "      <td>May</td>\n",
       "    </tr>\n",
       "  </tbody>\n",
       "</table>\n",
       "</div>"
      ],
      "text/plain": [
       "                    category_name     publish_time_formatted publish_day  \\\n",
       "video_id                                                                   \n",
       "j4KvrAUjn6c         Entertainment  2018-05-13 18:03:56+00:00      Sunday   \n",
       "8h--kFui1JA                 Music  2018-05-09 17:00:00+00:00   Wednesday   \n",
       "r-3iathMo7o  Science & Technology  2018-05-13 19:00:25+00:00      Sunday   \n",
       "MAjY8mCTXWk                 Music  2018-05-14 15:59:47+00:00      Monday   \n",
       "t4pRQ0jn23Q         Entertainment  2018-05-14 14:00:03+00:00      Monday   \n",
       "QBL8IRJ5yHU         Howto & Style  2018-05-14 19:00:01+00:00      Monday   \n",
       "iILJvqrAQ_w                 Music  2018-05-11 04:00:34+00:00      Friday   \n",
       "NBSAQenU2Bk      Film & Animation  2018-05-14 13:00:01+00:00      Monday   \n",
       "vjSohj-Iclc  Science & Technology  2018-05-10 19:56:28+00:00    Thursday   \n",
       "ulNswX3If6U      Film & Animation  2018-05-10 16:00:11+00:00    Thursday   \n",
       "\n",
       "            publish_month  \n",
       "video_id                   \n",
       "j4KvrAUjn6c           May  \n",
       "8h--kFui1JA           May  \n",
       "r-3iathMo7o           May  \n",
       "MAjY8mCTXWk           May  \n",
       "t4pRQ0jn23Q           May  \n",
       "QBL8IRJ5yHU           May  \n",
       "iILJvqrAQ_w           May  \n",
       "NBSAQenU2Bk           May  \n",
       "vjSohj-Iclc           May  \n",
       "ulNswX3If6U           May  "
      ]
     },
     "execution_count": 1928,
     "metadata": {},
     "output_type": "execute_result"
    }
   ],
   "source": [
    "publish_time_day_top_10 = cleaned_us_data_df.loc[[\"j4KvrAUjn6c\",\"8h--kFui1JA\", \"r-3iathMo7o\", \"MAjY8mCTXWk\", \"t4pRQ0jn23Q\", \"QBL8IRJ5yHU\", \"iILJvqrAQ_w\", \"NBSAQenU2Bk\", \"vjSohj-Iclc\", \"ulNswX3If6U\"], ['category_name','publish_time_formatted', 'publish_day', 'publish_month']]\n",
    "publish_time_day_top_10.groupby(\"video_id\").head(1)"
   ]
  },
  {
   "cell_type": "markdown",
   "metadata": {},
   "source": [
    "\"Entertainment\",\"Music\",\"Science & Technology\",\"Music\",\"Howto & Style\",\"Music\",\"Film & Animation\",\"Science & Technology\t\",\"Film & Animation\""
   ]
  },
  {
   "cell_type": "code",
   "execution_count": 1929,
   "metadata": {},
   "outputs": [],
   "source": [
    "video_id = [\"j4KvrAUjn6c\",\"8h--kFui1JA\", \"r-3iathMo7o\", \"MAjY8mCTXWk\", \"t4pRQ0jn23Q\", \"QBL8IRJ5yHU\", \"iILJvqrAQ_w\", \"NBSAQenU2Bk\", \"vjSohj-Iclc\", \"ulNswX3If6U\"]\n",
    "publish_time = [18, 17, 19, 16, 14, 19, 4, 13, 20, 16]"
   ]
  },
  {
   "cell_type": "code",
   "execution_count": 1930,
   "metadata": {},
   "outputs": [
    {
     "data": {
      "image/png": "[encoded data removed]",
      "text/plain": [
       "<Figure size 432x288 with 1 Axes>"
      ]
     },
     "metadata": {
      "needs_background": "light"
     },
     "output_type": "display_data"
    }
   ],
   "source": [
    "x_axis = video_id\n",
    "y_axis = publish_time\n",
    "plt.plot(x_axis,y_axis,marker='o', color='blue')\n",
    "plt.xticks(rotation='vertical')\n",
    "plt.xlabel(\"Top 10 Video_ids\")\n",
    "plt.ylabel(\"Publish Time\")\n",
    "plt.title(\"Top 10 Video_ids and Publish Time\")\n",
    "plt.gcf\n",
    "plt.show()"
   ]
  },
  {
   "cell_type": "code",
   "execution_count": 1931,
   "metadata": {},
   "outputs": [],
   "source": [
    "video_id = [\"j4KvrAUjn6c\",\"8h--kFui1JA\", \"r-3iathMo7o\", \"MAjY8mCTXWk\", \"t4pRQ0jn23Q\", \"QBL8IRJ5yHU\", \"iILJvqrAQ_w\", \"NBSAQenU2Bk\", \"vjSohj-Iclc\", \"ulNswX3If6U\"]\n",
    "publish_day = [\"Sunday\", \"Wednesday\", \"Sunday\", \"Monday\", \"Monday\",\"Monday\", \"Friday\", \"Monday\", \"Thursday\", \"Thursday\"]\n",
    "category_name = [\"Entertainment\",\"Music\",\"Science & Technology\",\"Howto & Style\",\"Film & Animation\"]\n",
    "category_count = [2,3,2,1,2]\n",
    "days =[ \"Monday\",\"Wednesday\", \"Thursday\",\"Friday\",\"Sunday\",]\n",
    "day_count = [4, 1, 2, 1, 2, ]\n",
    "colors = [\"orange\",\"green\",\"lightblue\",\"yellow\",\"red\"]"
   ]
  },
  {
   "cell_type": "code",
   "execution_count": 1932,
   "metadata": {},
   "outputs": [
    {
     "data": {
      "image/png": "[encoded data removed]",
      "text/plain": [
       "<Figure size 432x288 with 1 Axes>"
      ]
     },
     "metadata": {
      "needs_background": "light"
     },
     "output_type": "display_data"
    }
   ],
   "source": [
    "plt.bar(days, day_count, color='purple', align=\"center\")\n",
    "tick_locations = [value for value in days]\n",
    "plt.xticks(tick_locations, days, rotation='vertical')\n",
    "# plt.xlim(-0.75, len(days_20)-0.25)\n",
    "# plt.ylim(0, max(day_count_20)+2)\n",
    "plt.xlabel(\"Day of the week Published\")\n",
    "plt.ylabel(\"Frequency of the Publishing day of the week\")\n",
    "plt.title(\"Top 10 Video_ids and Publish Day\")\n",
    "plt.show()"
   ]
  },
  {
   "cell_type": "code",
   "execution_count": 1933,
   "metadata": {},
   "outputs": [
    {
     "data": {
      "image/png": "[encoded data removed]",
      "text/plain": [
       "<Figure size 432x288 with 1 Axes>"
      ]
     },
     "metadata": {},
     "output_type": "display_data"
    }
   ],
   "source": [
    "plt.pie(day_count, labels=days, colors=colors,\n",
    "        autopct=\"%1.1f%%\", shadow=True, startangle=90)\n",
    "# plt.patch.set_facecolor(\"white\")\n",
    "plt.axis(\"equal\")\n",
    "plt.title(\"Top 10 Video_ids and Publish Day\")\n",
    "plt.show()"
   ]
  },
  {
   "cell_type": "code",
   "execution_count": 1934,
   "metadata": {},
   "outputs": [
    {
     "data": {
      "image/png": "[encoded data removed]",
      "text/plain": [
       "<Figure size 432x288 with 1 Axes>"
      ]
     },
     "metadata": {},
     "output_type": "display_data"
    }
   ],
   "source": [
    "plt.pie(category_count, labels=category_name, colors=colors,\n",
    "        autopct=\"%1.1f%%\", shadow=True, startangle=90)\n",
    "# plt.patch.set_facecolor(\"white\")\n",
    "plt.axis(\"equal\")\n",
    "plt.title(\"Top 10 Video_ids and Video Category\")\n",
    "plt.show()"
   ]
  },
  {
   "cell_type": "code",
   "execution_count": 1935,
   "metadata": {},
   "outputs": [],
   "source": [
    "# publish_time = []\n",
    "# publish_day = []\n",
    "# video_id = [\"j4KvrAUjn6c\",\"8h--kFui1JA\", \"r-3iathMo7o\", \"MAjY8mCTXWk\", \"t4pRQ0jn23Q\", \"QBL8IRJ5yHU\", \"iILJvqrAQ_w\", \"NBSAQenU2Bk\", \"vjSohj-Iclc\", \"ulNswX3If6U\"]\n",
    "\n",
    "# # j4KvrAUjn6c\t30\n",
    "# # 8h--kFui1JA\t29\n",
    "# # r-3iathMo7o\t29\n",
    "# # MAjY8mCTXWk\t29\n",
    "# # t4pRQ0jn23Q\t29\n",
    "# # QBL8IRJ5yHU\t29\n",
    "# # iILJvqrAQ_w\t29\n",
    "# # NBSAQenU2Bk\t29\n",
    "# # vjSohj-Iclc\t28\n",
    "# # ulNswX3If6U\t28\n",
    "\n",
    "# for item in video_id:\n",
    "#     publish_time.append(cleaned_us_data_df['publish_time_formatted'])\n",
    "#     publish_day.append(cleaned_us_data_df'publish_day')\n",
    " \n",
    "# # Save to a new dataframe \n",
    "# publish_time_day_df=pd.DataFrame({\"video_id\": video_id, \"Publish Time\": publish_time, \"Publish Day\":publish_day})"
   ]
  },
  {
   "cell_type": "code",
   "execution_count": 1936,
   "metadata": {},
   "outputs": [],
   "source": [
    "# cleaned_us_data_df.set_index(\"video_id\", inplace = True)"
   ]
  },
  {
   "cell_type": "code",
   "execution_count": 1937,
   "metadata": {},
   "outputs": [],
   "source": [
    "result_trend_1_df = cleaned_us_data_df.loc[[\"j4KvrAUjn6c\"]]"
   ]
  },
  {
   "cell_type": "code",
   "execution_count": 1938,
   "metadata": {},
   "outputs": [
    {
     "data": {
      "text/html": [
       "<div>\n",
       "<style scoped>\n",
       "    .dataframe tbody tr th:only-of-type {\n",
       "        vertical-align: middle;\n",
       "    }\n",
       "\n",
       "    .dataframe tbody tr th {\n",
       "        vertical-align: top;\n",
       "    }\n",
       "\n",
       "    .dataframe thead th {\n",
       "        text-align: right;\n",
       "    }\n",
       "</style>\n",
       "<table border=\"1\" class=\"dataframe\">\n",
       "  <thead>\n",
       "    <tr style=\"text-align: right;\">\n",
       "      <th></th>\n",
       "      <th>trending_date</th>\n",
       "      <th>title</th>\n",
       "      <th>channel_title</th>\n",
       "      <th>category_id</th>\n",
       "      <th>publish_time</th>\n",
       "      <th>tags</th>\n",
       "      <th>views</th>\n",
       "      <th>likes</th>\n",
       "      <th>dislikes</th>\n",
       "      <th>comment_count</th>\n",
       "      <th>...</th>\n",
       "      <th>trending_date_formatted</th>\n",
       "      <th>trending_day</th>\n",
       "      <th>trending_month</th>\n",
       "      <th>trending_year</th>\n",
       "      <th>trending_date_formatted_order</th>\n",
       "      <th>publish_time_formatted</th>\n",
       "      <th>publish_day</th>\n",
       "      <th>publish_month</th>\n",
       "      <th>publish_year</th>\n",
       "      <th>tag_count</th>\n",
       "    </tr>\n",
       "    <tr>\n",
       "      <th>video_id</th>\n",
       "      <th></th>\n",
       "      <th></th>\n",
       "      <th></th>\n",
       "      <th></th>\n",
       "      <th></th>\n",
       "      <th></th>\n",
       "      <th></th>\n",
       "      <th></th>\n",
       "      <th></th>\n",
       "      <th></th>\n",
       "      <th></th>\n",
       "      <th></th>\n",
       "      <th></th>\n",
       "      <th></th>\n",
       "      <th></th>\n",
       "      <th></th>\n",
       "      <th></th>\n",
       "      <th></th>\n",
       "      <th></th>\n",
       "      <th></th>\n",
       "      <th></th>\n",
       "    </tr>\n",
       "  </thead>\n",
       "  <tbody>\n",
       "    <tr>\n",
       "      <th>j4KvrAUjn6c</th>\n",
       "      <td>18.14.05</td>\n",
       "      <td>WE MADE OUR MOM CRY...HER DREAM CAME TRUE!</td>\n",
       "      <td>Lucas and Marcus</td>\n",
       "      <td>24</td>\n",
       "      <td>2018-05-13T18:03:56.000Z</td>\n",
       "      <td>Lucas and Marcus|\"Marcus and Lucas\"|\"Dobre\"|\"D...</td>\n",
       "      <td>2131702</td>\n",
       "      <td>54280</td>\n",
       "      <td>4696</td>\n",
       "      <td>10705</td>\n",
       "      <td>...</td>\n",
       "      <td>2018-05-14</td>\n",
       "      <td>Monday</td>\n",
       "      <td>May</td>\n",
       "      <td>2018</td>\n",
       "      <td>14/05/2018</td>\n",
       "      <td>2018-05-13 18:03:56+00:00</td>\n",
       "      <td>Sunday</td>\n",
       "      <td>May</td>\n",
       "      <td>2018</td>\n",
       "      <td>30</td>\n",
       "    </tr>\n",
       "  </tbody>\n",
       "</table>\n",
       "<p>1 rows × 26 columns</p>\n",
       "</div>"
      ],
      "text/plain": [
       "            trending_date                                       title  \\\n",
       "video_id                                                                \n",
       "j4KvrAUjn6c      18.14.05  WE MADE OUR MOM CRY...HER DREAM CAME TRUE!   \n",
       "\n",
       "                channel_title  category_id              publish_time  \\\n",
       "video_id                                                               \n",
       "j4KvrAUjn6c  Lucas and Marcus           24  2018-05-13T18:03:56.000Z   \n",
       "\n",
       "                                                          tags    views  \\\n",
       "video_id                                                                  \n",
       "j4KvrAUjn6c  Lucas and Marcus|\"Marcus and Lucas\"|\"Dobre\"|\"D...  2131702   \n",
       "\n",
       "             likes  dislikes  comment_count  ... trending_date_formatted  \\\n",
       "video_id                                     ...                           \n",
       "j4KvrAUjn6c  54280      4696          10705  ...              2018-05-14   \n",
       "\n",
       "             trending_day  trending_month  trending_year  \\\n",
       "video_id                                                   \n",
       "j4KvrAUjn6c        Monday             May           2018   \n",
       "\n",
       "            trending_date_formatted_order     publish_time_formatted  \\\n",
       "video_id                                                               \n",
       "j4KvrAUjn6c                    14/05/2018  2018-05-13 18:03:56+00:00   \n",
       "\n",
       "            publish_day publish_month publish_year  tag_count  \n",
       "video_id                                                       \n",
       "j4KvrAUjn6c      Sunday           May         2018         30  \n",
       "\n",
       "[1 rows x 26 columns]"
      ]
     },
     "execution_count": 1938,
     "metadata": {},
     "output_type": "execute_result"
    }
   ],
   "source": [
    "result_trend_1_df.iloc[[0]]"
   ]
  },
  {
   "cell_type": "code",
   "execution_count": 1939,
   "metadata": {},
   "outputs": [
    {
     "data": {
      "text/html": [
       "<div>\n",
       "<style scoped>\n",
       "    .dataframe tbody tr th:only-of-type {\n",
       "        vertical-align: middle;\n",
       "    }\n",
       "\n",
       "    .dataframe tbody tr th {\n",
       "        vertical-align: top;\n",
       "    }\n",
       "\n",
       "    .dataframe thead th {\n",
       "        text-align: right;\n",
       "    }\n",
       "</style>\n",
       "<table border=\"1\" class=\"dataframe\">\n",
       "  <thead>\n",
       "    <tr style=\"text-align: right;\">\n",
       "      <th></th>\n",
       "      <th>publish_time_formatted</th>\n",
       "      <th>publish_day</th>\n",
       "    </tr>\n",
       "    <tr>\n",
       "      <th>video_id</th>\n",
       "      <th></th>\n",
       "      <th></th>\n",
       "    </tr>\n",
       "  </thead>\n",
       "  <tbody>\n",
       "    <tr>\n",
       "      <th>j4KvrAUjn6c</th>\n",
       "      <td>2018-05-13 18:03:56+00:00</td>\n",
       "      <td>Sunday</td>\n",
       "    </tr>\n",
       "  </tbody>\n",
       "</table>\n",
       "</div>"
      ],
      "text/plain": [
       "                publish_time_formatted publish_day\n",
       "video_id                                          \n",
       "j4KvrAUjn6c  2018-05-13 18:03:56+00:00      Sunday"
      ]
     },
     "execution_count": 1939,
     "metadata": {},
     "output_type": "execute_result"
    }
   ],
   "source": [
    "publish_time_j4KvrAUjn6c= result_trend_1_df[['publish_time_formatted', 'publish_day']]\n",
    "publish_time_j4KvrAUjn6c.head(1)"
   ]
  },
  {
   "cell_type": "code",
   "execution_count": 1940,
   "metadata": {},
   "outputs": [],
   "source": [
    "dates = list(result_trend_1_df[\"trending_date_formatted_order\"])"
   ]
  },
  {
   "cell_type": "code",
   "execution_count": 1941,
   "metadata": {},
   "outputs": [],
   "source": [
    "views = list(result_trend_1_df[\"views\"])"
   ]
  },
  {
   "cell_type": "code",
   "execution_count": 1942,
   "metadata": {},
   "outputs": [],
   "source": [
    "likes = list(result_trend_1_df[\"likes\"])"
   ]
  },
  {
   "cell_type": "code",
   "execution_count": 1943,
   "metadata": {},
   "outputs": [
    {
     "data": {
      "image/png": "[encoded data removed]",
      "text/plain": [
       "<Figure size 432x288 with 1 Axes>"
      ]
     },
     "metadata": {
      "needs_background": "light"
     },
     "output_type": "display_data"
    }
   ],
   "source": [
    "x_axis = dates\n",
    "y_axis = views\n",
    "plt.plot(x_axis,y_axis,marker='o', color='blue')\n",
    "plt.xticks(rotation='vertical')\n",
    "plt.xlabel(\"Trending Date\")\n",
    "plt.ylabel(\"Views\")\n",
    "plt.title(\"Trending Date and Views for video ID: j4KvrAUjn6c\")\n",
    "# plt.gcf\n",
    "plt.show()"
   ]
  },
  {
   "cell_type": "code",
   "execution_count": 1944,
   "metadata": {},
   "outputs": [
    {
     "data": {
      "image/png": "[encoded data removed]",
      "text/plain": [
       "<Figure size 432x288 with 1 Axes>"
      ]
     },
     "metadata": {
      "needs_background": "light"
     },
     "output_type": "display_data"
    }
   ],
   "source": [
    "x_axis = dates\n",
    "y_axis = likes\n",
    "plt.plot(x_axis,y_axis,marker='o', color='blue')\n",
    "plt.xticks(rotation='vertical')\n",
    "plt.xlabel(\"Trending Date\")\n",
    "plt.ylabel(\"likes\")\n",
    "plt.title(\"Trending Date and likes for video ID: j4KvrAUjn6c\")\n",
    "# plt.gcf\n",
    "plt.show()"
   ]
  },
  {
   "cell_type": "code",
   "execution_count": 1945,
   "metadata": {},
   "outputs": [],
   "source": [
    "result_trend_2_df = cleaned_us_data_df.loc[[\"8h--kFui1JA\"]]"
   ]
  },
  {
   "cell_type": "code",
   "execution_count": 1946,
   "metadata": {},
   "outputs": [
    {
     "data": {
      "text/html": [
       "<div>\n",
       "<style scoped>\n",
       "    .dataframe tbody tr th:only-of-type {\n",
       "        vertical-align: middle;\n",
       "    }\n",
       "\n",
       "    .dataframe tbody tr th {\n",
       "        vertical-align: top;\n",
       "    }\n",
       "\n",
       "    .dataframe thead th {\n",
       "        text-align: right;\n",
       "    }\n",
       "</style>\n",
       "<table border=\"1\" class=\"dataframe\">\n",
       "  <thead>\n",
       "    <tr style=\"text-align: right;\">\n",
       "      <th></th>\n",
       "      <th>publish_time_formatted</th>\n",
       "      <th>publish_day</th>\n",
       "    </tr>\n",
       "    <tr>\n",
       "      <th>video_id</th>\n",
       "      <th></th>\n",
       "      <th></th>\n",
       "    </tr>\n",
       "  </thead>\n",
       "  <tbody>\n",
       "    <tr>\n",
       "      <th>8h--kFui1JA</th>\n",
       "      <td>2018-05-09 17:00:00+00:00</td>\n",
       "      <td>Wednesday</td>\n",
       "    </tr>\n",
       "  </tbody>\n",
       "</table>\n",
       "</div>"
      ],
      "text/plain": [
       "                publish_time_formatted publish_day\n",
       "video_id                                          \n",
       "8h--kFui1JA  2018-05-09 17:00:00+00:00   Wednesday"
      ]
     },
     "execution_count": 1946,
     "metadata": {},
     "output_type": "execute_result"
    }
   ],
   "source": [
    "publish_time_8hkFui1JA = result_trend_2_df[['publish_time_formatted','publish_day']]\n",
    "publish_time_8hkFui1JA.head(1)"
   ]
  },
  {
   "cell_type": "code",
   "execution_count": 1947,
   "metadata": {},
   "outputs": [],
   "source": [
    "dates_2 = list(result_trend_2_df[\"trending_date_formatted_order\"])"
   ]
  },
  {
   "cell_type": "code",
   "execution_count": 1948,
   "metadata": {},
   "outputs": [],
   "source": [
    "views_2 = list(result_trend_2_df[\"views\"])"
   ]
  },
  {
   "cell_type": "code",
   "execution_count": 1949,
   "metadata": {},
   "outputs": [],
   "source": [
    "likes_2 = list(result_trend_2_df[\"likes\"])"
   ]
  },
  {
   "cell_type": "code",
   "execution_count": 1950,
   "metadata": {},
   "outputs": [
    {
     "data": {
      "image/png": "[encoded data removed]",
      "text/plain": [
       "<Figure size 432x288 with 1 Axes>"
      ]
     },
     "metadata": {
      "needs_background": "light"
     },
     "output_type": "display_data"
    }
   ],
   "source": [
    "x_axis = dates_2\n",
    "y_axis = views_2\n",
    "plt.plot(x_axis,y_axis,marker='o', color='orange')\n",
    "plt.xticks(rotation='vertical')\n",
    "plt.xlabel(\"Trending Date\")\n",
    "plt.ylabel(\"Views\")\n",
    "plt.title(\"Trending Date and Views for video ID: 8h--kFui1JA\")\n",
    "# plt.gcf\n",
    "plt.show()"
   ]
  },
  {
   "cell_type": "code",
   "execution_count": 1951,
   "metadata": {},
   "outputs": [
    {
     "data": {
      "image/png": "[encoded data removed]",
      "text/plain": [
       "<Figure size 432x288 with 1 Axes>"
      ]
     },
     "metadata": {
      "needs_background": "light"
     },
     "output_type": "display_data"
    }
   ],
   "source": [
    "x_axis = dates_2\n",
    "y_axis = likes_2\n",
    "plt.plot(x_axis,y_axis,marker='o', color='orange')\n",
    "plt.xticks(rotation='vertical')\n",
    "plt.xlabel(\"Trending Date\")\n",
    "plt.ylabel(\"Likes\")\n",
    "plt.title(\"Trending Date and Likes for video ID: 8h--kFui1JA\")\n",
    "# plt.gcf\n",
    "plt.show()"
   ]
  },
  {
   "cell_type": "code",
   "execution_count": 1952,
   "metadata": {},
   "outputs": [],
   "source": [
    "result_trend_3_df = cleaned_us_data_df.loc[[\"r-3iathMo7o\"]]"
   ]
  },
  {
   "cell_type": "code",
   "execution_count": 1953,
   "metadata": {},
   "outputs": [
    {
     "data": {
      "text/html": [
       "<div>\n",
       "<style scoped>\n",
       "    .dataframe tbody tr th:only-of-type {\n",
       "        vertical-align: middle;\n",
       "    }\n",
       "\n",
       "    .dataframe tbody tr th {\n",
       "        vertical-align: top;\n",
       "    }\n",
       "\n",
       "    .dataframe thead th {\n",
       "        text-align: right;\n",
       "    }\n",
       "</style>\n",
       "<table border=\"1\" class=\"dataframe\">\n",
       "  <thead>\n",
       "    <tr style=\"text-align: right;\">\n",
       "      <th></th>\n",
       "      <th>publish_time_formatted</th>\n",
       "      <th>publish_day</th>\n",
       "    </tr>\n",
       "    <tr>\n",
       "      <th>video_id</th>\n",
       "      <th></th>\n",
       "      <th></th>\n",
       "    </tr>\n",
       "  </thead>\n",
       "  <tbody>\n",
       "    <tr>\n",
       "      <th>r-3iathMo7o</th>\n",
       "      <td>2018-05-13 19:00:25+00:00</td>\n",
       "      <td>Sunday</td>\n",
       "    </tr>\n",
       "  </tbody>\n",
       "</table>\n",
       "</div>"
      ],
      "text/plain": [
       "                publish_time_formatted publish_day\n",
       "video_id                                          \n",
       "r-3iathMo7o  2018-05-13 19:00:25+00:00      Sunday"
      ]
     },
     "execution_count": 1953,
     "metadata": {},
     "output_type": "execute_result"
    }
   ],
   "source": [
    "publish_time_r3iathMo7o = result_trend_3_df[['publish_time_formatted', 'publish_day']]\n",
    "publish_time_r3iathMo7o.head(1)"
   ]
  },
  {
   "cell_type": "code",
   "execution_count": 1954,
   "metadata": {},
   "outputs": [],
   "source": [
    "dates_3 = list(result_trend_3_df[\"trending_date_formatted_order\"])"
   ]
  },
  {
   "cell_type": "code",
   "execution_count": 1955,
   "metadata": {},
   "outputs": [],
   "source": [
    "views_3 = list(result_trend_3_df[\"views\"])"
   ]
  },
  {
   "cell_type": "code",
   "execution_count": 1956,
   "metadata": {},
   "outputs": [],
   "source": [
    "likes_3 = list(result_trend_3_df[\"likes\"])"
   ]
  },
  {
   "cell_type": "code",
   "execution_count": 1957,
   "metadata": {},
   "outputs": [
    {
     "data": {
      "image/png": "[encoded data removed]",
      "text/plain": [
       "<Figure size 432x288 with 1 Axes>"
      ]
     },
     "metadata": {
      "needs_background": "light"
     },
     "output_type": "display_data"
    }
   ],
   "source": [
    "x_axis = dates_3\n",
    "y_axis = views_3\n",
    "plt.plot(x_axis,y_axis,marker='o', color='purple')\n",
    "plt.xticks(rotation='vertical')\n",
    "plt.xlabel(\"Trending Date\")\n",
    "plt.ylabel(\"Views\")\n",
    "plt.title(\"Trending Date and Views for video ID: r-3iathMo7o\")\n",
    "# plt.gcf\n",
    "plt.show()"
   ]
  },
  {
   "cell_type": "code",
   "execution_count": 1958,
   "metadata": {},
   "outputs": [
    {
     "data": {
      "image/png": "[encoded data removed]",
      "text/plain": [
       "<Figure size 432x288 with 1 Axes>"
      ]
     },
     "metadata": {
      "needs_background": "light"
     },
     "output_type": "display_data"
    }
   ],
   "source": [
    "x_axis = dates_3\n",
    "y_axis = likes_3\n",
    "plt.plot(x_axis,y_axis,marker='o', color='purple')\n",
    "plt.xticks(rotation='vertical')\n",
    "plt.xlabel(\"Trending Date\")\n",
    "plt.ylabel(\"Likes\")\n",
    "plt.title(\"Trending Date and Likes for video ID: r-3iathMo7o\")\n",
    "# plt.gcf\n",
    "plt.show()"
   ]
  },
  {
   "cell_type": "markdown",
   "metadata": {},
   "source": [
    "j4KvrAUjn6c\t30\n",
    "8h--kFui1JA\t29\n",
    "r-3iathMo7o\t29\n",
    "MAjY8mCTXWk\t29\n",
    "t4pRQ0jn23Q\t29\n",
    "QBL8IRJ5yHU\t29\n",
    "iILJvqrAQ_w\t29\n",
    "NBSAQenU2Bk\t29\n",
    "vjSohj-Iclc\t28\n",
    "ulNswX3If6U\t28"
   ]
  },
  {
   "cell_type": "code",
   "execution_count": 1959,
   "metadata": {},
   "outputs": [],
   "source": [
    "result_trend_4_df = cleaned_us_data_df.loc[[\"MAjY8mCTXWk\"]]"
   ]
  },
  {
   "cell_type": "code",
   "execution_count": 1960,
   "metadata": {},
   "outputs": [
    {
     "data": {
      "text/html": [
       "<div>\n",
       "<style scoped>\n",
       "    .dataframe tbody tr th:only-of-type {\n",
       "        vertical-align: middle;\n",
       "    }\n",
       "\n",
       "    .dataframe tbody tr th {\n",
       "        vertical-align: top;\n",
       "    }\n",
       "\n",
       "    .dataframe thead th {\n",
       "        text-align: right;\n",
       "    }\n",
       "</style>\n",
       "<table border=\"1\" class=\"dataframe\">\n",
       "  <thead>\n",
       "    <tr style=\"text-align: right;\">\n",
       "      <th></th>\n",
       "      <th>publish_time_formatted</th>\n",
       "      <th>publish_day</th>\n",
       "    </tr>\n",
       "    <tr>\n",
       "      <th>video_id</th>\n",
       "      <th></th>\n",
       "      <th></th>\n",
       "    </tr>\n",
       "  </thead>\n",
       "  <tbody>\n",
       "    <tr>\n",
       "      <th>MAjY8mCTXWk</th>\n",
       "      <td>2018-05-14 15:59:47+00:00</td>\n",
       "      <td>Monday</td>\n",
       "    </tr>\n",
       "  </tbody>\n",
       "</table>\n",
       "</div>"
      ],
      "text/plain": [
       "                publish_time_formatted publish_day\n",
       "video_id                                          \n",
       "MAjY8mCTXWk  2018-05-14 15:59:47+00:00      Monday"
      ]
     },
     "execution_count": 1960,
     "metadata": {},
     "output_type": "execute_result"
    }
   ],
   "source": [
    "publish_time_MAjY8mCTXWk = result_trend_4_df[['publish_time_formatted', 'publish_day']]\n",
    "publish_time_MAjY8mCTXWk.head(1)"
   ]
  },
  {
   "cell_type": "code",
   "execution_count": 1961,
   "metadata": {},
   "outputs": [],
   "source": [
    "result_trend_5_df = cleaned_us_data_df.loc[[\"t4pRQ0jn23Q\"]]"
   ]
  },
  {
   "cell_type": "code",
   "execution_count": 1962,
   "metadata": {},
   "outputs": [
    {
     "data": {
      "text/html": [
       "<div>\n",
       "<style scoped>\n",
       "    .dataframe tbody tr th:only-of-type {\n",
       "        vertical-align: middle;\n",
       "    }\n",
       "\n",
       "    .dataframe tbody tr th {\n",
       "        vertical-align: top;\n",
       "    }\n",
       "\n",
       "    .dataframe thead th {\n",
       "        text-align: right;\n",
       "    }\n",
       "</style>\n",
       "<table border=\"1\" class=\"dataframe\">\n",
       "  <thead>\n",
       "    <tr style=\"text-align: right;\">\n",
       "      <th></th>\n",
       "      <th>publish_time_formatted</th>\n",
       "      <th>publish_day</th>\n",
       "    </tr>\n",
       "    <tr>\n",
       "      <th>video_id</th>\n",
       "      <th></th>\n",
       "      <th></th>\n",
       "    </tr>\n",
       "  </thead>\n",
       "  <tbody>\n",
       "    <tr>\n",
       "      <th>t4pRQ0jn23Q</th>\n",
       "      <td>2018-05-14 14:00:03+00:00</td>\n",
       "      <td>Monday</td>\n",
       "    </tr>\n",
       "  </tbody>\n",
       "</table>\n",
       "</div>"
      ],
      "text/plain": [
       "                publish_time_formatted publish_day\n",
       "video_id                                          \n",
       "t4pRQ0jn23Q  2018-05-14 14:00:03+00:00      Monday"
      ]
     },
     "execution_count": 1962,
     "metadata": {},
     "output_type": "execute_result"
    }
   ],
   "source": [
    "publish_time_t4pRQ0jn23Q = result_trend_5_df[['publish_time_formatted', 'publish_day']]\n",
    "publish_time_t4pRQ0jn23Q.head(1)"
   ]
  },
  {
   "cell_type": "code",
   "execution_count": 1963,
   "metadata": {},
   "outputs": [],
   "source": [
    "result_trend_6_df = cleaned_us_data_df.loc[[\"QBL8IRJ5yHU\"]]"
   ]
  },
  {
   "cell_type": "code",
   "execution_count": 1964,
   "metadata": {},
   "outputs": [
    {
     "data": {
      "text/html": [
       "<div>\n",
       "<style scoped>\n",
       "    .dataframe tbody tr th:only-of-type {\n",
       "        vertical-align: middle;\n",
       "    }\n",
       "\n",
       "    .dataframe tbody tr th {\n",
       "        vertical-align: top;\n",
       "    }\n",
       "\n",
       "    .dataframe thead th {\n",
       "        text-align: right;\n",
       "    }\n",
       "</style>\n",
       "<table border=\"1\" class=\"dataframe\">\n",
       "  <thead>\n",
       "    <tr style=\"text-align: right;\">\n",
       "      <th></th>\n",
       "      <th>publish_time_formatted</th>\n",
       "      <th>publish_day</th>\n",
       "    </tr>\n",
       "    <tr>\n",
       "      <th>video_id</th>\n",
       "      <th></th>\n",
       "      <th></th>\n",
       "    </tr>\n",
       "  </thead>\n",
       "  <tbody>\n",
       "    <tr>\n",
       "      <th>QBL8IRJ5yHU</th>\n",
       "      <td>2018-05-14 19:00:01+00:00</td>\n",
       "      <td>Monday</td>\n",
       "    </tr>\n",
       "  </tbody>\n",
       "</table>\n",
       "</div>"
      ],
      "text/plain": [
       "                publish_time_formatted publish_day\n",
       "video_id                                          \n",
       "QBL8IRJ5yHU  2018-05-14 19:00:01+00:00      Monday"
      ]
     },
     "execution_count": 1964,
     "metadata": {},
     "output_type": "execute_result"
    }
   ],
   "source": [
    "publish_time_QBL8IRJ5yHU = result_trend_6_df[['publish_time_formatted', 'publish_day']]\n",
    "publish_time_QBL8IRJ5yHU.head(1)"
   ]
  },
  {
   "cell_type": "code",
   "execution_count": 1965,
   "metadata": {},
   "outputs": [],
   "source": [
    "result_trend_7_df = cleaned_us_data_df.loc[[\"iILJvqrAQ_w\"]]"
   ]
  },
  {
   "cell_type": "code",
   "execution_count": 1966,
   "metadata": {},
   "outputs": [
    {
     "data": {
      "text/html": [
       "<div>\n",
       "<style scoped>\n",
       "    .dataframe tbody tr th:only-of-type {\n",
       "        vertical-align: middle;\n",
       "    }\n",
       "\n",
       "    .dataframe tbody tr th {\n",
       "        vertical-align: top;\n",
       "    }\n",
       "\n",
       "    .dataframe thead th {\n",
       "        text-align: right;\n",
       "    }\n",
       "</style>\n",
       "<table border=\"1\" class=\"dataframe\">\n",
       "  <thead>\n",
       "    <tr style=\"text-align: right;\">\n",
       "      <th></th>\n",
       "      <th>publish_time_formatted</th>\n",
       "      <th>publish_day</th>\n",
       "    </tr>\n",
       "    <tr>\n",
       "      <th>video_id</th>\n",
       "      <th></th>\n",
       "      <th></th>\n",
       "    </tr>\n",
       "  </thead>\n",
       "  <tbody>\n",
       "    <tr>\n",
       "      <th>iILJvqrAQ_w</th>\n",
       "      <td>2018-05-11 04:00:34+00:00</td>\n",
       "      <td>Friday</td>\n",
       "    </tr>\n",
       "  </tbody>\n",
       "</table>\n",
       "</div>"
      ],
      "text/plain": [
       "                publish_time_formatted publish_day\n",
       "video_id                                          \n",
       "iILJvqrAQ_w  2018-05-11 04:00:34+00:00      Friday"
      ]
     },
     "execution_count": 1966,
     "metadata": {},
     "output_type": "execute_result"
    }
   ],
   "source": [
    "publish_time_iILJvqrAQ_w = result_trend_7_df[['publish_time_formatted', 'publish_day']]\n",
    "publish_time_iILJvqrAQ_w.head(1)"
   ]
  },
  {
   "cell_type": "code",
   "execution_count": 1967,
   "metadata": {},
   "outputs": [],
   "source": [
    "result_trend_8_df = cleaned_us_data_df.loc[[\"NBSAQenU2Bk\"]]"
   ]
  },
  {
   "cell_type": "code",
   "execution_count": 1968,
   "metadata": {},
   "outputs": [
    {
     "data": {
      "text/html": [
       "<div>\n",
       "<style scoped>\n",
       "    .dataframe tbody tr th:only-of-type {\n",
       "        vertical-align: middle;\n",
       "    }\n",
       "\n",
       "    .dataframe tbody tr th {\n",
       "        vertical-align: top;\n",
       "    }\n",
       "\n",
       "    .dataframe thead th {\n",
       "        text-align: right;\n",
       "    }\n",
       "</style>\n",
       "<table border=\"1\" class=\"dataframe\">\n",
       "  <thead>\n",
       "    <tr style=\"text-align: right;\">\n",
       "      <th></th>\n",
       "      <th>publish_time_formatted</th>\n",
       "      <th>publish_day</th>\n",
       "    </tr>\n",
       "    <tr>\n",
       "      <th>video_id</th>\n",
       "      <th></th>\n",
       "      <th></th>\n",
       "    </tr>\n",
       "  </thead>\n",
       "  <tbody>\n",
       "    <tr>\n",
       "      <th>NBSAQenU2Bk</th>\n",
       "      <td>2018-05-14 13:00:01+00:00</td>\n",
       "      <td>Monday</td>\n",
       "    </tr>\n",
       "  </tbody>\n",
       "</table>\n",
       "</div>"
      ],
      "text/plain": [
       "                publish_time_formatted publish_day\n",
       "video_id                                          \n",
       "NBSAQenU2Bk  2018-05-14 13:00:01+00:00      Monday"
      ]
     },
     "execution_count": 1968,
     "metadata": {},
     "output_type": "execute_result"
    }
   ],
   "source": [
    "publish_time_NBSAQenU2Bk = result_trend_8_df[['publish_time_formatted', 'publish_day']]\n",
    "publish_time_NBSAQenU2Bk.head(1)"
   ]
  },
  {
   "cell_type": "code",
   "execution_count": 1969,
   "metadata": {},
   "outputs": [],
   "source": [
    "result_trend_9_df = cleaned_us_data_df.loc[[\"vjSohj-Iclc\"]]"
   ]
  },
  {
   "cell_type": "code",
   "execution_count": 1970,
   "metadata": {},
   "outputs": [
    {
     "data": {
      "text/html": [
       "<div>\n",
       "<style scoped>\n",
       "    .dataframe tbody tr th:only-of-type {\n",
       "        vertical-align: middle;\n",
       "    }\n",
       "\n",
       "    .dataframe tbody tr th {\n",
       "        vertical-align: top;\n",
       "    }\n",
       "\n",
       "    .dataframe thead th {\n",
       "        text-align: right;\n",
       "    }\n",
       "</style>\n",
       "<table border=\"1\" class=\"dataframe\">\n",
       "  <thead>\n",
       "    <tr style=\"text-align: right;\">\n",
       "      <th></th>\n",
       "      <th>publish_time_formatted</th>\n",
       "      <th>publish_day</th>\n",
       "    </tr>\n",
       "    <tr>\n",
       "      <th>video_id</th>\n",
       "      <th></th>\n",
       "      <th></th>\n",
       "    </tr>\n",
       "  </thead>\n",
       "  <tbody>\n",
       "    <tr>\n",
       "      <th>vjSohj-Iclc</th>\n",
       "      <td>2018-05-10 19:56:28+00:00</td>\n",
       "      <td>Thursday</td>\n",
       "    </tr>\n",
       "  </tbody>\n",
       "</table>\n",
       "</div>"
      ],
      "text/plain": [
       "                publish_time_formatted publish_day\n",
       "video_id                                          \n",
       "vjSohj-Iclc  2018-05-10 19:56:28+00:00    Thursday"
      ]
     },
     "execution_count": 1970,
     "metadata": {},
     "output_type": "execute_result"
    }
   ],
   "source": [
    "publish_time_vjSohjIclc = result_trend_9_df[['publish_time_formatted', 'publish_day']]\n",
    "publish_time_vjSohjIclc.head(1)"
   ]
  },
  {
   "cell_type": "code",
   "execution_count": 1971,
   "metadata": {},
   "outputs": [],
   "source": [
    "result_trend_10_df = cleaned_us_data_df.loc[[\"ulNswX3If6U\"]]"
   ]
  },
  {
   "cell_type": "code",
   "execution_count": 1972,
   "metadata": {},
   "outputs": [
    {
     "data": {
      "text/html": [
       "<div>\n",
       "<style scoped>\n",
       "    .dataframe tbody tr th:only-of-type {\n",
       "        vertical-align: middle;\n",
       "    }\n",
       "\n",
       "    .dataframe tbody tr th {\n",
       "        vertical-align: top;\n",
       "    }\n",
       "\n",
       "    .dataframe thead th {\n",
       "        text-align: right;\n",
       "    }\n",
       "</style>\n",
       "<table border=\"1\" class=\"dataframe\">\n",
       "  <thead>\n",
       "    <tr style=\"text-align: right;\">\n",
       "      <th></th>\n",
       "      <th>publish_time_formatted</th>\n",
       "      <th>publish_day</th>\n",
       "    </tr>\n",
       "    <tr>\n",
       "      <th>video_id</th>\n",
       "      <th></th>\n",
       "      <th></th>\n",
       "    </tr>\n",
       "  </thead>\n",
       "  <tbody>\n",
       "    <tr>\n",
       "      <th>ulNswX3If6U</th>\n",
       "      <td>2018-05-10 16:00:11+00:00</td>\n",
       "      <td>Thursday</td>\n",
       "    </tr>\n",
       "  </tbody>\n",
       "</table>\n",
       "</div>"
      ],
      "text/plain": [
       "                publish_time_formatted publish_day\n",
       "video_id                                          \n",
       "ulNswX3If6U  2018-05-10 16:00:11+00:00    Thursday"
      ]
     },
     "execution_count": 1972,
     "metadata": {},
     "output_type": "execute_result"
    }
   ],
   "source": [
    "publish_time_ulNswX3If6U = result_trend_10_df[['publish_time_formatted', 'publish_day']]\n",
    "publish_time_ulNswX3If6U.head(1)"
   ]
  },
  {
   "cell_type": "code",
   "execution_count": 1973,
   "metadata": {},
   "outputs": [],
   "source": [
    "publish_time_day_df = cleaned_us_data_df.groupby([\"video_id\"])\n",
    "# publish_time_day_df.reset_index(inplace=True)\n",
    "# publish_time_day_df[\"trending_date\"].count()"
   ]
  },
  {
   "cell_type": "code",
   "execution_count": 1974,
   "metadata": {},
   "outputs": [
    {
     "data": {
      "text/html": [
       "<div>\n",
       "<style scoped>\n",
       "    .dataframe tbody tr th:only-of-type {\n",
       "        vertical-align: middle;\n",
       "    }\n",
       "\n",
       "    .dataframe tbody tr th {\n",
       "        vertical-align: top;\n",
       "    }\n",
       "\n",
       "    .dataframe thead th {\n",
       "        text-align: right;\n",
       "    }\n",
       "</style>\n",
       "<table border=\"1\" class=\"dataframe\">\n",
       "  <thead>\n",
       "    <tr style=\"text-align: right;\">\n",
       "      <th></th>\n",
       "      <th>publish_time_formatted</th>\n",
       "      <th>publish_day</th>\n",
       "      <th>publish_month</th>\n",
       "    </tr>\n",
       "    <tr>\n",
       "      <th>video_id</th>\n",
       "      <th></th>\n",
       "      <th></th>\n",
       "      <th></th>\n",
       "    </tr>\n",
       "  </thead>\n",
       "  <tbody>\n",
       "    <tr>\n",
       "      <th>2kyS6SvSYSE</th>\n",
       "      <td>2017-11-13 17:13:01+00:00</td>\n",
       "      <td>Monday</td>\n",
       "      <td>November</td>\n",
       "    </tr>\n",
       "    <tr>\n",
       "      <th>1ZAPwfrtAFY</th>\n",
       "      <td>2017-11-13 07:30:00+00:00</td>\n",
       "      <td>Monday</td>\n",
       "      <td>November</td>\n",
       "    </tr>\n",
       "    <tr>\n",
       "      <th>5qpjK5DgCt4</th>\n",
       "      <td>2017-11-12 19:05:24+00:00</td>\n",
       "      <td>Sunday</td>\n",
       "      <td>November</td>\n",
       "    </tr>\n",
       "    <tr>\n",
       "      <th>puqaWrEC7tY</th>\n",
       "      <td>2017-11-13 11:00:04+00:00</td>\n",
       "      <td>Monday</td>\n",
       "      <td>November</td>\n",
       "    </tr>\n",
       "    <tr>\n",
       "      <th>d380meD0W0M</th>\n",
       "      <td>2017-11-12 18:01:41+00:00</td>\n",
       "      <td>Sunday</td>\n",
       "      <td>November</td>\n",
       "    </tr>\n",
       "    <tr>\n",
       "      <th>...</th>\n",
       "      <td>...</td>\n",
       "      <td>...</td>\n",
       "      <td>...</td>\n",
       "    </tr>\n",
       "    <tr>\n",
       "      <th>X9fHoWLf1w0</th>\n",
       "      <td>2018-05-26 16:00:04+00:00</td>\n",
       "      <td>Saturday</td>\n",
       "      <td>May</td>\n",
       "    </tr>\n",
       "    <tr>\n",
       "      <th>tiF9SzzzX_o</th>\n",
       "      <td>2018-05-22 02:34:39+00:00</td>\n",
       "      <td>Tuesday</td>\n",
       "      <td>May</td>\n",
       "    </tr>\n",
       "    <tr>\n",
       "      <th>Gs26bZTRkdU</th>\n",
       "      <td>2018-05-20 21:00:00+00:00</td>\n",
       "      <td>Sunday</td>\n",
       "      <td>May</td>\n",
       "    </tr>\n",
       "    <tr>\n",
       "      <th>_QWZvU7VCn8</th>\n",
       "      <td>2018-05-18 17:13:08+00:00</td>\n",
       "      <td>Friday</td>\n",
       "      <td>May</td>\n",
       "    </tr>\n",
       "    <tr>\n",
       "      <th>oV0zkMe1K8s</th>\n",
       "      <td>2018-05-17 17:00:04+00:00</td>\n",
       "      <td>Thursday</td>\n",
       "      <td>May</td>\n",
       "    </tr>\n",
       "  </tbody>\n",
       "</table>\n",
       "<p>39449 rows × 3 columns</p>\n",
       "</div>"
      ],
      "text/plain": [
       "                publish_time_formatted publish_day publish_month\n",
       "video_id                                                        \n",
       "2kyS6SvSYSE  2017-11-13 17:13:01+00:00      Monday      November\n",
       "1ZAPwfrtAFY  2017-11-13 07:30:00+00:00      Monday      November\n",
       "5qpjK5DgCt4  2017-11-12 19:05:24+00:00      Sunday      November\n",
       "puqaWrEC7tY  2017-11-13 11:00:04+00:00      Monday      November\n",
       "d380meD0W0M  2017-11-12 18:01:41+00:00      Sunday      November\n",
       "...                                ...         ...           ...\n",
       "X9fHoWLf1w0  2018-05-26 16:00:04+00:00    Saturday           May\n",
       "tiF9SzzzX_o  2018-05-22 02:34:39+00:00     Tuesday           May\n",
       "Gs26bZTRkdU  2018-05-20 21:00:00+00:00      Sunday           May\n",
       "_QWZvU7VCn8  2018-05-18 17:13:08+00:00      Friday           May\n",
       "oV0zkMe1K8s  2018-05-17 17:00:04+00:00    Thursday           May\n",
       "\n",
       "[39449 rows x 3 columns]"
      ]
     },
     "execution_count": 1974,
     "metadata": {},
     "output_type": "execute_result"
    }
   ],
   "source": [
    "publish_df = publish_time_day_df[['publish_time_formatted', 'publish_day', 'publish_month']]\n",
    "publish_df.head(15)"
   ]
  },
  {
   "cell_type": "code",
   "execution_count": 1975,
   "metadata": {},
   "outputs": [
    {
     "data": {
      "text/plain": [
       "video_id\n",
       "2kyS6SvSYSE    2017-11-13 17:13:01+00:00\n",
       "1ZAPwfrtAFY    2017-11-13 07:30:00+00:00\n",
       "5qpjK5DgCt4    2017-11-12 19:05:24+00:00\n",
       "puqaWrEC7tY    2017-11-13 11:00:04+00:00\n",
       "d380meD0W0M    2017-11-12 18:01:41+00:00\n",
       "                         ...            \n",
       "BZt0qjTWNhw    2018-05-18 13:00:04+00:00\n",
       "1h7KV2sjUWY    2018-05-18 01:00:06+00:00\n",
       "D6Oy4LfoqsU    2018-05-18 17:34:22+00:00\n",
       "oV0zkMe1K8s    2018-05-17 17:00:04+00:00\n",
       "ooyjaVdt-jA    2018-05-17 17:09:38+00:00\n",
       "Name: publish_time_formatted, Length: 40892, dtype: object"
      ]
     },
     "execution_count": 1975,
     "metadata": {},
     "output_type": "execute_result"
    }
   ],
   "source": [
    "cleaned_us_data_df[\"publish_time_formatted\"]"
   ]
  },
  {
   "cell_type": "code",
   "execution_count": 1976,
   "metadata": {},
   "outputs": [
    {
     "data": {
      "text/html": [
       "<div>\n",
       "<style scoped>\n",
       "    .dataframe tbody tr th:only-of-type {\n",
       "        vertical-align: middle;\n",
       "    }\n",
       "\n",
       "    .dataframe tbody tr th {\n",
       "        vertical-align: top;\n",
       "    }\n",
       "\n",
       "    .dataframe thead th {\n",
       "        text-align: right;\n",
       "    }\n",
       "</style>\n",
       "<table border=\"1\" class=\"dataframe\">\n",
       "  <thead>\n",
       "    <tr style=\"text-align: right;\">\n",
       "      <th></th>\n",
       "      <th>video_id</th>\n",
       "    </tr>\n",
       "  </thead>\n",
       "  <tbody>\n",
       "    <tr>\n",
       "      <th>JR4oPuV3CWg</th>\n",
       "      <td>1</td>\n",
       "    </tr>\n",
       "    <tr>\n",
       "      <th>qPEIPu0V8GQ</th>\n",
       "      <td>1</td>\n",
       "    </tr>\n",
       "    <tr>\n",
       "      <th>tUg-WLRdRv0</th>\n",
       "      <td>1</td>\n",
       "    </tr>\n",
       "    <tr>\n",
       "      <th>mwpHSMv1pI4</th>\n",
       "      <td>1</td>\n",
       "    </tr>\n",
       "    <tr>\n",
       "      <th>vlrywa519No</th>\n",
       "      <td>1</td>\n",
       "    </tr>\n",
       "    <tr>\n",
       "      <th>ZzefeQ0v5wg</th>\n",
       "      <td>1</td>\n",
       "    </tr>\n",
       "    <tr>\n",
       "      <th>MEcqo5fctxI</th>\n",
       "      <td>1</td>\n",
       "    </tr>\n",
       "    <tr>\n",
       "      <th>HL3wvhv9QGg</th>\n",
       "      <td>1</td>\n",
       "    </tr>\n",
       "    <tr>\n",
       "      <th>Z-0bYA5iZDo</th>\n",
       "      <td>1</td>\n",
       "    </tr>\n",
       "    <tr>\n",
       "      <th>faxyAEMDNMg</th>\n",
       "      <td>1</td>\n",
       "    </tr>\n",
       "    <tr>\n",
       "      <th>8sAApdJdG3A</th>\n",
       "      <td>1</td>\n",
       "    </tr>\n",
       "    <tr>\n",
       "      <th>07JQ4WZJIbg</th>\n",
       "      <td>1</td>\n",
       "    </tr>\n",
       "    <tr>\n",
       "      <th>LSDCUIn33G4</th>\n",
       "      <td>1</td>\n",
       "    </tr>\n",
       "    <tr>\n",
       "      <th>hxAiXfyYX2E</th>\n",
       "      <td>1</td>\n",
       "    </tr>\n",
       "    <tr>\n",
       "      <th>twdauWqqmrc</th>\n",
       "      <td>1</td>\n",
       "    </tr>\n",
       "    <tr>\n",
       "      <th>oxSlLYC_Exw</th>\n",
       "      <td>1</td>\n",
       "    </tr>\n",
       "    <tr>\n",
       "      <th>0devsSCkYRY</th>\n",
       "      <td>1</td>\n",
       "    </tr>\n",
       "    <tr>\n",
       "      <th>pA5NbgdpRpk</th>\n",
       "      <td>1</td>\n",
       "    </tr>\n",
       "    <tr>\n",
       "      <th>ttf_EzEkxBk</th>\n",
       "      <td>1</td>\n",
       "    </tr>\n",
       "    <tr>\n",
       "      <th>cJHA4lLp32M</th>\n",
       "      <td>1</td>\n",
       "    </tr>\n",
       "  </tbody>\n",
       "</table>\n",
       "</div>"
      ],
      "text/plain": [
       "             video_id\n",
       "JR4oPuV3CWg         1\n",
       "qPEIPu0V8GQ         1\n",
       "tUg-WLRdRv0         1\n",
       "mwpHSMv1pI4         1\n",
       "vlrywa519No         1\n",
       "ZzefeQ0v5wg         1\n",
       "MEcqo5fctxI         1\n",
       "HL3wvhv9QGg         1\n",
       "Z-0bYA5iZDo         1\n",
       "faxyAEMDNMg         1\n",
       "8sAApdJdG3A         1\n",
       "07JQ4WZJIbg         1\n",
       "LSDCUIn33G4         1\n",
       "hxAiXfyYX2E         1\n",
       "twdauWqqmrc         1\n",
       "oxSlLYC_Exw         1\n",
       "0devsSCkYRY         1\n",
       "pA5NbgdpRpk         1\n",
       "ttf_EzEkxBk         1\n",
       "cJHA4lLp32M         1"
      ]
     },
     "execution_count": 1976,
     "metadata": {},
     "output_type": "execute_result"
    }
   ],
   "source": [
    "video_frequency = pd.DataFrame(video_trend_frequency)\n",
    "video_frequency.tail(20)"
   ]
  },
  {
   "attachments": {},
   "cell_type": "markdown",
   "metadata": {},
   "source": [
    "\"JR4oPuV3CWg\", \"qPEIPu0V8GQ\",\"tUg-WLRdRv0\",\"mwpHSMv1pI4\",\"vlrywa519No\",\"ZzefeQ0v5wg\",\"MEcqo5fctxI\",\"HL3wvhv9QGg\",\"Z-0bYA5iZDo\",\"faxyAEMDNMg\",\"8sAApdJdG3A\",\"07JQ4WZJIbg\",\"LSDCUIn33G4\",\"hxAiXfyYX2E\",\"twdauWqqmrc\",\"oxSlLYC_Exw\",\"0devsSCkYRY\",\"pA5NbgdpRpk\",\"ttf_EzEkxBk\",\"cJHA4lLp32M\""
   ]
  },
  {
   "cell_type": "code",
   "execution_count": 1977,
   "metadata": {},
   "outputs": [],
   "source": [
    "# publish_time_day_bottom_20 = cleaned_us_data_df.iloc[[\"JR4oPuV3CWg\",\"qPEIPu0V8GQ\",\"tUg-WLRdRv0\",\"mwpHSMv1pI4\",\"vlrywa519No\",\"ZzefeQ0v5wg\",\"MEcqo5fctxI\",\"HL3wvhv9QGg\",\"Z-0bYA5iZDo\",\"faxyAEMDNMg\",\"8sAApdJdG3A\",\"07JQ4WZJIbg\",\"LSDCUIn33G4\",\"hxAiXfyYX2E\",\"twdauWqqmrc\",\"oxSlLYC_Exw\",\"0devsSCkYRY\",\"pA5NbgdpRpk\",\"ttf_EzEkxBk\",\"cJHA4lLp32M\"]]\n",
    "# publish_time_day_bottom_20.groupby(\"video_id\").head(1)"
   ]
  },
  {
   "cell_type": "code",
   "execution_count": 1978,
   "metadata": {},
   "outputs": [],
   "source": [
    "# video_id_bottom_20 = [\"JR4oPuV3CWg\", \"qPEIPu0V8GQ\",\"tUg-WLRdRv0\",\"mwpHSMv1pI4\",\"vlrywa519No\",\"ZzefeQ0v5wg\",\"MEcqo5fctxI\",\"HL3wvhv9QGg\",\"Z-0bYA5iZDo\",\"faxyAEMDNMg\",\"8sAApdJdG3A\",\"07JQ4WZJIbg\",\"LSDCUIn33G4\",\"hxAiXfyYX2E\",\"twdauWqqmrc\",\"oxSlLYC_Exw\",\"0devsSCkYRY\",\"pA5NbgdpRpk\",\"ttf_EzEkxBk\",\"cJHA4lLp32M\"]\n",
    "# publish_time_bottom_20 = []"
   ]
  },
  {
   "cell_type": "code",
   "execution_count": 1979,
   "metadata": {},
   "outputs": [],
   "source": [
    "# x_axis = video_id_bottom_20\n",
    "# y_axis = publish_time_bottom_20\n",
    "# plt.plot(x_axis,y_axis,marker='o', color='blue')\n",
    "# plt.xticks(rotation='vertical')\n",
    "# plt.xlabel(\"Bottom 20 Video_ids\")\n",
    "# plt.ylabel(\"Publish Time\")\n",
    "# plt.title(\"Bottom 20 Video_ids and Publish Time\")\n",
    "# plt.gcf\n",
    "# plt.show()"
   ]
  },
  {
   "cell_type": "code",
   "execution_count": 1980,
   "metadata": {},
   "outputs": [
    {
     "data": {
      "text/html": [
       "<div>\n",
       "<style scoped>\n",
       "    .dataframe tbody tr th:only-of-type {\n",
       "        vertical-align: middle;\n",
       "    }\n",
       "\n",
       "    .dataframe tbody tr th {\n",
       "        vertical-align: top;\n",
       "    }\n",
       "\n",
       "    .dataframe thead th {\n",
       "        text-align: right;\n",
       "    }\n",
       "</style>\n",
       "<table border=\"1\" class=\"dataframe\">\n",
       "  <thead>\n",
       "    <tr style=\"text-align: right;\">\n",
       "      <th></th>\n",
       "      <th>publish_month</th>\n",
       "      <th>category_id</th>\n",
       "      <th>category_count</th>\n",
       "    </tr>\n",
       "  </thead>\n",
       "  <tbody>\n",
       "    <tr>\n",
       "      <th>0</th>\n",
       "      <td>April</td>\n",
       "      <td>24</td>\n",
       "      <td>1215</td>\n",
       "    </tr>\n",
       "    <tr>\n",
       "      <th>14</th>\n",
       "      <td>August</td>\n",
       "      <td>28</td>\n",
       "      <td>11</td>\n",
       "    </tr>\n",
       "    <tr>\n",
       "      <th>19</th>\n",
       "      <td>December</td>\n",
       "      <td>24</td>\n",
       "      <td>1495</td>\n",
       "    </tr>\n",
       "    <tr>\n",
       "      <th>34</th>\n",
       "      <td>February</td>\n",
       "      <td>24</td>\n",
       "      <td>1335</td>\n",
       "    </tr>\n",
       "    <tr>\n",
       "      <th>49</th>\n",
       "      <td>January</td>\n",
       "      <td>24</td>\n",
       "      <td>1236</td>\n",
       "    </tr>\n",
       "    <tr>\n",
       "      <th>64</th>\n",
       "      <td>July</td>\n",
       "      <td>24</td>\n",
       "      <td>5</td>\n",
       "    </tr>\n",
       "    <tr>\n",
       "      <th>67</th>\n",
       "      <td>June</td>\n",
       "      <td>24</td>\n",
       "      <td>246</td>\n",
       "    </tr>\n",
       "    <tr>\n",
       "      <th>79</th>\n",
       "      <td>March</td>\n",
       "      <td>24</td>\n",
       "      <td>1665</td>\n",
       "    </tr>\n",
       "    <tr>\n",
       "      <th>93</th>\n",
       "      <td>May</td>\n",
       "      <td>24</td>\n",
       "      <td>1740</td>\n",
       "    </tr>\n",
       "    <tr>\n",
       "      <th>108</th>\n",
       "      <td>November</td>\n",
       "      <td>24</td>\n",
       "      <td>1004</td>\n",
       "    </tr>\n",
       "    <tr>\n",
       "      <th>123</th>\n",
       "      <td>October</td>\n",
       "      <td>1</td>\n",
       "      <td>18</td>\n",
       "    </tr>\n",
       "    <tr>\n",
       "      <th>132</th>\n",
       "      <td>September</td>\n",
       "      <td>1</td>\n",
       "      <td>10</td>\n",
       "    </tr>\n",
       "  </tbody>\n",
       "</table>\n",
       "</div>"
      ],
      "text/plain": [
       "    publish_month  category_id  category_count\n",
       "0           April           24            1215\n",
       "14         August           28              11\n",
       "19       December           24            1495\n",
       "34       February           24            1335\n",
       "49        January           24            1236\n",
       "64           July           24               5\n",
       "67           June           24             246\n",
       "79          March           24            1665\n",
       "93            May           24            1740\n",
       "108      November           24            1004\n",
       "123       October            1              18\n",
       "132     September            1              10"
      ]
     },
     "execution_count": 1980,
     "metadata": {},
     "output_type": "execute_result"
    }
   ],
   "source": [
    "#Most viewed category for each month\n",
    "cleaned_us_data_group_by_months_df = cleaned_us_data_df.groupby(\"publish_month\")\n",
    "cleaned_us_data_group_by_months_category = cleaned_us_data_group_by_months_df[\"category_id\"].value_counts()\n",
    "cleaned_us_data_months_category_count_df = cleaned_us_data_group_by_months_category.reset_index(name = 'category_count')\n",
    "cleaned_us_data_months_category_max_df = cleaned_us_data_months_category_count_df.loc[cleaned_us_data_months_category_count_df.groupby(\"publish_month\")[\"category_count\"].idxmax()]\n",
    "cleaned_us_data_months_category_max_df"
   ]
  },
  {
   "cell_type": "code",
   "execution_count": 1981,
   "metadata": {},
   "outputs": [
    {
     "ename": "KeyError",
     "evalue": "'video_id'",
     "output_type": "error",
     "traceback": [
      "\u001b[0;31m---------------------------------------------------------------------------\u001b[0m",
      "\u001b[0;31mKeyError\u001b[0m                                  Traceback (most recent call last)",
      "\u001b[0;32m~/opt/anaconda3/envs/PythonData/lib/python3.7/site-packages/pandas/core/indexes/base.py\u001b[0m in \u001b[0;36mget_loc\u001b[0;34m(self, key, method, tolerance)\u001b[0m\n\u001b[1;32m   2645\u001b[0m             \u001b[0;32mtry\u001b[0m\u001b[0;34m:\u001b[0m\u001b[0;34m\u001b[0m\u001b[0;34m\u001b[0m\u001b[0m\n\u001b[0;32m-> 2646\u001b[0;31m                 \u001b[0;32mreturn\u001b[0m \u001b[0mself\u001b[0m\u001b[0;34m.\u001b[0m\u001b[0m_engine\u001b[0m\u001b[0;34m.\u001b[0m\u001b[0mget_loc\u001b[0m\u001b[0;34m(\u001b[0m\u001b[0mkey\u001b[0m\u001b[0;34m)\u001b[0m\u001b[0;34m\u001b[0m\u001b[0;34m\u001b[0m\u001b[0m\n\u001b[0m\u001b[1;32m   2647\u001b[0m             \u001b[0;32mexcept\u001b[0m \u001b[0mKeyError\u001b[0m\u001b[0;34m:\u001b[0m\u001b[0;34m\u001b[0m\u001b[0;34m\u001b[0m\u001b[0m\n",
      "\u001b[0;32mpandas/_libs/index.pyx\u001b[0m in \u001b[0;36mpandas._libs.index.IndexEngine.get_loc\u001b[0;34m()\u001b[0m\n",
      "\u001b[0;32mpandas/_libs/index.pyx\u001b[0m in \u001b[0;36mpandas._libs.index.IndexEngine.get_loc\u001b[0;34m()\u001b[0m\n",
      "\u001b[0;32mpandas/_libs/hashtable_class_helper.pxi\u001b[0m in \u001b[0;36mpandas._libs.hashtable.PyObjectHashTable.get_item\u001b[0;34m()\u001b[0m\n",
      "\u001b[0;32mpandas/_libs/hashtable_class_helper.pxi\u001b[0m in \u001b[0;36mpandas._libs.hashtable.PyObjectHashTable.get_item\u001b[0;34m()\u001b[0m\n",
      "\u001b[0;31mKeyError\u001b[0m: 'video_id'",
      "\nDuring handling of the above exception, another exception occurred:\n",
      "\u001b[0;31mKeyError\u001b[0m                                  Traceback (most recent call last)",
      "\u001b[0;32m/var/folders/1q/y8jwtynn6qzf43tk_s6zpzlw0000gn/T/ipykernel_5991/375758525.py\u001b[0m in \u001b[0;36m<module>\u001b[0;34m\u001b[0m\n\u001b[1;32m      1\u001b[0m \u001b[0;31m#Top 5 videos for each categories\u001b[0m\u001b[0;34m\u001b[0m\u001b[0;34m\u001b[0m\u001b[0;34m\u001b[0m\u001b[0m\n\u001b[1;32m      2\u001b[0m \u001b[0mtop_5_vidoes_foreach_categories_cleaned_us_data_df\u001b[0m \u001b[0;34m=\u001b[0m  \u001b[0mcleaned_us_data_df\u001b[0m\u001b[0;34m.\u001b[0m\u001b[0msort_values\u001b[0m\u001b[0;34m(\u001b[0m\u001b[0;34m'views'\u001b[0m\u001b[0;34m,\u001b[0m\u001b[0mascending\u001b[0m \u001b[0;34m=\u001b[0m \u001b[0;32mFalse\u001b[0m\u001b[0;34m)\u001b[0m\u001b[0;34m.\u001b[0m\u001b[0mgroupby\u001b[0m\u001b[0;34m(\u001b[0m\u001b[0;34m'category_id'\u001b[0m\u001b[0;34m)\u001b[0m\u001b[0;34m.\u001b[0m\u001b[0mhead\u001b[0m\u001b[0;34m(\u001b[0m\u001b[0;36m5\u001b[0m\u001b[0;34m)\u001b[0m\u001b[0;34m\u001b[0m\u001b[0;34m\u001b[0m\u001b[0m\n\u001b[0;32m----> 3\u001b[0;31m \u001b[0munique_top_5_vidoes_foreach_categories_cleaned_us_data_df\u001b[0m \u001b[0;34m=\u001b[0m \u001b[0mtop_5_vidoes_foreach_categories_cleaned_us_data_df\u001b[0m\u001b[0;34m[\u001b[0m\u001b[0;34m\"video_id\"\u001b[0m\u001b[0;34m]\u001b[0m\u001b[0;34m.\u001b[0m\u001b[0munique\u001b[0m\u001b[0;34m(\u001b[0m\u001b[0;34m)\u001b[0m\u001b[0;34m\u001b[0m\u001b[0;34m\u001b[0m\u001b[0m\n\u001b[0m\u001b[1;32m      4\u001b[0m \u001b[0mtop_vidoes_details_categories_cleaned_us_data_df\u001b[0m\u001b[0;34m=\u001b[0m\u001b[0mcleaned_us_data_df\u001b[0m\u001b[0;34m.\u001b[0m\u001b[0mloc\u001b[0m\u001b[0;34m[\u001b[0m\u001b[0mcleaned_us_data_df\u001b[0m\u001b[0;34m[\u001b[0m\u001b[0;34m\"video_id\"\u001b[0m\u001b[0;34m]\u001b[0m\u001b[0;34m.\u001b[0m\u001b[0misin\u001b[0m\u001b[0;34m(\u001b[0m\u001b[0munique_top_5_vidoes_foreach_categories_cleaned_us_data_df\u001b[0m\u001b[0;34m)\u001b[0m\u001b[0;34m]\u001b[0m\u001b[0;34m\u001b[0m\u001b[0;34m\u001b[0m\u001b[0m\n\u001b[1;32m      5\u001b[0m \u001b[0mtop_vidoes_details_categories_cleaned_us_data_df\u001b[0m \u001b[0;34m=\u001b[0m \u001b[0mtop_vidoes_details_categories_cleaned_us_data_df\u001b[0m\u001b[0;34m.\u001b[0m\u001b[0msort_values\u001b[0m\u001b[0;34m(\u001b[0m\u001b[0mby\u001b[0m\u001b[0;34m=\u001b[0m\u001b[0;34m[\u001b[0m\u001b[0;34m'video_id'\u001b[0m\u001b[0;34m,\u001b[0m \u001b[0;34m'views'\u001b[0m\u001b[0;34m]\u001b[0m\u001b[0;34m)\u001b[0m\u001b[0;34m\u001b[0m\u001b[0;34m\u001b[0m\u001b[0m\n",
      "\u001b[0;32m~/opt/anaconda3/envs/PythonData/lib/python3.7/site-packages/pandas/core/frame.py\u001b[0m in \u001b[0;36m__getitem__\u001b[0;34m(self, key)\u001b[0m\n\u001b[1;32m   2798\u001b[0m             \u001b[0;32mif\u001b[0m \u001b[0mself\u001b[0m\u001b[0;34m.\u001b[0m\u001b[0mcolumns\u001b[0m\u001b[0;34m.\u001b[0m\u001b[0mnlevels\u001b[0m \u001b[0;34m>\u001b[0m \u001b[0;36m1\u001b[0m\u001b[0;34m:\u001b[0m\u001b[0;34m\u001b[0m\u001b[0;34m\u001b[0m\u001b[0m\n\u001b[1;32m   2799\u001b[0m                 \u001b[0;32mreturn\u001b[0m \u001b[0mself\u001b[0m\u001b[0;34m.\u001b[0m\u001b[0m_getitem_multilevel\u001b[0m\u001b[0;34m(\u001b[0m\u001b[0mkey\u001b[0m\u001b[0;34m)\u001b[0m\u001b[0;34m\u001b[0m\u001b[0;34m\u001b[0m\u001b[0m\n\u001b[0;32m-> 2800\u001b[0;31m             \u001b[0mindexer\u001b[0m \u001b[0;34m=\u001b[0m \u001b[0mself\u001b[0m\u001b[0;34m.\u001b[0m\u001b[0mcolumns\u001b[0m\u001b[0;34m.\u001b[0m\u001b[0mget_loc\u001b[0m\u001b[0;34m(\u001b[0m\u001b[0mkey\u001b[0m\u001b[0;34m)\u001b[0m\u001b[0;34m\u001b[0m\u001b[0;34m\u001b[0m\u001b[0m\n\u001b[0m\u001b[1;32m   2801\u001b[0m             \u001b[0;32mif\u001b[0m \u001b[0mis_integer\u001b[0m\u001b[0;34m(\u001b[0m\u001b[0mindexer\u001b[0m\u001b[0;34m)\u001b[0m\u001b[0;34m:\u001b[0m\u001b[0;34m\u001b[0m\u001b[0;34m\u001b[0m\u001b[0m\n\u001b[1;32m   2802\u001b[0m                 \u001b[0mindexer\u001b[0m \u001b[0;34m=\u001b[0m \u001b[0;34m[\u001b[0m\u001b[0mindexer\u001b[0m\u001b[0;34m]\u001b[0m\u001b[0;34m\u001b[0m\u001b[0;34m\u001b[0m\u001b[0m\n",
      "\u001b[0;32m~/opt/anaconda3/envs/PythonData/lib/python3.7/site-packages/pandas/core/indexes/base.py\u001b[0m in \u001b[0;36mget_loc\u001b[0;34m(self, key, method, tolerance)\u001b[0m\n\u001b[1;32m   2646\u001b[0m                 \u001b[0;32mreturn\u001b[0m \u001b[0mself\u001b[0m\u001b[0;34m.\u001b[0m\u001b[0m_engine\u001b[0m\u001b[0;34m.\u001b[0m\u001b[0mget_loc\u001b[0m\u001b[0;34m(\u001b[0m\u001b[0mkey\u001b[0m\u001b[0;34m)\u001b[0m\u001b[0;34m\u001b[0m\u001b[0;34m\u001b[0m\u001b[0m\n\u001b[1;32m   2647\u001b[0m             \u001b[0;32mexcept\u001b[0m \u001b[0mKeyError\u001b[0m\u001b[0;34m:\u001b[0m\u001b[0;34m\u001b[0m\u001b[0;34m\u001b[0m\u001b[0m\n\u001b[0;32m-> 2648\u001b[0;31m                 \u001b[0;32mreturn\u001b[0m \u001b[0mself\u001b[0m\u001b[0;34m.\u001b[0m\u001b[0m_engine\u001b[0m\u001b[0;34m.\u001b[0m\u001b[0mget_loc\u001b[0m\u001b[0;34m(\u001b[0m\u001b[0mself\u001b[0m\u001b[0;34m.\u001b[0m\u001b[0m_maybe_cast_indexer\u001b[0m\u001b[0;34m(\u001b[0m\u001b[0mkey\u001b[0m\u001b[0;34m)\u001b[0m\u001b[0;34m)\u001b[0m\u001b[0;34m\u001b[0m\u001b[0;34m\u001b[0m\u001b[0m\n\u001b[0m\u001b[1;32m   2649\u001b[0m         \u001b[0mindexer\u001b[0m \u001b[0;34m=\u001b[0m \u001b[0mself\u001b[0m\u001b[0;34m.\u001b[0m\u001b[0mget_indexer\u001b[0m\u001b[0;34m(\u001b[0m\u001b[0;34m[\u001b[0m\u001b[0mkey\u001b[0m\u001b[0;34m]\u001b[0m\u001b[0;34m,\u001b[0m \u001b[0mmethod\u001b[0m\u001b[0;34m=\u001b[0m\u001b[0mmethod\u001b[0m\u001b[0;34m,\u001b[0m \u001b[0mtolerance\u001b[0m\u001b[0;34m=\u001b[0m\u001b[0mtolerance\u001b[0m\u001b[0;34m)\u001b[0m\u001b[0;34m\u001b[0m\u001b[0;34m\u001b[0m\u001b[0m\n\u001b[1;32m   2650\u001b[0m         \u001b[0;32mif\u001b[0m \u001b[0mindexer\u001b[0m\u001b[0;34m.\u001b[0m\u001b[0mndim\u001b[0m \u001b[0;34m>\u001b[0m \u001b[0;36m1\u001b[0m \u001b[0;32mor\u001b[0m \u001b[0mindexer\u001b[0m\u001b[0;34m.\u001b[0m\u001b[0msize\u001b[0m \u001b[0;34m>\u001b[0m \u001b[0;36m1\u001b[0m\u001b[0;34m:\u001b[0m\u001b[0;34m\u001b[0m\u001b[0;34m\u001b[0m\u001b[0m\n",
      "\u001b[0;32mpandas/_libs/index.pyx\u001b[0m in \u001b[0;36mpandas._libs.index.IndexEngine.get_loc\u001b[0;34m()\u001b[0m\n",
      "\u001b[0;32mpandas/_libs/index.pyx\u001b[0m in \u001b[0;36mpandas._libs.index.IndexEngine.get_loc\u001b[0;34m()\u001b[0m\n",
      "\u001b[0;32mpandas/_libs/hashtable_class_helper.pxi\u001b[0m in \u001b[0;36mpandas._libs.hashtable.PyObjectHashTable.get_item\u001b[0;34m()\u001b[0m\n",
      "\u001b[0;32mpandas/_libs/hashtable_class_helper.pxi\u001b[0m in \u001b[0;36mpandas._libs.hashtable.PyObjectHashTable.get_item\u001b[0;34m()\u001b[0m\n",
      "\u001b[0;31mKeyError\u001b[0m: 'video_id'"
     ]
    }
   ],
   "source": [
    "#Top 5 videos for each categories\n",
    "top_5_vidoes_foreach_categories_cleaned_us_data_df =  cleaned_us_data_df.sort_values('views',ascending = False).groupby('category_id').head(5)\n",
    "unique_top_5_vidoes_foreach_categories_cleaned_us_data_df = top_5_vidoes_foreach_categories_cleaned_us_data_df[\"video_id\"].unique()\n",
    "top_vidoes_details_categories_cleaned_us_data_df=cleaned_us_data_df.loc[cleaned_us_data_df[\"video_id\"].isin(unique_top_5_vidoes_foreach_categories_cleaned_us_data_df)]\n",
    "top_vidoes_details_categories_cleaned_us_data_df = top_vidoes_details_categories_cleaned_us_data_df.sort_values(by=['video_id', 'views'])\n",
    "top_vidoes_details_categories_cleaned_us_data_df['views_growth'] = np.where(top_vidoes_details_categories_cleaned_us_data_df.video_id == top_vidoes_details_categories_cleaned_us_data_df.video_id.shift(1), top_vidoes_details_categories_cleaned_us_data_df.views.diff(), 0)\n",
    "top_vidoes_details_categories_cleaned_us_data_df['trending_date_diffs'] = (pd.to_datetime(top_vidoes_details_categories_cleaned_us_data_df[\"trending_date_formatted\"],unit='ms', utc=True).dt.tz_convert('US/Eastern') - pd.to_datetime(top_vidoes_details_categories_cleaned_us_data_df[\"publish_time_formatted\"],unit='ms', utc=True).dt.tz_convert('US/Eastern')).dt.days\n",
    "top_vidoes_details_categories_cleaned_us_data_df_v1 = top_vidoes_details_categories_cleaned_us_data_df[['video_id', 'category_id','views','publish_time','trending_date_formatted',\"publish_time_formatted\",\"views_growth\",\"trending_date_diffs\"]]\n",
    "top_vidoes_details_categories_cleaned_us_data_df_v1"
   ]
  }
 ],
 "metadata": {
  "kernelspec": {
   "display_name": "Python 3 (ipykernel)",
   "language": "python",
   "name": "python3"
  },
  "language_info": {
   "codemirror_mode": {
    "name": "ipython",
    "version": 3
   },
   "file_extension": ".py",
   "mimetype": "text/x-python",
   "name": "python",
   "nbconvert_exporter": "python",
   "pygments_lexer": "ipython3",
   "version": "3.9.13"
  },
  "vscode": {
   "interpreter": {
    "hash": "7db2a412b11edafb391183ba42ce38835c9a015e2a8dbcaea088651dc9739e2d"
   }
  }
 },
 "nbformat": 4,
 "nbformat_minor": 2
}
