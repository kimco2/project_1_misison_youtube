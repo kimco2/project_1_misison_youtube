{
 "cells": [
  {
   "cell_type": "code",
   "execution_count": 953,
   "metadata": {},
   "outputs": [],
   "source": [
    "# Dependencies\n",
    "import pandas as pd\n",
    "import scipy.stats as st\n",
    "import numpy as np\n",
    "import json\n",
    "import matplotlib.pyplot as plt"
   ]
  },
  {
   "cell_type": "code",
   "execution_count": 954,
   "metadata": {},
   "outputs": [],
   "source": [
    "cleaned_us_data_df = \"output/cleaned_us_data.csv\""
   ]
  },
  {
   "cell_type": "code",
   "execution_count": 955,
   "metadata": {},
   "outputs": [],
   "source": [
    "cleaned_us_data_df = pd.read_csv(cleaned_us_data_df)"
   ]
  },
  {
   "cell_type": "code",
   "execution_count": 956,
   "metadata": {},
   "outputs": [
    {
     "data": {
      "text/plain": [
       "Index(['video_id', 'trending_date', 'title', 'channel_title', 'category_id',\n",
       "       'publish_time', 'tags', 'views', 'likes', 'dislikes', 'comment_count',\n",
       "       'thumbnail_link', 'comments_disabled', 'ratings_disabled',\n",
       "       'video_error_or_removed', 'description', 'category_name',\n",
       "       'trending_date_formatted', 'trending_day', 'trending_month',\n",
       "       'trending_year', 'trending_date_formatted_order',\n",
       "       'publish_time_formatted', 'publish_day', 'publish_month',\n",
       "       'publish_year', 'tag_count'],\n",
       "      dtype='object')"
      ]
     },
     "execution_count": 956,
     "metadata": {},
     "output_type": "execute_result"
    }
   ],
   "source": [
    "cleaned_us_data_df.columns"
   ]
  },
  {
   "cell_type": "code",
   "execution_count": 957,
   "metadata": {},
   "outputs": [
    {
     "data": {
      "text/plain": [
       "6347"
      ]
     },
     "execution_count": 957,
     "metadata": {},
     "output_type": "execute_result"
    }
   ],
   "source": [
    "cleaned_us_data_df[\"video_id\"].nunique()"
   ]
  },
  {
   "cell_type": "code",
   "execution_count": 958,
   "metadata": {},
   "outputs": [],
   "source": [
    "video_trend_frequency = (cleaned_us_data_df[\"video_id\"].value_counts())"
   ]
  },
  {
   "cell_type": "code",
   "execution_count": 959,
   "metadata": {},
   "outputs": [
    {
     "data": {
      "text/plain": [
       "j4KvrAUjn6c    30\n",
       "8h--kFui1JA    29\n",
       "r-3iathMo7o    29\n",
       "MAjY8mCTXWk    29\n",
       "t4pRQ0jn23Q    29\n",
       "               ..\n",
       "oxSlLYC_Exw     1\n",
       "0devsSCkYRY     1\n",
       "pA5NbgdpRpk     1\n",
       "ttf_EzEkxBk     1\n",
       "cJHA4lLp32M     1\n",
       "Name: video_id, Length: 6347, dtype: int64"
      ]
     },
     "execution_count": 959,
     "metadata": {},
     "output_type": "execute_result"
    }
   ],
   "source": [
    "video_trend_frequency = (cleaned_us_data_df[\"video_id\"].value_counts())\n",
    "video_trend_frequency"
   ]
  },
  {
   "cell_type": "code",
   "execution_count": 960,
   "metadata": {},
   "outputs": [
    {
     "data": {
      "text/html": [
       "<div>\n",
       "<style scoped>\n",
       "    .dataframe tbody tr th:only-of-type {\n",
       "        vertical-align: middle;\n",
       "    }\n",
       "\n",
       "    .dataframe tbody tr th {\n",
       "        vertical-align: top;\n",
       "    }\n",
       "\n",
       "    .dataframe thead th {\n",
       "        text-align: right;\n",
       "    }\n",
       "</style>\n",
       "<table border=\"1\" class=\"dataframe\">\n",
       "  <thead>\n",
       "    <tr style=\"text-align: right;\">\n",
       "      <th></th>\n",
       "      <th>video_id</th>\n",
       "    </tr>\n",
       "  </thead>\n",
       "  <tbody>\n",
       "    <tr>\n",
       "      <th>j4KvrAUjn6c</th>\n",
       "      <td>30</td>\n",
       "    </tr>\n",
       "    <tr>\n",
       "      <th>8h--kFui1JA</th>\n",
       "      <td>29</td>\n",
       "    </tr>\n",
       "    <tr>\n",
       "      <th>r-3iathMo7o</th>\n",
       "      <td>29</td>\n",
       "    </tr>\n",
       "    <tr>\n",
       "      <th>MAjY8mCTXWk</th>\n",
       "      <td>29</td>\n",
       "    </tr>\n",
       "    <tr>\n",
       "      <th>t4pRQ0jn23Q</th>\n",
       "      <td>29</td>\n",
       "    </tr>\n",
       "    <tr>\n",
       "      <th>QBL8IRJ5yHU</th>\n",
       "      <td>29</td>\n",
       "    </tr>\n",
       "    <tr>\n",
       "      <th>iILJvqrAQ_w</th>\n",
       "      <td>29</td>\n",
       "    </tr>\n",
       "    <tr>\n",
       "      <th>NBSAQenU2Bk</th>\n",
       "      <td>29</td>\n",
       "    </tr>\n",
       "    <tr>\n",
       "      <th>vjSohj-Iclc</th>\n",
       "      <td>28</td>\n",
       "    </tr>\n",
       "    <tr>\n",
       "      <th>ulNswX3If6U</th>\n",
       "      <td>28</td>\n",
       "    </tr>\n",
       "  </tbody>\n",
       "</table>\n",
       "</div>"
      ],
      "text/plain": [
       "             video_id\n",
       "j4KvrAUjn6c        30\n",
       "8h--kFui1JA        29\n",
       "r-3iathMo7o        29\n",
       "MAjY8mCTXWk        29\n",
       "t4pRQ0jn23Q        29\n",
       "QBL8IRJ5yHU        29\n",
       "iILJvqrAQ_w        29\n",
       "NBSAQenU2Bk        29\n",
       "vjSohj-Iclc        28\n",
       "ulNswX3If6U        28"
      ]
     },
     "execution_count": 960,
     "metadata": {},
     "output_type": "execute_result"
    }
   ],
   "source": [
    "video_frequency = pd.DataFrame(video_trend_frequency)\n",
    "video_frequency.head(10)"
   ]
  },
  {
   "cell_type": "code",
   "execution_count": 961,
   "metadata": {},
   "outputs": [],
   "source": [
    "cleaned_us_data_df.set_index(\"video_id\", inplace=True)"
   ]
  },
  {
   "cell_type": "code",
   "execution_count": 962,
   "metadata": {},
   "outputs": [
    {
     "data": {
      "text/html": [
       "<div>\n",
       "<style scoped>\n",
       "    .dataframe tbody tr th:only-of-type {\n",
       "        vertical-align: middle;\n",
       "    }\n",
       "\n",
       "    .dataframe tbody tr th {\n",
       "        vertical-align: top;\n",
       "    }\n",
       "\n",
       "    .dataframe thead th {\n",
       "        text-align: right;\n",
       "    }\n",
       "</style>\n",
       "<table border=\"1\" class=\"dataframe\">\n",
       "  <thead>\n",
       "    <tr style=\"text-align: right;\">\n",
       "      <th></th>\n",
       "      <th>publish_time_formatted</th>\n",
       "      <th>publish_day</th>\n",
       "      <th>publish_month</th>\n",
       "    </tr>\n",
       "    <tr>\n",
       "      <th>video_id</th>\n",
       "      <th></th>\n",
       "      <th></th>\n",
       "      <th></th>\n",
       "    </tr>\n",
       "  </thead>\n",
       "  <tbody>\n",
       "    <tr>\n",
       "      <th>j4KvrAUjn6c</th>\n",
       "      <td>2018-05-13 18:03:56+00:00</td>\n",
       "      <td>Sunday</td>\n",
       "      <td>May</td>\n",
       "    </tr>\n",
       "    <tr>\n",
       "      <th>8h--kFui1JA</th>\n",
       "      <td>2018-05-09 17:00:00+00:00</td>\n",
       "      <td>Wednesday</td>\n",
       "      <td>May</td>\n",
       "    </tr>\n",
       "    <tr>\n",
       "      <th>r-3iathMo7o</th>\n",
       "      <td>2018-05-13 19:00:25+00:00</td>\n",
       "      <td>Sunday</td>\n",
       "      <td>May</td>\n",
       "    </tr>\n",
       "    <tr>\n",
       "      <th>MAjY8mCTXWk</th>\n",
       "      <td>2018-05-14 15:59:47+00:00</td>\n",
       "      <td>Monday</td>\n",
       "      <td>May</td>\n",
       "    </tr>\n",
       "    <tr>\n",
       "      <th>t4pRQ0jn23Q</th>\n",
       "      <td>2018-05-14 14:00:03+00:00</td>\n",
       "      <td>Monday</td>\n",
       "      <td>May</td>\n",
       "    </tr>\n",
       "    <tr>\n",
       "      <th>QBL8IRJ5yHU</th>\n",
       "      <td>2018-05-14 19:00:01+00:00</td>\n",
       "      <td>Monday</td>\n",
       "      <td>May</td>\n",
       "    </tr>\n",
       "    <tr>\n",
       "      <th>iILJvqrAQ_w</th>\n",
       "      <td>2018-05-11 04:00:34+00:00</td>\n",
       "      <td>Friday</td>\n",
       "      <td>May</td>\n",
       "    </tr>\n",
       "    <tr>\n",
       "      <th>NBSAQenU2Bk</th>\n",
       "      <td>2018-05-14 13:00:01+00:00</td>\n",
       "      <td>Monday</td>\n",
       "      <td>May</td>\n",
       "    </tr>\n",
       "    <tr>\n",
       "      <th>vjSohj-Iclc</th>\n",
       "      <td>2018-05-10 19:56:28+00:00</td>\n",
       "      <td>Thursday</td>\n",
       "      <td>May</td>\n",
       "    </tr>\n",
       "    <tr>\n",
       "      <th>ulNswX3If6U</th>\n",
       "      <td>2018-05-10 16:00:11+00:00</td>\n",
       "      <td>Thursday</td>\n",
       "      <td>May</td>\n",
       "    </tr>\n",
       "  </tbody>\n",
       "</table>\n",
       "</div>"
      ],
      "text/plain": [
       "                publish_time_formatted publish_day publish_month\n",
       "video_id                                                        \n",
       "j4KvrAUjn6c  2018-05-13 18:03:56+00:00      Sunday           May\n",
       "8h--kFui1JA  2018-05-09 17:00:00+00:00   Wednesday           May\n",
       "r-3iathMo7o  2018-05-13 19:00:25+00:00      Sunday           May\n",
       "MAjY8mCTXWk  2018-05-14 15:59:47+00:00      Monday           May\n",
       "t4pRQ0jn23Q  2018-05-14 14:00:03+00:00      Monday           May\n",
       "QBL8IRJ5yHU  2018-05-14 19:00:01+00:00      Monday           May\n",
       "iILJvqrAQ_w  2018-05-11 04:00:34+00:00      Friday           May\n",
       "NBSAQenU2Bk  2018-05-14 13:00:01+00:00      Monday           May\n",
       "vjSohj-Iclc  2018-05-10 19:56:28+00:00    Thursday           May\n",
       "ulNswX3If6U  2018-05-10 16:00:11+00:00    Thursday           May"
      ]
     },
     "execution_count": 962,
     "metadata": {},
     "output_type": "execute_result"
    }
   ],
   "source": [
    "publish_time_day_top_10 = cleaned_us_data_df.loc[[\"j4KvrAUjn6c\",\"8h--kFui1JA\", \"r-3iathMo7o\", \"MAjY8mCTXWk\", \"t4pRQ0jn23Q\", \"QBL8IRJ5yHU\", \"iILJvqrAQ_w\", \"NBSAQenU2Bk\", \"vjSohj-Iclc\", \"ulNswX3If6U\"], ['publish_time_formatted', 'publish_day', 'publish_month']]\n",
    "publish_time_day_top_10.groupby(\"video_id\").head(1)"
   ]
  },
  {
   "cell_type": "code",
   "execution_count": 963,
   "metadata": {},
   "outputs": [],
   "source": [
    "video_id = [\"j4KvrAUjn6c\",\"8h--kFui1JA\", \"r-3iathMo7o\", \"MAjY8mCTXWk\", \"t4pRQ0jn23Q\", \"QBL8IRJ5yHU\", \"iILJvqrAQ_w\", \"NBSAQenU2Bk\", \"vjSohj-Iclc\", \"ulNswX3If6U\"]\n",
    "publish_time = [18, 17, 19, 16, 14, 19, 4, 13, 20, 16]"
   ]
  },
  {
   "cell_type": "code",
   "execution_count": 964,
   "metadata": {},
   "outputs": [
    {
     "data": {
      "image/png": "[encoded data removed]",
      "text/plain": [
       "<Figure size 432x288 with 1 Axes>"
      ]
     },
     "metadata": {
      "needs_background": "light"
     },
     "output_type": "display_data"
    }
   ],
   "source": [
    "x_axis = video_id\n",
    "y_axis = publish_time\n",
    "plt.plot(x_axis,y_axis,marker='o', color='blue')\n",
    "plt.xticks(rotation='vertical')\n",
    "plt.xlabel(\"Top 10 Video_ids\")\n",
    "plt.ylabel(\"Publish Time\")\n",
    "plt.title(\"Top 10 Video_ids and Publish Time\")\n",
    "plt.gcf\n",
    "plt.show()"
   ]
  },
  {
   "cell_type": "code",
   "execution_count": 965,
   "metadata": {},
   "outputs": [],
   "source": [
    "video_id = [\"j4KvrAUjn6c\",\"8h--kFui1JA\", \"r-3iathMo7o\", \"MAjY8mCTXWk\", \"t4pRQ0jn23Q\", \"QBL8IRJ5yHU\", \"iILJvqrAQ_w\", \"NBSAQenU2Bk\", \"vjSohj-Iclc\", \"ulNswX3If6U\"]\n",
    "publish_day = [\"Sunday\", \"Wednesday\", \"Sunday\", \"Monday\", \"Monday\",\"Monday\", \"Friday\", \"Monday\", \"Thursday\", \"Thursday\"]\n",
    "\n",
    "days =[ \"Monday\",\"Wednesday\", \"Thursday\",\"Friday\",\"Sunday\",]\n",
    "day_count = [4, 1, 2, 1, 2]\n",
    "colours = [\"orange\",\"green\",\"lightblue\",\"yellow\",\"red\"]"
   ]
  },
  {
   "cell_type": "code",
   "execution_count": 1020,
   "metadata": {},
   "outputs": [
    {
     "data": {
      "image/png": "[encoded data removed]",
      "text/plain": [
       "<Figure size 432x288 with 1 Axes>"
      ]
     },
     "metadata": {},
     "output_type": "display_data"
    }
   ],
   "source": [
    "plt.pie(day_count, labels=days, colors=colours,\n",
    "        autopct=\"%1.1f%%\", shadow=True, startangle=90)\n",
    "# plt.patch.set_facecolor(\"white\")\n",
    "plt.axis(\"equal\")\n",
    "plt.show()"
   ]
  },
  {
   "cell_type": "code",
   "execution_count": 967,
   "metadata": {},
   "outputs": [],
   "source": [
    "# publish_time = []\n",
    "# publish_day = []\n",
    "# video_id = [\"j4KvrAUjn6c\",\"8h--kFui1JA\", \"r-3iathMo7o\", \"MAjY8mCTXWk\", \"t4pRQ0jn23Q\", \"QBL8IRJ5yHU\", \"iILJvqrAQ_w\", \"NBSAQenU2Bk\", \"vjSohj-Iclc\", \"ulNswX3If6U\"]\n",
    "\n",
    "# # j4KvrAUjn6c\t30\n",
    "# # 8h--kFui1JA\t29\n",
    "# # r-3iathMo7o\t29\n",
    "# # MAjY8mCTXWk\t29\n",
    "# # t4pRQ0jn23Q\t29\n",
    "# # QBL8IRJ5yHU\t29\n",
    "# # iILJvqrAQ_w\t29\n",
    "# # NBSAQenU2Bk\t29\n",
    "# # vjSohj-Iclc\t28\n",
    "# # ulNswX3If6U\t28\n",
    "\n",
    "# for item in video_id:\n",
    "#     publish_time.append(cleaned_us_data_df['publish_time_formatted'])\n",
    "#     publish_day.append(cleaned_us_data_df'publish_day')\n",
    " \n",
    "# # Save to a new dataframe \n",
    "# publish_time_day_df=pd.DataFrame({\"video_id\": video_id, \"Publish Time\": publish_time, \"Publish Day\":publish_day})"
   ]
  },
  {
   "cell_type": "code",
   "execution_count": 968,
   "metadata": {},
   "outputs": [],
   "source": [
    "# cleaned_us_data_df.set_index(\"video_id\", inplace = True)"
   ]
  },
  {
   "cell_type": "code",
   "execution_count": 969,
   "metadata": {},
   "outputs": [],
   "source": [
    "result_trend_1_df = cleaned_us_data_df.loc[[\"j4KvrAUjn6c\"]]"
   ]
  },
  {
   "cell_type": "code",
   "execution_count": 970,
   "metadata": {},
   "outputs": [
    {
     "data": {
      "text/html": [
       "<div>\n",
       "<style scoped>\n",
       "    .dataframe tbody tr th:only-of-type {\n",
       "        vertical-align: middle;\n",
       "    }\n",
       "\n",
       "    .dataframe tbody tr th {\n",
       "        vertical-align: top;\n",
       "    }\n",
       "\n",
       "    .dataframe thead th {\n",
       "        text-align: right;\n",
       "    }\n",
       "</style>\n",
       "<table border=\"1\" class=\"dataframe\">\n",
       "  <thead>\n",
       "    <tr style=\"text-align: right;\">\n",
       "      <th></th>\n",
       "      <th>trending_date</th>\n",
       "      <th>title</th>\n",
       "      <th>channel_title</th>\n",
       "      <th>category_id</th>\n",
       "      <th>publish_time</th>\n",
       "      <th>tags</th>\n",
       "      <th>views</th>\n",
       "      <th>likes</th>\n",
       "      <th>dislikes</th>\n",
       "      <th>comment_count</th>\n",
       "      <th>...</th>\n",
       "      <th>trending_date_formatted</th>\n",
       "      <th>trending_day</th>\n",
       "      <th>trending_month</th>\n",
       "      <th>trending_year</th>\n",
       "      <th>trending_date_formatted_order</th>\n",
       "      <th>publish_time_formatted</th>\n",
       "      <th>publish_day</th>\n",
       "      <th>publish_month</th>\n",
       "      <th>publish_year</th>\n",
       "      <th>tag_count</th>\n",
       "    </tr>\n",
       "    <tr>\n",
       "      <th>video_id</th>\n",
       "      <th></th>\n",
       "      <th></th>\n",
       "      <th></th>\n",
       "      <th></th>\n",
       "      <th></th>\n",
       "      <th></th>\n",
       "      <th></th>\n",
       "      <th></th>\n",
       "      <th></th>\n",
       "      <th></th>\n",
       "      <th></th>\n",
       "      <th></th>\n",
       "      <th></th>\n",
       "      <th></th>\n",
       "      <th></th>\n",
       "      <th></th>\n",
       "      <th></th>\n",
       "      <th></th>\n",
       "      <th></th>\n",
       "      <th></th>\n",
       "      <th></th>\n",
       "    </tr>\n",
       "  </thead>\n",
       "  <tbody>\n",
       "    <tr>\n",
       "      <th>j4KvrAUjn6c</th>\n",
       "      <td>18.14.05</td>\n",
       "      <td>WE MADE OUR MOM CRY...HER DREAM CAME TRUE!</td>\n",
       "      <td>Lucas and Marcus</td>\n",
       "      <td>24</td>\n",
       "      <td>2018-05-13T18:03:56.000Z</td>\n",
       "      <td>Lucas and Marcus|\"Marcus and Lucas\"|\"Dobre\"|\"D...</td>\n",
       "      <td>2131702</td>\n",
       "      <td>54280</td>\n",
       "      <td>4696</td>\n",
       "      <td>10705</td>\n",
       "      <td>...</td>\n",
       "      <td>2018-05-14</td>\n",
       "      <td>Monday</td>\n",
       "      <td>May</td>\n",
       "      <td>2018</td>\n",
       "      <td>14/05/2018</td>\n",
       "      <td>2018-05-13 18:03:56+00:00</td>\n",
       "      <td>Sunday</td>\n",
       "      <td>May</td>\n",
       "      <td>2018</td>\n",
       "      <td>30</td>\n",
       "    </tr>\n",
       "  </tbody>\n",
       "</table>\n",
       "<p>1 rows × 26 columns</p>\n",
       "</div>"
      ],
      "text/plain": [
       "            trending_date                                       title  \\\n",
       "video_id                                                                \n",
       "j4KvrAUjn6c      18.14.05  WE MADE OUR MOM CRY...HER DREAM CAME TRUE!   \n",
       "\n",
       "                channel_title  category_id              publish_time  \\\n",
       "video_id                                                               \n",
       "j4KvrAUjn6c  Lucas and Marcus           24  2018-05-13T18:03:56.000Z   \n",
       "\n",
       "                                                          tags    views  \\\n",
       "video_id                                                                  \n",
       "j4KvrAUjn6c  Lucas and Marcus|\"Marcus and Lucas\"|\"Dobre\"|\"D...  2131702   \n",
       "\n",
       "             likes  dislikes  comment_count  ... trending_date_formatted  \\\n",
       "video_id                                     ...                           \n",
       "j4KvrAUjn6c  54280      4696          10705  ...              2018-05-14   \n",
       "\n",
       "             trending_day  trending_month  trending_year  \\\n",
       "video_id                                                   \n",
       "j4KvrAUjn6c        Monday             May           2018   \n",
       "\n",
       "            trending_date_formatted_order     publish_time_formatted  \\\n",
       "video_id                                                               \n",
       "j4KvrAUjn6c                    14/05/2018  2018-05-13 18:03:56+00:00   \n",
       "\n",
       "            publish_day publish_month publish_year  tag_count  \n",
       "video_id                                                       \n",
       "j4KvrAUjn6c      Sunday           May         2018         30  \n",
       "\n",
       "[1 rows x 26 columns]"
      ]
     },
     "execution_count": 970,
     "metadata": {},
     "output_type": "execute_result"
    }
   ],
   "source": [
    "result_trend_1_df.iloc[[0]]"
   ]
  },
  {
   "cell_type": "code",
   "execution_count": 971,
   "metadata": {},
   "outputs": [
    {
     "data": {
      "text/html": [
       "<div>\n",
       "<style scoped>\n",
       "    .dataframe tbody tr th:only-of-type {\n",
       "        vertical-align: middle;\n",
       "    }\n",
       "\n",
       "    .dataframe tbody tr th {\n",
       "        vertical-align: top;\n",
       "    }\n",
       "\n",
       "    .dataframe thead th {\n",
       "        text-align: right;\n",
       "    }\n",
       "</style>\n",
       "<table border=\"1\" class=\"dataframe\">\n",
       "  <thead>\n",
       "    <tr style=\"text-align: right;\">\n",
       "      <th></th>\n",
       "      <th>publish_time_formatted</th>\n",
       "      <th>publish_day</th>\n",
       "    </tr>\n",
       "    <tr>\n",
       "      <th>video_id</th>\n",
       "      <th></th>\n",
       "      <th></th>\n",
       "    </tr>\n",
       "  </thead>\n",
       "  <tbody>\n",
       "    <tr>\n",
       "      <th>j4KvrAUjn6c</th>\n",
       "      <td>2018-05-13 18:03:56+00:00</td>\n",
       "      <td>Sunday</td>\n",
       "    </tr>\n",
       "  </tbody>\n",
       "</table>\n",
       "</div>"
      ],
      "text/plain": [
       "                publish_time_formatted publish_day\n",
       "video_id                                          \n",
       "j4KvrAUjn6c  2018-05-13 18:03:56+00:00      Sunday"
      ]
     },
     "execution_count": 971,
     "metadata": {},
     "output_type": "execute_result"
    }
   ],
   "source": [
    "publish_time_j4KvrAUjn6c= result_trend_1_df[['publish_time_formatted', 'publish_day']]\n",
    "publish_time_j4KvrAUjn6c.head(1)"
   ]
  },
  {
   "cell_type": "code",
   "execution_count": 972,
   "metadata": {},
   "outputs": [],
   "source": [
    "dates = list(result_trend_1_df[\"trending_date_formatted_order\"])"
   ]
  },
  {
   "cell_type": "code",
   "execution_count": 973,
   "metadata": {},
   "outputs": [],
   "source": [
    "views = list(result_trend_1_df[\"views\"])"
   ]
  },
  {
   "cell_type": "code",
   "execution_count": 974,
   "metadata": {},
   "outputs": [],
   "source": [
    "likes = list(result_trend_1_df[\"likes\"])"
   ]
  },
  {
   "cell_type": "code",
   "execution_count": 975,
   "metadata": {},
   "outputs": [
    {
     "data": {
      "image/png": "[encoded data removed]",
      "text/plain": [
       "<Figure size 432x288 with 1 Axes>"
      ]
     },
     "metadata": {
      "needs_background": "light"
     },
     "output_type": "display_data"
    }
   ],
   "source": [
    "x_axis = dates\n",
    "y_axis = views\n",
    "plt.plot(x_axis,y_axis,marker='o', color='blue')\n",
    "plt.xticks(rotation='vertical')\n",
    "plt.xlabel(\"Trending Date\")\n",
    "plt.ylabel(\"Views\")\n",
    "plt.title(\"Trending Date and Views for video ID: j4KvrAUjn6c\")\n",
    "# plt.gcf\n",
    "plt.show()"
   ]
  },
  {
   "cell_type": "code",
   "execution_count": 976,
   "metadata": {},
   "outputs": [
    {
     "data": {
      "image/png": "[encoded data removed]",
      "text/plain": [
       "<Figure size 432x288 with 1 Axes>"
      ]
     },
     "metadata": {
      "needs_background": "light"
     },
     "output_type": "display_data"
    }
   ],
   "source": [
    "x_axis = dates\n",
    "y_axis = likes\n",
    "plt.plot(x_axis,y_axis,marker='o', color='blue')\n",
    "plt.xticks(rotation='vertical')\n",
    "plt.xlabel(\"Trending Date\")\n",
    "plt.ylabel(\"likes\")\n",
    "plt.title(\"Trending Date and likes for video ID: j4KvrAUjn6c\")\n",
    "# plt.gcf\n",
    "plt.show()"
   ]
  },
  {
   "cell_type": "code",
   "execution_count": 977,
   "metadata": {},
   "outputs": [],
   "source": [
    "result_trend_2_df = cleaned_us_data_df.loc[[\"8h--kFui1JA\"]]"
   ]
  },
  {
   "cell_type": "code",
   "execution_count": 978,
   "metadata": {},
   "outputs": [
    {
     "data": {
      "text/html": [
       "<div>\n",
       "<style scoped>\n",
       "    .dataframe tbody tr th:only-of-type {\n",
       "        vertical-align: middle;\n",
       "    }\n",
       "\n",
       "    .dataframe tbody tr th {\n",
       "        vertical-align: top;\n",
       "    }\n",
       "\n",
       "    .dataframe thead th {\n",
       "        text-align: right;\n",
       "    }\n",
       "</style>\n",
       "<table border=\"1\" class=\"dataframe\">\n",
       "  <thead>\n",
       "    <tr style=\"text-align: right;\">\n",
       "      <th></th>\n",
       "      <th>publish_time_formatted</th>\n",
       "      <th>publish_day</th>\n",
       "    </tr>\n",
       "    <tr>\n",
       "      <th>video_id</th>\n",
       "      <th></th>\n",
       "      <th></th>\n",
       "    </tr>\n",
       "  </thead>\n",
       "  <tbody>\n",
       "    <tr>\n",
       "      <th>8h--kFui1JA</th>\n",
       "      <td>2018-05-09 17:00:00+00:00</td>\n",
       "      <td>Wednesday</td>\n",
       "    </tr>\n",
       "  </tbody>\n",
       "</table>\n",
       "</div>"
      ],
      "text/plain": [
       "                publish_time_formatted publish_day\n",
       "video_id                                          \n",
       "8h--kFui1JA  2018-05-09 17:00:00+00:00   Wednesday"
      ]
     },
     "execution_count": 978,
     "metadata": {},
     "output_type": "execute_result"
    }
   ],
   "source": [
    "publish_time_8hkFui1JA = result_trend_2_df[['publish_time_formatted','publish_day']]\n",
    "publish_time_8hkFui1JA.head(1)"
   ]
  },
  {
   "cell_type": "code",
   "execution_count": 979,
   "metadata": {},
   "outputs": [],
   "source": [
    "dates_2 = list(result_trend_2_df[\"trending_date_formatted_order\"])"
   ]
  },
  {
   "cell_type": "code",
   "execution_count": 980,
   "metadata": {},
   "outputs": [],
   "source": [
    "views_2 = list(result_trend_2_df[\"views\"])"
   ]
  },
  {
   "cell_type": "code",
   "execution_count": 981,
   "metadata": {},
   "outputs": [],
   "source": [
    "likes_2 = list(result_trend_2_df[\"likes\"])"
   ]
  },
  {
   "cell_type": "code",
   "execution_count": 982,
   "metadata": {},
   "outputs": [
    {
     "data": {
      "image/png": "[encoded data removed]",
      "text/plain": [
       "<Figure size 432x288 with 1 Axes>"
      ]
     },
     "metadata": {
      "needs_background": "light"
     },
     "output_type": "display_data"
    }
   ],
   "source": [
    "x_axis = dates_2\n",
    "y_axis = views_2\n",
    "plt.plot(x_axis,y_axis,marker='o', color='orange')\n",
    "plt.xticks(rotation='vertical')\n",
    "plt.xlabel(\"Trending Date\")\n",
    "plt.ylabel(\"Views\")\n",
    "plt.title(\"Trending Date and Views for video ID: 8h--kFui1JA\")\n",
    "# plt.gcf\n",
    "plt.show()"
   ]
  },
  {
   "cell_type": "code",
   "execution_count": 983,
   "metadata": {},
   "outputs": [
    {
     "data": {
      "image/png": "[encoded data removed]",
      "text/plain": [
       "<Figure size 432x288 with 1 Axes>"
      ]
     },
     "metadata": {
      "needs_background": "light"
     },
     "output_type": "display_data"
    }
   ],
   "source": [
    "x_axis = dates_2\n",
    "y_axis = likes_2\n",
    "plt.plot(x_axis,y_axis,marker='o', color='orange')\n",
    "plt.xticks(rotation='vertical')\n",
    "plt.xlabel(\"Trending Date\")\n",
    "plt.ylabel(\"Likes\")\n",
    "plt.title(\"Trending Date and Likes for video ID: 8h--kFui1JA\")\n",
    "# plt.gcf\n",
    "plt.show()"
   ]
  },
  {
   "cell_type": "code",
   "execution_count": 984,
   "metadata": {},
   "outputs": [],
   "source": [
    "result_trend_3_df = cleaned_us_data_df.loc[[\"r-3iathMo7o\"]]"
   ]
  },
  {
   "cell_type": "code",
   "execution_count": 985,
   "metadata": {},
   "outputs": [
    {
     "data": {
      "text/html": [
       "<div>\n",
       "<style scoped>\n",
       "    .dataframe tbody tr th:only-of-type {\n",
       "        vertical-align: middle;\n",
       "    }\n",
       "\n",
       "    .dataframe tbody tr th {\n",
       "        vertical-align: top;\n",
       "    }\n",
       "\n",
       "    .dataframe thead th {\n",
       "        text-align: right;\n",
       "    }\n",
       "</style>\n",
       "<table border=\"1\" class=\"dataframe\">\n",
       "  <thead>\n",
       "    <tr style=\"text-align: right;\">\n",
       "      <th></th>\n",
       "      <th>publish_time_formatted</th>\n",
       "      <th>publish_day</th>\n",
       "    </tr>\n",
       "    <tr>\n",
       "      <th>video_id</th>\n",
       "      <th></th>\n",
       "      <th></th>\n",
       "    </tr>\n",
       "  </thead>\n",
       "  <tbody>\n",
       "    <tr>\n",
       "      <th>r-3iathMo7o</th>\n",
       "      <td>2018-05-13 19:00:25+00:00</td>\n",
       "      <td>Sunday</td>\n",
       "    </tr>\n",
       "  </tbody>\n",
       "</table>\n",
       "</div>"
      ],
      "text/plain": [
       "                publish_time_formatted publish_day\n",
       "video_id                                          \n",
       "r-3iathMo7o  2018-05-13 19:00:25+00:00      Sunday"
      ]
     },
     "execution_count": 985,
     "metadata": {},
     "output_type": "execute_result"
    }
   ],
   "source": [
    "publish_time_r3iathMo7o = result_trend_3_df[['publish_time_formatted', 'publish_day']]\n",
    "publish_time_r3iathMo7o.head(1)"
   ]
  },
  {
   "cell_type": "code",
   "execution_count": 986,
   "metadata": {},
   "outputs": [],
   "source": [
    "dates_3 = list(result_trend_3_df[\"trending_date_formatted_order\"])"
   ]
  },
  {
   "cell_type": "code",
   "execution_count": 987,
   "metadata": {},
   "outputs": [],
   "source": [
    "views_3 = list(result_trend_3_df[\"views\"])"
   ]
  },
  {
   "cell_type": "code",
   "execution_count": 988,
   "metadata": {},
   "outputs": [],
   "source": [
    "likes_3 = list(result_trend_3_df[\"likes\"])"
   ]
  },
  {
   "cell_type": "code",
   "execution_count": 989,
   "metadata": {},
   "outputs": [
    {
     "data": {
      "image/png": "[encoded data removed]",
      "text/plain": [
       "<Figure size 432x288 with 1 Axes>"
      ]
     },
     "metadata": {
      "needs_background": "light"
     },
     "output_type": "display_data"
    }
   ],
   "source": [
    "x_axis = dates_3\n",
    "y_axis = views_3\n",
    "plt.plot(x_axis,y_axis,marker='o', color='purple')\n",
    "plt.xticks(rotation='vertical')\n",
    "plt.xlabel(\"Trending Date\")\n",
    "plt.ylabel(\"Views\")\n",
    "plt.title(\"Trending Date and Views for video ID: r-3iathMo7o\")\n",
    "# plt.gcf\n",
    "plt.show()"
   ]
  },
  {
   "cell_type": "code",
   "execution_count": 990,
   "metadata": {},
   "outputs": [
    {
     "data": {
      "image/png": "[encoded data removed]",
      "text/plain": [
       "<Figure size 432x288 with 1 Axes>"
      ]
     },
     "metadata": {
      "needs_background": "light"
     },
     "output_type": "display_data"
    }
   ],
   "source": [
    "x_axis = dates_3\n",
    "y_axis = likes_3\n",
    "plt.plot(x_axis,y_axis,marker='o', color='purple')\n",
    "plt.xticks(rotation='vertical')\n",
    "plt.xlabel(\"Trending Date\")\n",
    "plt.ylabel(\"Likes\")\n",
    "plt.title(\"Trending Date and Likes for video ID: r-3iathMo7o\")\n",
    "# plt.gcf\n",
    "plt.show()"
   ]
  },
  {
   "attachments": {},
   "cell_type": "markdown",
   "metadata": {},
   "source": [
    "j4KvrAUjn6c\t30\n",
    "8h--kFui1JA\t29\n",
    "r-3iathMo7o\t29\n",
    "MAjY8mCTXWk\t29\n",
    "t4pRQ0jn23Q\t29\n",
    "QBL8IRJ5yHU\t29\n",
    "iILJvqrAQ_w\t29\n",
    "NBSAQenU2Bk\t29\n",
    "vjSohj-Iclc\t28\n",
    "ulNswX3If6U\t28"
   ]
  },
  {
   "cell_type": "code",
   "execution_count": 991,
   "metadata": {},
   "outputs": [],
   "source": [
    "result_trend_4_df = cleaned_us_data_df.loc[[\"MAjY8mCTXWk\"]]"
   ]
  },
  {
   "cell_type": "code",
   "execution_count": 992,
   "metadata": {},
   "outputs": [
    {
     "data": {
      "text/html": [
       "<div>\n",
       "<style scoped>\n",
       "    .dataframe tbody tr th:only-of-type {\n",
       "        vertical-align: middle;\n",
       "    }\n",
       "\n",
       "    .dataframe tbody tr th {\n",
       "        vertical-align: top;\n",
       "    }\n",
       "\n",
       "    .dataframe thead th {\n",
       "        text-align: right;\n",
       "    }\n",
       "</style>\n",
       "<table border=\"1\" class=\"dataframe\">\n",
       "  <thead>\n",
       "    <tr style=\"text-align: right;\">\n",
       "      <th></th>\n",
       "      <th>publish_time_formatted</th>\n",
       "      <th>publish_day</th>\n",
       "    </tr>\n",
       "    <tr>\n",
       "      <th>video_id</th>\n",
       "      <th></th>\n",
       "      <th></th>\n",
       "    </tr>\n",
       "  </thead>\n",
       "  <tbody>\n",
       "    <tr>\n",
       "      <th>MAjY8mCTXWk</th>\n",
       "      <td>2018-05-14 15:59:47+00:00</td>\n",
       "      <td>Monday</td>\n",
       "    </tr>\n",
       "  </tbody>\n",
       "</table>\n",
       "</div>"
      ],
      "text/plain": [
       "                publish_time_formatted publish_day\n",
       "video_id                                          \n",
       "MAjY8mCTXWk  2018-05-14 15:59:47+00:00      Monday"
      ]
     },
     "execution_count": 992,
     "metadata": {},
     "output_type": "execute_result"
    }
   ],
   "source": [
    "publish_time_MAjY8mCTXWk = result_trend_4_df[['publish_time_formatted', 'publish_day']]\n",
    "publish_time_MAjY8mCTXWk.head(1)"
   ]
  },
  {
   "cell_type": "code",
   "execution_count": 993,
   "metadata": {},
   "outputs": [],
   "source": [
    "result_trend_5_df = cleaned_us_data_df.loc[[\"t4pRQ0jn23Q\"]]"
   ]
  },
  {
   "cell_type": "code",
   "execution_count": 994,
   "metadata": {},
   "outputs": [
    {
     "data": {
      "text/html": [
       "<div>\n",
       "<style scoped>\n",
       "    .dataframe tbody tr th:only-of-type {\n",
       "        vertical-align: middle;\n",
       "    }\n",
       "\n",
       "    .dataframe tbody tr th {\n",
       "        vertical-align: top;\n",
       "    }\n",
       "\n",
       "    .dataframe thead th {\n",
       "        text-align: right;\n",
       "    }\n",
       "</style>\n",
       "<table border=\"1\" class=\"dataframe\">\n",
       "  <thead>\n",
       "    <tr style=\"text-align: right;\">\n",
       "      <th></th>\n",
       "      <th>publish_time_formatted</th>\n",
       "      <th>publish_day</th>\n",
       "    </tr>\n",
       "    <tr>\n",
       "      <th>video_id</th>\n",
       "      <th></th>\n",
       "      <th></th>\n",
       "    </tr>\n",
       "  </thead>\n",
       "  <tbody>\n",
       "    <tr>\n",
       "      <th>t4pRQ0jn23Q</th>\n",
       "      <td>2018-05-14 14:00:03+00:00</td>\n",
       "      <td>Monday</td>\n",
       "    </tr>\n",
       "  </tbody>\n",
       "</table>\n",
       "</div>"
      ],
      "text/plain": [
       "                publish_time_formatted publish_day\n",
       "video_id                                          \n",
       "t4pRQ0jn23Q  2018-05-14 14:00:03+00:00      Monday"
      ]
     },
     "execution_count": 994,
     "metadata": {},
     "output_type": "execute_result"
    }
   ],
   "source": [
    "publish_time_t4pRQ0jn23Q = result_trend_5_df[['publish_time_formatted', 'publish_day']]\n",
    "publish_time_t4pRQ0jn23Q.head(1)"
   ]
  },
  {
   "cell_type": "code",
   "execution_count": 995,
   "metadata": {},
   "outputs": [],
   "source": [
    "result_trend_6_df = cleaned_us_data_df.loc[[\"QBL8IRJ5yHU\"]]"
   ]
  },
  {
   "cell_type": "code",
   "execution_count": 996,
   "metadata": {},
   "outputs": [
    {
     "data": {
      "text/html": [
       "<div>\n",
       "<style scoped>\n",
       "    .dataframe tbody tr th:only-of-type {\n",
       "        vertical-align: middle;\n",
       "    }\n",
       "\n",
       "    .dataframe tbody tr th {\n",
       "        vertical-align: top;\n",
       "    }\n",
       "\n",
       "    .dataframe thead th {\n",
       "        text-align: right;\n",
       "    }\n",
       "</style>\n",
       "<table border=\"1\" class=\"dataframe\">\n",
       "  <thead>\n",
       "    <tr style=\"text-align: right;\">\n",
       "      <th></th>\n",
       "      <th>publish_time_formatted</th>\n",
       "      <th>publish_day</th>\n",
       "    </tr>\n",
       "    <tr>\n",
       "      <th>video_id</th>\n",
       "      <th></th>\n",
       "      <th></th>\n",
       "    </tr>\n",
       "  </thead>\n",
       "  <tbody>\n",
       "    <tr>\n",
       "      <th>QBL8IRJ5yHU</th>\n",
       "      <td>2018-05-14 19:00:01+00:00</td>\n",
       "      <td>Monday</td>\n",
       "    </tr>\n",
       "  </tbody>\n",
       "</table>\n",
       "</div>"
      ],
      "text/plain": [
       "                publish_time_formatted publish_day\n",
       "video_id                                          \n",
       "QBL8IRJ5yHU  2018-05-14 19:00:01+00:00      Monday"
      ]
     },
     "execution_count": 996,
     "metadata": {},
     "output_type": "execute_result"
    }
   ],
   "source": [
    "publish_time_QBL8IRJ5yHU = result_trend_6_df[['publish_time_formatted', 'publish_day']]\n",
    "publish_time_QBL8IRJ5yHU.head(1)"
   ]
  },
  {
   "cell_type": "code",
   "execution_count": 997,
   "metadata": {},
   "outputs": [],
   "source": [
    "result_trend_7_df = cleaned_us_data_df.loc[[\"iILJvqrAQ_w\"]]"
   ]
  },
  {
   "cell_type": "code",
   "execution_count": 998,
   "metadata": {},
   "outputs": [
    {
     "data": {
      "text/html": [
       "<div>\n",
       "<style scoped>\n",
       "    .dataframe tbody tr th:only-of-type {\n",
       "        vertical-align: middle;\n",
       "    }\n",
       "\n",
       "    .dataframe tbody tr th {\n",
       "        vertical-align: top;\n",
       "    }\n",
       "\n",
       "    .dataframe thead th {\n",
       "        text-align: right;\n",
       "    }\n",
       "</style>\n",
       "<table border=\"1\" class=\"dataframe\">\n",
       "  <thead>\n",
       "    <tr style=\"text-align: right;\">\n",
       "      <th></th>\n",
       "      <th>publish_time_formatted</th>\n",
       "      <th>publish_day</th>\n",
       "    </tr>\n",
       "    <tr>\n",
       "      <th>video_id</th>\n",
       "      <th></th>\n",
       "      <th></th>\n",
       "    </tr>\n",
       "  </thead>\n",
       "  <tbody>\n",
       "    <tr>\n",
       "      <th>iILJvqrAQ_w</th>\n",
       "      <td>2018-05-11 04:00:34+00:00</td>\n",
       "      <td>Friday</td>\n",
       "    </tr>\n",
       "  </tbody>\n",
       "</table>\n",
       "</div>"
      ],
      "text/plain": [
       "                publish_time_formatted publish_day\n",
       "video_id                                          \n",
       "iILJvqrAQ_w  2018-05-11 04:00:34+00:00      Friday"
      ]
     },
     "execution_count": 998,
     "metadata": {},
     "output_type": "execute_result"
    }
   ],
   "source": [
    "publish_time_iILJvqrAQ_w = result_trend_7_df[['publish_time_formatted', 'publish_day']]\n",
    "publish_time_iILJvqrAQ_w.head(1)"
   ]
  },
  {
   "cell_type": "code",
   "execution_count": 999,
   "metadata": {},
   "outputs": [],
   "source": [
    "result_trend_8_df = cleaned_us_data_df.loc[[\"NBSAQenU2Bk\"]]"
   ]
  },
  {
   "cell_type": "code",
   "execution_count": 1000,
   "metadata": {},
   "outputs": [
    {
     "data": {
      "text/html": [
       "<div>\n",
       "<style scoped>\n",
       "    .dataframe tbody tr th:only-of-type {\n",
       "        vertical-align: middle;\n",
       "    }\n",
       "\n",
       "    .dataframe tbody tr th {\n",
       "        vertical-align: top;\n",
       "    }\n",
       "\n",
       "    .dataframe thead th {\n",
       "        text-align: right;\n",
       "    }\n",
       "</style>\n",
       "<table border=\"1\" class=\"dataframe\">\n",
       "  <thead>\n",
       "    <tr style=\"text-align: right;\">\n",
       "      <th></th>\n",
       "      <th>publish_time_formatted</th>\n",
       "      <th>publish_day</th>\n",
       "    </tr>\n",
       "    <tr>\n",
       "      <th>video_id</th>\n",
       "      <th></th>\n",
       "      <th></th>\n",
       "    </tr>\n",
       "  </thead>\n",
       "  <tbody>\n",
       "    <tr>\n",
       "      <th>NBSAQenU2Bk</th>\n",
       "      <td>2018-05-14 13:00:01+00:00</td>\n",
       "      <td>Monday</td>\n",
       "    </tr>\n",
       "  </tbody>\n",
       "</table>\n",
       "</div>"
      ],
      "text/plain": [
       "                publish_time_formatted publish_day\n",
       "video_id                                          \n",
       "NBSAQenU2Bk  2018-05-14 13:00:01+00:00      Monday"
      ]
     },
     "execution_count": 1000,
     "metadata": {},
     "output_type": "execute_result"
    }
   ],
   "source": [
    "publish_time_NBSAQenU2Bk = result_trend_8_df[['publish_time_formatted', 'publish_day']]\n",
    "publish_time_NBSAQenU2Bk.head(1)"
   ]
  },
  {
   "cell_type": "code",
   "execution_count": 1001,
   "metadata": {},
   "outputs": [],
   "source": [
    "result_trend_9_df = cleaned_us_data_df.loc[[\"vjSohj-Iclc\"]]"
   ]
  },
  {
   "cell_type": "code",
   "execution_count": 1002,
   "metadata": {},
   "outputs": [
    {
     "data": {
      "text/html": [
       "<div>\n",
       "<style scoped>\n",
       "    .dataframe tbody tr th:only-of-type {\n",
       "        vertical-align: middle;\n",
       "    }\n",
       "\n",
       "    .dataframe tbody tr th {\n",
       "        vertical-align: top;\n",
       "    }\n",
       "\n",
       "    .dataframe thead th {\n",
       "        text-align: right;\n",
       "    }\n",
       "</style>\n",
       "<table border=\"1\" class=\"dataframe\">\n",
       "  <thead>\n",
       "    <tr style=\"text-align: right;\">\n",
       "      <th></th>\n",
       "      <th>publish_time_formatted</th>\n",
       "      <th>publish_day</th>\n",
       "    </tr>\n",
       "    <tr>\n",
       "      <th>video_id</th>\n",
       "      <th></th>\n",
       "      <th></th>\n",
       "    </tr>\n",
       "  </thead>\n",
       "  <tbody>\n",
       "    <tr>\n",
       "      <th>vjSohj-Iclc</th>\n",
       "      <td>2018-05-10 19:56:28+00:00</td>\n",
       "      <td>Thursday</td>\n",
       "    </tr>\n",
       "  </tbody>\n",
       "</table>\n",
       "</div>"
      ],
      "text/plain": [
       "                publish_time_formatted publish_day\n",
       "video_id                                          \n",
       "vjSohj-Iclc  2018-05-10 19:56:28+00:00    Thursday"
      ]
     },
     "execution_count": 1002,
     "metadata": {},
     "output_type": "execute_result"
    }
   ],
   "source": [
    "publish_time_vjSohjIclc = result_trend_9_df[['publish_time_formatted', 'publish_day']]\n",
    "publish_time_vjSohjIclc.head(1)"
   ]
  },
  {
   "cell_type": "code",
   "execution_count": 1003,
   "metadata": {},
   "outputs": [],
   "source": [
    "result_trend_10_df = cleaned_us_data_df.loc[[\"ulNswX3If6U\"]]"
   ]
  },
  {
   "cell_type": "code",
   "execution_count": 1004,
   "metadata": {},
   "outputs": [
    {
     "data": {
      "text/html": [
       "<div>\n",
       "<style scoped>\n",
       "    .dataframe tbody tr th:only-of-type {\n",
       "        vertical-align: middle;\n",
       "    }\n",
       "\n",
       "    .dataframe tbody tr th {\n",
       "        vertical-align: top;\n",
       "    }\n",
       "\n",
       "    .dataframe thead th {\n",
       "        text-align: right;\n",
       "    }\n",
       "</style>\n",
       "<table border=\"1\" class=\"dataframe\">\n",
       "  <thead>\n",
       "    <tr style=\"text-align: right;\">\n",
       "      <th></th>\n",
       "      <th>publish_time_formatted</th>\n",
       "      <th>publish_day</th>\n",
       "    </tr>\n",
       "    <tr>\n",
       "      <th>video_id</th>\n",
       "      <th></th>\n",
       "      <th></th>\n",
       "    </tr>\n",
       "  </thead>\n",
       "  <tbody>\n",
       "    <tr>\n",
       "      <th>ulNswX3If6U</th>\n",
       "      <td>2018-05-10 16:00:11+00:00</td>\n",
       "      <td>Thursday</td>\n",
       "    </tr>\n",
       "  </tbody>\n",
       "</table>\n",
       "</div>"
      ],
      "text/plain": [
       "                publish_time_formatted publish_day\n",
       "video_id                                          \n",
       "ulNswX3If6U  2018-05-10 16:00:11+00:00    Thursday"
      ]
     },
     "execution_count": 1004,
     "metadata": {},
     "output_type": "execute_result"
    }
   ],
   "source": [
    "publish_time_ulNswX3If6U = result_trend_10_df[['publish_time_formatted', 'publish_day']]\n",
    "publish_time_ulNswX3If6U.head(1)"
   ]
  },
  {
   "cell_type": "code",
   "execution_count": 1005,
   "metadata": {},
   "outputs": [],
   "source": [
    "publish_time_day_df = cleaned_us_data_df.groupby([\"video_id\"])\n",
    "# publish_time_day_df.reset_index(inplace=True)\n",
    "# publish_time_day_df[\"trending_date\"].count()"
   ]
  },
  {
   "cell_type": "code",
   "execution_count": 1006,
   "metadata": {},
   "outputs": [
    {
     "data": {
      "text/html": [
       "<div>\n",
       "<style scoped>\n",
       "    .dataframe tbody tr th:only-of-type {\n",
       "        vertical-align: middle;\n",
       "    }\n",
       "\n",
       "    .dataframe tbody tr th {\n",
       "        vertical-align: top;\n",
       "    }\n",
       "\n",
       "    .dataframe thead th {\n",
       "        text-align: right;\n",
       "    }\n",
       "</style>\n",
       "<table border=\"1\" class=\"dataframe\">\n",
       "  <thead>\n",
       "    <tr style=\"text-align: right;\">\n",
       "      <th></th>\n",
       "      <th>publish_time_formatted</th>\n",
       "      <th>publish_day</th>\n",
       "      <th>publish_month</th>\n",
       "    </tr>\n",
       "    <tr>\n",
       "      <th>video_id</th>\n",
       "      <th></th>\n",
       "      <th></th>\n",
       "      <th></th>\n",
       "    </tr>\n",
       "  </thead>\n",
       "  <tbody>\n",
       "    <tr>\n",
       "      <th>2kyS6SvSYSE</th>\n",
       "      <td>2017-11-13 17:13:01+00:00</td>\n",
       "      <td>Monday</td>\n",
       "      <td>November</td>\n",
       "    </tr>\n",
       "    <tr>\n",
       "      <th>1ZAPwfrtAFY</th>\n",
       "      <td>2017-11-13 07:30:00+00:00</td>\n",
       "      <td>Monday</td>\n",
       "      <td>November</td>\n",
       "    </tr>\n",
       "    <tr>\n",
       "      <th>5qpjK5DgCt4</th>\n",
       "      <td>2017-11-12 19:05:24+00:00</td>\n",
       "      <td>Sunday</td>\n",
       "      <td>November</td>\n",
       "    </tr>\n",
       "    <tr>\n",
       "      <th>puqaWrEC7tY</th>\n",
       "      <td>2017-11-13 11:00:04+00:00</td>\n",
       "      <td>Monday</td>\n",
       "      <td>November</td>\n",
       "    </tr>\n",
       "    <tr>\n",
       "      <th>d380meD0W0M</th>\n",
       "      <td>2017-11-12 18:01:41+00:00</td>\n",
       "      <td>Sunday</td>\n",
       "      <td>November</td>\n",
       "    </tr>\n",
       "    <tr>\n",
       "      <th>...</th>\n",
       "      <td>...</td>\n",
       "      <td>...</td>\n",
       "      <td>...</td>\n",
       "    </tr>\n",
       "    <tr>\n",
       "      <th>X9fHoWLf1w0</th>\n",
       "      <td>2018-05-26 16:00:04+00:00</td>\n",
       "      <td>Saturday</td>\n",
       "      <td>May</td>\n",
       "    </tr>\n",
       "    <tr>\n",
       "      <th>tiF9SzzzX_o</th>\n",
       "      <td>2018-05-22 02:34:39+00:00</td>\n",
       "      <td>Tuesday</td>\n",
       "      <td>May</td>\n",
       "    </tr>\n",
       "    <tr>\n",
       "      <th>Gs26bZTRkdU</th>\n",
       "      <td>2018-05-20 21:00:00+00:00</td>\n",
       "      <td>Sunday</td>\n",
       "      <td>May</td>\n",
       "    </tr>\n",
       "    <tr>\n",
       "      <th>_QWZvU7VCn8</th>\n",
       "      <td>2018-05-18 17:13:08+00:00</td>\n",
       "      <td>Friday</td>\n",
       "      <td>May</td>\n",
       "    </tr>\n",
       "    <tr>\n",
       "      <th>oV0zkMe1K8s</th>\n",
       "      <td>2018-05-17 17:00:04+00:00</td>\n",
       "      <td>Thursday</td>\n",
       "      <td>May</td>\n",
       "    </tr>\n",
       "  </tbody>\n",
       "</table>\n",
       "<p>39449 rows × 3 columns</p>\n",
       "</div>"
      ],
      "text/plain": [
       "                publish_time_formatted publish_day publish_month\n",
       "video_id                                                        \n",
       "2kyS6SvSYSE  2017-11-13 17:13:01+00:00      Monday      November\n",
       "1ZAPwfrtAFY  2017-11-13 07:30:00+00:00      Monday      November\n",
       "5qpjK5DgCt4  2017-11-12 19:05:24+00:00      Sunday      November\n",
       "puqaWrEC7tY  2017-11-13 11:00:04+00:00      Monday      November\n",
       "d380meD0W0M  2017-11-12 18:01:41+00:00      Sunday      November\n",
       "...                                ...         ...           ...\n",
       "X9fHoWLf1w0  2018-05-26 16:00:04+00:00    Saturday           May\n",
       "tiF9SzzzX_o  2018-05-22 02:34:39+00:00     Tuesday           May\n",
       "Gs26bZTRkdU  2018-05-20 21:00:00+00:00      Sunday           May\n",
       "_QWZvU7VCn8  2018-05-18 17:13:08+00:00      Friday           May\n",
       "oV0zkMe1K8s  2018-05-17 17:00:04+00:00    Thursday           May\n",
       "\n",
       "[39449 rows x 3 columns]"
      ]
     },
     "execution_count": 1006,
     "metadata": {},
     "output_type": "execute_result"
    }
   ],
   "source": [
    "publish_df = publish_time_day_df[['publish_time_formatted', 'publish_day', 'publish_month']]\n",
    "publish_df.head(15)"
   ]
  },
  {
   "cell_type": "code",
   "execution_count": 1007,
   "metadata": {},
   "outputs": [
    {
     "data": {
      "text/plain": [
       "video_id\n",
       "2kyS6SvSYSE    2017-11-13 17:13:01+00:00\n",
       "1ZAPwfrtAFY    2017-11-13 07:30:00+00:00\n",
       "5qpjK5DgCt4    2017-11-12 19:05:24+00:00\n",
       "puqaWrEC7tY    2017-11-13 11:00:04+00:00\n",
       "d380meD0W0M    2017-11-12 18:01:41+00:00\n",
       "                         ...            \n",
       "BZt0qjTWNhw    2018-05-18 13:00:04+00:00\n",
       "1h7KV2sjUWY    2018-05-18 01:00:06+00:00\n",
       "D6Oy4LfoqsU    2018-05-18 17:34:22+00:00\n",
       "oV0zkMe1K8s    2018-05-17 17:00:04+00:00\n",
       "ooyjaVdt-jA    2018-05-17 17:09:38+00:00\n",
       "Name: publish_time_formatted, Length: 40892, dtype: object"
      ]
     },
     "execution_count": 1007,
     "metadata": {},
     "output_type": "execute_result"
    }
   ],
   "source": [
    "cleaned_us_data_df[\"publish_time_formatted\"]"
   ]
  }
 ],
 "metadata": {
  "kernelspec": {
   "display_name": "PythonData",
   "language": "python",
   "name": "python3"
  },
  "language_info": {
   "codemirror_mode": {
    "name": "ipython",
    "version": 3
   },
   "file_extension": ".py",
   "mimetype": "text/x-python",
   "name": "python",
   "nbconvert_exporter": "python",
   "pygments_lexer": "ipython3",
   "version": "3.7.7"
  },
  "orig_nbformat": 4,
  "vscode": {
   "interpreter": {
    "hash": "7db2a412b11edafb391183ba42ce38835c9a015e2a8dbcaea088651dc9739e2d"
   }
  }
 },
 "nbformat": 4,
 "nbformat_minor": 2
}
