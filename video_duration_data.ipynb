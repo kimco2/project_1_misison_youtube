{
 "cells": [
  {
   "cell_type": "code",
   "execution_count": 1,
   "metadata": {},
   "outputs": [],
   "source": [
    "# !pip install --upgrade google-api-python-client google-auth-httplib2 google-auth-oauthlib"
   ]
  },
  {
   "cell_type": "code",
   "execution_count": 2,
   "metadata": {},
   "outputs": [],
   "source": [
    "import os\n",
    "import pandas as pd\n",
    "import numpy as np\n",
    "import matplotlib.pyplot as plt\n",
    "import isodate\n",
    "import scipy.stats as st\n",
    "from googleapiclient.discovery import build\n",
    "from api_keys import api_key"
   ]
  },
  {
   "cell_type": "code",
   "execution_count": 3,
   "metadata": {},
   "outputs": [],
   "source": [
    "# Reading in the datafile\n",
    "cleaned_us_data_df = pd.read_csv('output/cleaned_us_data.csv')"
   ]
  },
  {
   "cell_type": "code",
   "execution_count": 4,
   "metadata": {},
   "outputs": [],
   "source": [
    "# Obtaining the unique video_ids to use in the API call\n",
    "unique_video_id_list = cleaned_us_data_df.drop_duplicates(subset=['video_id'])\n",
    "unique_video_id_list = unique_video_id_list['video_id']\n",
    "\n",
    "# Saving it to a dataframe so I can put the video_ids into a list format\n",
    "unique_video_id_list_df = pd.DataFrame(unique_video_id_list)\n",
    "\n",
    "# Creating a list of the video_id's to use in the API call\n",
    "unique_video_id_list = unique_video_id_list_df['video_id'].tolist()"
   ]
  },
  {
   "cell_type": "code",
   "execution_count": 5,
   "metadata": {},
   "outputs": [],
   "source": [
    "# Running the youtube API and pulling back the video_id and duration\n",
    "API_KEY = api_key\n",
    "channel_id = \"UC8JOgFXp-I3YV6dsKqqQdUw\"\n",
    "youtube = build('youtube', 'v3', developerKey=API_KEY)\n",
    "\n",
    "stats_list=[]\n",
    "    \n",
    "for i in range(0, len(unique_video_id_list), 50):\n",
    "    request = youtube.videos().list(\n",
    "    part=\"snippet,contentDetails,statistics\",\n",
    "    id=unique_video_id_list[i:i+50]\n",
    "    )\n",
    "    \n",
    "    try:\n",
    "        data = request.execute()\n",
    " \n",
    "        for video in data['items']:\n",
    "            video_id = video['id']\n",
    "            duration = (video['contentDetails']['duration'])\n",
    "            stats_dictionary = dict(video_id=video_id, duration=''.join(duration))\n",
    "            stats_list.append(stats_dictionary)\n",
    "    \n",
    "    except:\n",
    "        pass\n",
    "\n",
    "# Saving output to dataframe and a csv file\n",
    "video_length_df = pd.DataFrame(stats_list)\n",
    "video_length_csv = video_length_df.to_csv('output/video_length.csv', index=False, header=True)"
   ]
  },
  {
   "cell_type": "code",
   "execution_count": 23,
   "metadata": {},
   "outputs": [
    {
     "name": "stdout",
     "output_type": "stream",
     "text": [
      "<class 'pandas.core.frame.DataFrame'>\n",
      "RangeIndex: 5798 entries, 0 to 5797\n",
      "Data columns (total 2 columns):\n",
      " #   Column    Non-Null Count  Dtype \n",
      "---  ------    --------------  ----- \n",
      " 0   video_id  5798 non-null   object\n",
      " 1   duration  5798 non-null   object\n",
      "dtypes: object(2)\n",
      "memory usage: 90.7+ KB\n"
     ]
    }
   ],
   "source": [
    "# Read in csv file and checking file\n",
    "video_length_df = pd.read_csv('output/video_length.csv')\n",
    "video_length_df.info()"
   ]
  },
  {
   "cell_type": "code",
   "execution_count": 24,
   "metadata": {},
   "outputs": [],
   "source": [
    "# Merging the duration data into the main data file\n",
    "duration_data_df = pd.merge(cleaned_us_data_df, video_length_df, on='video_id',how='left')"
   ]
  },
  {
   "cell_type": "code",
   "execution_count": 25,
   "metadata": {},
   "outputs": [],
   "source": [
    "# Dropping rows that do not have a youtube duration\n",
    "duration_data_df = duration_data_df.dropna(how='any', subset=['duration'])"
   ]
  },
  {
   "cell_type": "code",
   "execution_count": 26,
   "metadata": {},
   "outputs": [],
   "source": [
    "# Converting youtube video duration into seconds\n",
    "duration_seconds_list = []\n",
    "\n",
    "for video in duration_data_df['duration']:\n",
    "    dur = isodate.parse_duration(video)\n",
    "    dur_seconds = dur.total_seconds()\n",
    "    duration_seconds_list.append(dur_seconds)\n",
    "\n",
    "# Saving it to a column in the dataframe\n",
    "duration_data_df['duration_seconds'] = duration_seconds_list"
   ]
  },
  {
   "cell_type": "code",
   "execution_count": 27,
   "metadata": {},
   "outputs": [
    {
     "data": {
      "text/plain": [
       "(5798, 29)"
      ]
     },
     "execution_count": 27,
     "metadata": {},
     "output_type": "execute_result"
    }
   ],
   "source": [
    "# Filtering rows so we only get the lastest trending date row for each video\n",
    "\n",
    "# Changing trending_date to date format it can be sorted by date\n",
    "unique_video_id_duration = pd.to_datetime(duration_data_df['trending_date'], format='%y.%d.%m')\n",
    "\n",
    "# Sorting the dataframe by trending_date in ascending order\n",
    "unique_video_id_duration = duration_data_df.sort_values(by='trending_date', ascending=True)\n",
    "\n",
    "# Taking the last row for each video_id\n",
    "unique_video_id_duration = duration_data_df.groupby('video_id').last()\n",
    "unique_video_id_duration.reset_index(inplace = True)\n",
    "\n",
    "unique_video_id_duration.shape"
   ]
  },
  {
   "cell_type": "code",
   "execution_count": 28,
   "metadata": {},
   "outputs": [
    {
     "data": {
      "text/plain": [
       "(5797, 29)"
      ]
     },
     "execution_count": 28,
     "metadata": {},
     "output_type": "execute_result"
    }
   ],
   "source": [
    "# Removing video id d-73-Cr0tQs as there was an issue with the duration provided by youtube, it returned the value 'P0D' - from which the duration is not able to be calculated\n",
    "unique_video_id_duration = unique_video_id_duration.loc[unique_video_id_duration['video_id'] != 'd-73-Cr0tQs' ]\n",
    "unique_video_id_duration.shape"
   ]
  },
  {
   "cell_type": "code",
   "execution_count": 29,
   "metadata": {},
   "outputs": [
    {
     "name": "stdout",
     "output_type": "stream",
     "text": [
      "The correlation between both factors is -0.01\n"
     ]
    },
    {
     "data": {
      "image/png": "[encoded data removed]",
      "text/plain": [
       "<Figure size 432x288 with 1 Axes>"
      ]
     },
     "metadata": {
      "needs_background": "light"
     },
     "output_type": "display_data"
    },
    {
     "data": {
      "text/plain": [
       "<Figure size 7200x7200 with 0 Axes>"
      ]
     },
     "metadata": {},
     "output_type": "display_data"
    }
   ],
   "source": [
    "# Creating a scatter plot of video duration and number of views\n",
    "x_axis = unique_video_id_duration['duration_seconds']\n",
    "data = unique_video_id_duration['views']\n",
    "plt.scatter(x_axis, data, marker=\"o\", facecolors=\"lightskyblue\", edgecolors=\"blue\", alpha=0.75)\n",
    "plt.ylim()\n",
    "plt.xlim()\n",
    "plt.xlabel(\"video duration in seconds\")\n",
    "plt.ylabel(\"number of views\")\n",
    "plt.title(\"video length (seconds) by views\")\n",
    "plt.figure(figsize=(100,100));\n",
    "correlation = st.pearsonr(x_axis, data)\n",
    "print(f\"The correlation between both factors is {round(correlation[0],2)}\")"
   ]
  },
  {
   "cell_type": "code",
   "execution_count": 30,
   "metadata": {},
   "outputs": [
    {
     "name": "stdout",
     "output_type": "stream",
     "text": [
      "The lower quartile is: 166.00\n",
      "The upper quartile is: 545.00\n",
      "The interquartile  is: 379.00\n",
      "The the median is: 283.00 \n",
      "Values below -402.50 could be outliers.\n",
      "Values above 1113.50 could be outliers.\n",
      "\n"
     ]
    }
   ],
   "source": [
    "# All unique videos - computing quantiles for video duration in seconds - for all unique videos youtube had a duration for (some did not return a duration as video could no longer be found)\n",
    "duration_unique_videos = unique_video_id_duration['duration_seconds']\n",
    "\n",
    "quartiles = duration_unique_videos.quantile([.25,.5,.75])\n",
    "lowerq = quartiles[0.25]\n",
    "upperq = quartiles[0.75]\n",
    "iqr = upperq-lowerq\n",
    "\n",
    "# Printing out the relevant information\n",
    "print(f\"The lower quartile is: {lowerq:.2f}\")\n",
    "print(f\"The upper quartile is: {upperq:.2f}\")\n",
    "print(f\"The interquartile  is: {iqr:.2f}\")\n",
    "print(f\"The the median is: {quartiles[0.5]:.2f} \")\n",
    "\n",
    "lower_bound = lowerq - (1.5*iqr)\n",
    "upper_bound = upperq + (1.5*iqr)\n",
    "print(f\"Values below {lower_bound:.2f} could be outliers.\")\n",
    "print(f\"Values above {upper_bound:.2f} could be outliers.\")\n",
    "print()"
   ]
  },
  {
   "cell_type": "code",
   "execution_count": 31,
   "metadata": {},
   "outputs": [
    {
     "data": {
      "text/plain": [
       "(5797,)"
      ]
     },
     "execution_count": 31,
     "metadata": {},
     "output_type": "execute_result"
    }
   ],
   "source": [
    "duration_unique_videos.shape"
   ]
  },
  {
   "cell_type": "code",
   "execution_count": 32,
   "metadata": {},
   "outputs": [
    {
     "data": {
      "image/png": "[encoded data removed]",
      "text/plain": [
       "<Figure size 432x288 with 1 Axes>"
      ]
     },
     "metadata": {
      "needs_background": "light"
     },
     "output_type": "display_data"
    }
   ],
   "source": [
    "# All unqiue videos - Box plot of video duration (in seconds)\n",
    "duration_unique_videos = unique_video_id_duration['duration_seconds']\n",
    "\n",
    "fig1, ax1 = plt.subplots()\n",
    "ax1.set_title('Video duration of trending videos')\n",
    "ax1.set_ylabel('Video duration (seconds)')\n",
    "ax1.boxplot(duration_unique_videos)\n",
    "plt.show()"
   ]
  },
  {
   "cell_type": "code",
   "execution_count": 33,
   "metadata": {},
   "outputs": [
    {
     "data": {
      "image/png": "[encoded data removed]",
      "text/plain": [
       "<Figure size 432x288 with 1 Axes>"
      ]
     },
     "metadata": {
      "needs_background": "light"
     },
     "output_type": "display_data"
    }
   ],
   "source": [
    "# All unqiue videos - Histogram of video duration in seconds\n",
    "duration_unique_videos = unique_video_id_duration['duration_seconds']\n",
    "plt.hist(duration_unique_videos, color='lightpink', edgecolor='white')\n",
    "plt.xlabel('Video duration (seconds)', fontsize=12)\n",
    "plt.ylabel('Number of videos', fontsize=12)\n",
    "plt.show()"
   ]
  },
  {
   "cell_type": "code",
   "execution_count": 41,
   "metadata": {},
   "outputs": [
    {
     "data": {
      "image/png": "[encoded data removed]",
      "text/plain": [
       "<Figure size 432x288 with 1 Axes>"
      ]
     },
     "metadata": {
      "needs_background": "light"
     },
     "output_type": "display_data"
    }
   ],
   "source": [
    "# All unique videos -  Histogram of video duration in seconds - remvoing those that have a duration greater than 2,000 seconds so that we can see the histogram in more detail\n",
    "video_duration_filtered = unique_video_id_duration.loc[unique_video_id_duration['duration_seconds'] <2000]\n",
    "video_duration_filtered =video_duration_filtered['duration_seconds']\n",
    "plt.hist(video_duration_filtered, color='lightpink', edgecolor='white')\n",
    "plt.xlabel('Video duration (seconds)', fontsize=12)\n",
    "plt.ylabel('Number of videos', fontsize=12)\n",
    "plt.xlim([0,2000])\n",
    "plt.title('Video duration of unique trending videos (in seconds)')\n",
    "plt.gcf\n",
    "plt.savefig(\"ImagesObj4/Fig1Duration.png\", dpi=100)\n",
    "plt.show()"
   ]
  },
  {
   "cell_type": "code",
   "execution_count": 37,
   "metadata": {},
   "outputs": [
    {
     "data": {
      "text/plain": [
       "(5635,)"
      ]
     },
     "execution_count": 37,
     "metadata": {},
     "output_type": "execute_result"
    }
   ],
   "source": [
    "video_duration_filtered.shape"
   ]
  },
  {
   "cell_type": "code",
   "execution_count": 38,
   "metadata": {},
   "outputs": [
    {
     "name": "stdout",
     "output_type": "stream",
     "text": [
      "The lower quartile of Entertainment is: 146.00\n",
      "The upper quartile of Entertainment is: 571.75\n",
      "The interquartile range of Entertainment is: 425.75\n",
      "The the median of Entertainment is: 328.00 \n",
      "Values below -492.62 could be outliers.\n",
      "Values above 1210.38 could be outliers.\n",
      "\n",
      "The lower quartile of Comedy is: 181.00\n",
      "The upper quartile of Comedy is: 389.00\n",
      "The interquartile range of Comedy is: 208.00\n",
      "The the median of Comedy is: 272.00 \n",
      "Values below -131.00 could be outliers.\n",
      "Values above 701.00 could be outliers.\n",
      "\n",
      "The lower quartile of People & Blogs is: 192.75\n",
      "The upper quartile of People & Blogs is: 665.25\n",
      "The interquartile range of People & Blogs is: 472.50\n",
      "The the median of People & Blogs is: 383.00 \n",
      "Values below -516.00 could be outliers.\n",
      "Values above 1374.00 could be outliers.\n",
      "\n",
      "The lower quartile of Education is: 235.50\n",
      "The upper quartile of Education is: 585.75\n",
      "The interquartile range of Education is: 350.25\n",
      "The the median of Education is: 332.00 \n",
      "Values below -289.88 could be outliers.\n",
      "Values above 1111.12 could be outliers.\n",
      "\n",
      "The lower quartile of Music is: 196.00\n",
      "The upper quartile of Music is: 256.00\n",
      "The interquartile range of Music is: 60.00\n",
      "The the median of Music is: 222.00 \n",
      "Values below 106.00 could be outliers.\n",
      "Values above 346.00 could be outliers.\n",
      "\n",
      "The lower quartile of News & Politics is: 89.25\n",
      "The upper quartile of News & Politics is: 394.25\n",
      "The interquartile range of News & Politics is: 305.00\n",
      "The the median of News & Politics is: 194.00 \n",
      "Values below -368.25 could be outliers.\n",
      "Values above 851.75 could be outliers.\n",
      "\n",
      "The lower quartile of Sports is: 144.75\n",
      "The upper quartile of Sports is: 417.75\n",
      "The interquartile range of Sports is: 273.00\n",
      "The the median of Sports is: 256.00 \n",
      "Values below -264.75 could be outliers.\n",
      "Values above 827.25 could be outliers.\n",
      "\n",
      "The lower quartile of Howto & Style is: 362.00\n",
      "The upper quartile of Howto & Style is: 922.00\n",
      "The interquartile range of Howto & Style is: 560.00\n",
      "The the median of Howto & Style is: 605.00 \n",
      "Values below -478.00 could be outliers.\n",
      "Values above 1762.00 could be outliers.\n",
      "\n",
      "The lower quartile of Science & Technology is: 217.00\n",
      "The upper quartile of Science & Technology is: 667.00\n",
      "The interquartile range of Science & Technology is: 450.00\n",
      "The the median of Science & Technology is: 440.00 \n",
      "Values below -458.00 could be outliers.\n",
      "Values above 1342.00 could be outliers.\n",
      "\n",
      "The lower quartile of Pets & Animals is: 103.00\n",
      "The upper quartile of Pets & Animals is: 360.00\n",
      "The interquartile range of Pets & Animals is: 257.00\n",
      "The the median of Pets & Animals is: 157.00 \n",
      "Values below -282.50 could be outliers.\n",
      "Values above 745.50 could be outliers.\n",
      "\n",
      "The lower quartile of Film & Animation is: 124.50\n",
      "The upper quartile of Film & Animation is: 460.75\n",
      "The interquartile range of Film & Animation is: 336.25\n",
      "The the median of Film & Animation is: 202.00 \n",
      "Values below -379.88 could be outliers.\n",
      "Values above 965.12 could be outliers.\n",
      "\n",
      "The lower quartile of Gaming is: 76.00\n",
      "The upper quartile of Gaming is: 744.00\n",
      "The interquartile range of Gaming is: 668.00\n",
      "The the median of Gaming is: 211.00 \n",
      "Values below -926.00 could be outliers.\n",
      "Values above 1746.00 could be outliers.\n",
      "\n",
      "The lower quartile of Autos & Vehicles is: 76.00\n",
      "The upper quartile of Autos & Vehicles is: 579.00\n",
      "The interquartile range of Autos & Vehicles is: 503.00\n",
      "The the median of Autos & Vehicles is: 266.00 \n",
      "Values below -678.50 could be outliers.\n",
      "Values above 1333.50 could be outliers.\n",
      "\n",
      "The lower quartile of Travel & Events is: 142.00\n",
      "The upper quartile of Travel & Events is: 835.00\n",
      "The interquartile range of Travel & Events is: 693.00\n",
      "The the median of Travel & Events is: 206.00 \n",
      "Values below -897.50 could be outliers.\n",
      "Values above 1874.50 could be outliers.\n",
      "\n",
      "The lower quartile of Nonprofits & Activism is: 153.00\n",
      "The upper quartile of Nonprofits & Activism is: 637.50\n",
      "The interquartile range of Nonprofits & Activism is: 484.50\n",
      "The the median of Nonprofits & Activism is: 239.00 \n",
      "Values below -573.75 could be outliers.\n",
      "Values above 1364.25 could be outliers.\n",
      "\n"
     ]
    }
   ],
   "source": [
    "# Calculating quartiles for all categories\n",
    "category_list = unique_video_id_duration['category_name'].unique()\n",
    "video_duration_data = []\n",
    "\n",
    "for name in category_list:\n",
    "    duration_data = unique_video_id_duration.loc[unique_video_id_duration[\"category_name\"] == name, \"duration_seconds\"]\n",
    "    video_duration_data.append(duration_data)\n",
    "    \n",
    "    # Using pandas for the quartile calculations\n",
    "    quartiles = duration_data.quantile([.25,.5,.75])\n",
    "    lowerq = quartiles[0.25]\n",
    "    upperq = quartiles[0.75]\n",
    "    iqr = upperq-lowerq\n",
    "\n",
    "    # Printing out the relevant information\n",
    "    print(f\"The lower quartile of {name} is: {lowerq:.2f}\")\n",
    "    print(f\"The upper quartile of {name} is: {upperq:.2f}\")\n",
    "    print(f\"The interquartile range of {name} is: {iqr:.2f}\")\n",
    "    print(f\"The the median of {name} is: {quartiles[0.5]:.2f} \")\n",
    "\n",
    "    lower_bound = lowerq - (1.5*iqr)\n",
    "    upper_bound = upperq + (1.5*iqr)\n",
    "    print(f\"Values below {lower_bound:.2f} could be outliers.\")\n",
    "    print(f\"Values above {upper_bound:.2f} could be outliers.\")\n",
    "    print()"
   ]
  },
  {
   "cell_type": "code",
   "execution_count": 42,
   "metadata": {},
   "outputs": [
    {
     "name": "stdout",
     "output_type": "stream",
     "text": [
      "            category_name  median_duration_seconds\n",
      "11         Pets & Animals                    157.0\n",
      "8         News & Politics                    194.0\n",
      "4        Film & Animation                    202.0\n",
      "14        Travel & Events                    206.0\n",
      "5                  Gaming                    211.0\n",
      "7                   Music                    222.0\n",
      "9   Nonprofits & Activism                    239.0\n",
      "13                 Sports                    256.0\n",
      "0        Autos & Vehicles                    266.0\n",
      "1                  Comedy                    272.0\n",
      "3           Entertainment                    328.0\n",
      "2               Education                    332.0\n",
      "10         People & Blogs                    383.0\n",
      "12   Science & Technology                    440.0\n",
      "6           Howto & Style                    605.0\n"
     ]
    },
    {
     "data": {
      "image/png": "[encoded data removed]",
      "text/plain": [
       "<Figure size 432x288 with 1 Axes>"
      ]
     },
     "metadata": {
      "needs_background": "light"
     },
     "output_type": "display_data"
    }
   ],
   "source": [
    "## Calculating and charting median video duration for all categories in a bar plot ##\n",
    "\n",
    "# Getting the median video duration in seconds for each category\n",
    "median_video_duration = unique_video_id_duration.groupby('category_name').median()['duration_seconds']\n",
    "\n",
    "# Saving it to a dataframe and changing the name of a column\n",
    "df_median_video_duration = pd.DataFrame(median_video_duration)\n",
    "df_median_video_duration.reset_index(inplace=True)\n",
    "df_median_video_duration.rename(columns = {'duration_seconds':'median_duration_seconds'}, inplace=True)\n",
    "\n",
    "\n",
    "# Sorting values in ascending order of median video duration\n",
    "category_median_video_duration = df_median_video_duration.sort_values('median_duration_seconds', ascending=True)\n",
    "print(category_median_video_duration)\n",
    "\n",
    "# Charting the bar plot, saving it and printing it\n",
    "x_axis = category_median_video_duration['category_name']\n",
    "counts = category_median_video_duration['median_duration_seconds']\n",
    "plt.barh(x_axis, counts, color=\"lightpink\", align=\"center\")\n",
    "plt.xlabel('Video duration (in seconds)')\n",
    "plt.title('Median video duration (in seconds) for each category')\n",
    "plt.gcf\n",
    "plt.savefig(\"ImagesObj4/Fig2Duration.png\", dpi=200)\n",
    "plt.show()\n",
    "\n"
   ]
  },
  {
   "cell_type": "code",
   "execution_count": 21,
   "metadata": {},
   "outputs": [
    {
     "data": {
      "image/png": "[encoded data removed]",
      "text/plain": [
       "<Figure size 432x288 with 1 Axes>"
      ]
     },
     "metadata": {
      "needs_background": "light"
     },
     "output_type": "display_data"
    },
    {
     "data": {
      "image/png": "[encoded data removed]",
      "text/plain": [
       "<Figure size 432x288 with 1 Axes>"
      ]
     },
     "metadata": {
      "needs_background": "light"
     },
     "output_type": "display_data"
    }
   ],
   "source": [
    "### Howto & Style analysis ###\n",
    "\n",
    "# Box plot of video duration (in seconds)\n",
    "howtostyle_videos = unique_video_id_duration.loc[unique_video_id_duration['category_name'] == 'Howto & Style']\n",
    "howtostyle_duration = howtostyle_videos['duration_seconds']\n",
    "fig1, ax1 = plt.subplots()\n",
    "ax1.set_title('Video duration of trending videos')\n",
    "ax1.set_ylabel('Video duration (seconds)')\n",
    "plt.ylim(0,10000)\n",
    "ax1.boxplot(howtostyle_duration)\n",
    "plt.show()\n",
    "\n",
    "# Histogram of video duration in seconds\n",
    "howtostyle_videos_filtered = unique_video_id_duration.loc[(unique_video_id_duration['category_name'] == 'Howto & Style') & (unique_video_id_duration['duration_seconds'] <2000)]\n",
    "howtostyle_video_filtered = howtostyle_videos_filtered['duration_seconds']\n",
    "plt.hist(howtostyle_video_filtered)\n",
    "plt.xlabel('Video duration (seconds)')\n",
    "plt.ylabel('Counts')\n",
    "plt.show()"
   ]
  },
  {
   "cell_type": "code",
   "execution_count": 22,
   "metadata": {},
   "outputs": [
    {
     "data": {
      "image/png": "[encoded data removed]",
      "text/plain": [
       "<Figure size 432x288 with 1 Axes>"
      ]
     },
     "metadata": {
      "needs_background": "light"
     },
     "output_type": "display_data"
    },
    {
     "data": {
      "image/png": "[encoded data removed]",
      "text/plain": [
       "<Figure size 432x288 with 1 Axes>"
      ]
     },
     "metadata": {
      "needs_background": "light"
     },
     "output_type": "display_data"
    }
   ],
   "source": [
    "### Entertainment analysis ###\n",
    "\n",
    "# Box plot of video duration (in seconds)\n",
    "entertainment_videos = unique_video_id_duration.loc[unique_video_id_duration['category_name'] == 'Entertainment']\n",
    "entertainment_duration = entertainment_videos['duration_seconds']\n",
    "fig1, ax1 = plt.subplots()\n",
    "ax1.set_title('Video duration of trending videos')\n",
    "ax1.set_ylabel('Video duration (seconds)')\n",
    "plt.ylim(0,10000)\n",
    "ax1.boxplot(entertainment_duration)\n",
    "plt.show()\n",
    "\n",
    "# Histogram of video duration in seconds\n",
    "entertainment_videos_filtered = unique_video_id_duration.loc[(unique_video_id_duration['category_name'] == 'Entertainment') & (unique_video_id_duration['duration_seconds'] <2000)]\n",
    "entertainment_video_filtered = entertainment_videos_filtered['duration_seconds']\n",
    "plt.hist(entertainment_video_filtered)\n",
    "plt.xlabel('Video duration (seconds)')\n",
    "plt.ylabel('Counts')\n",
    "plt.show()"
   ]
  }
 ],
 "metadata": {
  "kernelspec": {
   "display_name": "PythonData",
   "language": "python",
   "name": "python3"
  },
  "language_info": {
   "codemirror_mode": {
    "name": "ipython",
    "version": 3
   },
   "file_extension": ".py",
   "mimetype": "text/x-python",
   "name": "python",
   "nbconvert_exporter": "python",
   "pygments_lexer": "ipython3",
   "version": "3.7.7"
  },
  "orig_nbformat": 4,
  "vscode": {
   "interpreter": {
    "hash": "36caff6c9c02ddf9c80bf3a47b52dcc003663f4f02b1c64a29eab689b8ef0ba0"
   }
  }
 },
 "nbformat": 4,
 "nbformat_minor": 2
}
